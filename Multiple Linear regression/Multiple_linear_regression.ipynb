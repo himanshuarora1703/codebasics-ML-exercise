{
  "nbformat": 4,
  "nbformat_minor": 0,
  "metadata": {
    "colab": {
      "provenance": [],
      "authorship_tag": "ABX9TyNi3zb4R80pELVKOsap1ZZU",
      "include_colab_link": true
    },
    "kernelspec": {
      "name": "python3",
      "display_name": "Python 3"
    },
    "language_info": {
      "name": "python"
    }
  },
  "cells": [
    {
      "cell_type": "markdown",
      "metadata": {
        "id": "view-in-github",
        "colab_type": "text"
      },
      "source": [
        "<a href=\"https://colab.research.google.com/github/himanshuarora1703/codebasics-ML-exercise/blob/main/Multiple%20Linear%20regression/Multiple_linear_regression.ipynb\" target=\"_parent\"><img src=\"https://colab.research.google.com/assets/colab-badge.svg\" alt=\"Open In Colab\"/></a>"
      ]
    },
    {
      "cell_type": "code",
      "execution_count": 1,
      "metadata": {
        "id": "rYaDfHlgSUHU"
      },
      "outputs": [],
      "source": [
        "import pandas as pd\n",
        "import numpy as np\n",
        "import matplotlib.pyplot as plt"
      ]
    },
    {
      "cell_type": "code",
      "source": [
        "df = pd.read_csv('/content/hiring.csv')\n",
        "df"
      ],
      "metadata": {
        "colab": {
          "base_uri": "https://localhost:8080/",
          "height": 300
        },
        "id": "HAlLyl6SS1k5",
        "outputId": "ce00a317-c0f9-4a7f-b441-a692d826de71"
      },
      "execution_count": 3,
      "outputs": [
        {
          "output_type": "execute_result",
          "data": {
            "text/plain": [
              "  experience  test_score(out of 10)  interview_score(out of 10)  salary($)\n",
              "0        NaN                    8.0                           9      50000\n",
              "1        NaN                    8.0                           6      45000\n",
              "2       five                    6.0                           7      60000\n",
              "3        two                   10.0                          10      65000\n",
              "4      seven                    9.0                           6      70000\n",
              "5      three                    7.0                          10      62000\n",
              "6        ten                    NaN                           7      72000\n",
              "7     eleven                    7.0                           8      80000"
            ],
            "text/html": [
              "\n",
              "  <div id=\"df-277375cd-4b9e-49ef-a2a6-1bebd4cc793e\">\n",
              "    <div class=\"colab-df-container\">\n",
              "      <div>\n",
              "<style scoped>\n",
              "    .dataframe tbody tr th:only-of-type {\n",
              "        vertical-align: middle;\n",
              "    }\n",
              "\n",
              "    .dataframe tbody tr th {\n",
              "        vertical-align: top;\n",
              "    }\n",
              "\n",
              "    .dataframe thead th {\n",
              "        text-align: right;\n",
              "    }\n",
              "</style>\n",
              "<table border=\"1\" class=\"dataframe\">\n",
              "  <thead>\n",
              "    <tr style=\"text-align: right;\">\n",
              "      <th></th>\n",
              "      <th>experience</th>\n",
              "      <th>test_score(out of 10)</th>\n",
              "      <th>interview_score(out of 10)</th>\n",
              "      <th>salary($)</th>\n",
              "    </tr>\n",
              "  </thead>\n",
              "  <tbody>\n",
              "    <tr>\n",
              "      <th>0</th>\n",
              "      <td>NaN</td>\n",
              "      <td>8.0</td>\n",
              "      <td>9</td>\n",
              "      <td>50000</td>\n",
              "    </tr>\n",
              "    <tr>\n",
              "      <th>1</th>\n",
              "      <td>NaN</td>\n",
              "      <td>8.0</td>\n",
              "      <td>6</td>\n",
              "      <td>45000</td>\n",
              "    </tr>\n",
              "    <tr>\n",
              "      <th>2</th>\n",
              "      <td>five</td>\n",
              "      <td>6.0</td>\n",
              "      <td>7</td>\n",
              "      <td>60000</td>\n",
              "    </tr>\n",
              "    <tr>\n",
              "      <th>3</th>\n",
              "      <td>two</td>\n",
              "      <td>10.0</td>\n",
              "      <td>10</td>\n",
              "      <td>65000</td>\n",
              "    </tr>\n",
              "    <tr>\n",
              "      <th>4</th>\n",
              "      <td>seven</td>\n",
              "      <td>9.0</td>\n",
              "      <td>6</td>\n",
              "      <td>70000</td>\n",
              "    </tr>\n",
              "    <tr>\n",
              "      <th>5</th>\n",
              "      <td>three</td>\n",
              "      <td>7.0</td>\n",
              "      <td>10</td>\n",
              "      <td>62000</td>\n",
              "    </tr>\n",
              "    <tr>\n",
              "      <th>6</th>\n",
              "      <td>ten</td>\n",
              "      <td>NaN</td>\n",
              "      <td>7</td>\n",
              "      <td>72000</td>\n",
              "    </tr>\n",
              "    <tr>\n",
              "      <th>7</th>\n",
              "      <td>eleven</td>\n",
              "      <td>7.0</td>\n",
              "      <td>8</td>\n",
              "      <td>80000</td>\n",
              "    </tr>\n",
              "  </tbody>\n",
              "</table>\n",
              "</div>\n",
              "      <button class=\"colab-df-convert\" onclick=\"convertToInteractive('df-277375cd-4b9e-49ef-a2a6-1bebd4cc793e')\"\n",
              "              title=\"Convert this dataframe to an interactive table.\"\n",
              "              style=\"display:none;\">\n",
              "        \n",
              "  <svg xmlns=\"http://www.w3.org/2000/svg\" height=\"24px\"viewBox=\"0 0 24 24\"\n",
              "       width=\"24px\">\n",
              "    <path d=\"M0 0h24v24H0V0z\" fill=\"none\"/>\n",
              "    <path d=\"M18.56 5.44l.94 2.06.94-2.06 2.06-.94-2.06-.94-.94-2.06-.94 2.06-2.06.94zm-11 1L8.5 8.5l.94-2.06 2.06-.94-2.06-.94L8.5 2.5l-.94 2.06-2.06.94zm10 10l.94 2.06.94-2.06 2.06-.94-2.06-.94-.94-2.06-.94 2.06-2.06.94z\"/><path d=\"M17.41 7.96l-1.37-1.37c-.4-.4-.92-.59-1.43-.59-.52 0-1.04.2-1.43.59L10.3 9.45l-7.72 7.72c-.78.78-.78 2.05 0 2.83L4 21.41c.39.39.9.59 1.41.59.51 0 1.02-.2 1.41-.59l7.78-7.78 2.81-2.81c.8-.78.8-2.07 0-2.86zM5.41 20L4 18.59l7.72-7.72 1.47 1.35L5.41 20z\"/>\n",
              "  </svg>\n",
              "      </button>\n",
              "      \n",
              "  <style>\n",
              "    .colab-df-container {\n",
              "      display:flex;\n",
              "      flex-wrap:wrap;\n",
              "      gap: 12px;\n",
              "    }\n",
              "\n",
              "    .colab-df-convert {\n",
              "      background-color: #E8F0FE;\n",
              "      border: none;\n",
              "      border-radius: 50%;\n",
              "      cursor: pointer;\n",
              "      display: none;\n",
              "      fill: #1967D2;\n",
              "      height: 32px;\n",
              "      padding: 0 0 0 0;\n",
              "      width: 32px;\n",
              "    }\n",
              "\n",
              "    .colab-df-convert:hover {\n",
              "      background-color: #E2EBFA;\n",
              "      box-shadow: 0px 1px 2px rgba(60, 64, 67, 0.3), 0px 1px 3px 1px rgba(60, 64, 67, 0.15);\n",
              "      fill: #174EA6;\n",
              "    }\n",
              "\n",
              "    [theme=dark] .colab-df-convert {\n",
              "      background-color: #3B4455;\n",
              "      fill: #D2E3FC;\n",
              "    }\n",
              "\n",
              "    [theme=dark] .colab-df-convert:hover {\n",
              "      background-color: #434B5C;\n",
              "      box-shadow: 0px 1px 3px 1px rgba(0, 0, 0, 0.15);\n",
              "      filter: drop-shadow(0px 1px 2px rgba(0, 0, 0, 0.3));\n",
              "      fill: #FFFFFF;\n",
              "    }\n",
              "  </style>\n",
              "\n",
              "      <script>\n",
              "        const buttonEl =\n",
              "          document.querySelector('#df-277375cd-4b9e-49ef-a2a6-1bebd4cc793e button.colab-df-convert');\n",
              "        buttonEl.style.display =\n",
              "          google.colab.kernel.accessAllowed ? 'block' : 'none';\n",
              "\n",
              "        async function convertToInteractive(key) {\n",
              "          const element = document.querySelector('#df-277375cd-4b9e-49ef-a2a6-1bebd4cc793e');\n",
              "          const dataTable =\n",
              "            await google.colab.kernel.invokeFunction('convertToInteractive',\n",
              "                                                     [key], {});\n",
              "          if (!dataTable) return;\n",
              "\n",
              "          const docLinkHtml = 'Like what you see? Visit the ' +\n",
              "            '<a target=\"_blank\" href=https://colab.research.google.com/notebooks/data_table.ipynb>data table notebook</a>'\n",
              "            + ' to learn more about interactive tables.';\n",
              "          element.innerHTML = '';\n",
              "          dataTable['output_type'] = 'display_data';\n",
              "          await google.colab.output.renderOutput(dataTable, element);\n",
              "          const docLink = document.createElement('div');\n",
              "          docLink.innerHTML = docLinkHtml;\n",
              "          element.appendChild(docLink);\n",
              "        }\n",
              "      </script>\n",
              "    </div>\n",
              "  </div>\n",
              "  "
            ]
          },
          "metadata": {},
          "execution_count": 3
        }
      ]
    },
    {
      "cell_type": "code",
      "source": [
        "# change the name of the columns\n",
        "column_dict = {'test_score(out of 10)':'test_score','interview_score(out of 10)':'interview_score','salary($)':'salary'}\n",
        "df.rename(columns=column_dict,inplace=True)"
      ],
      "metadata": {
        "id": "9Su0eyCCS9p1"
      },
      "execution_count": 6,
      "outputs": []
    },
    {
      "cell_type": "code",
      "source": [
        "# shape of the dataframe\n",
        "\n",
        "df.shape"
      ],
      "metadata": {
        "colab": {
          "base_uri": "https://localhost:8080/"
        },
        "id": "WXOQRirXTmyt",
        "outputId": "c5acd747-d5b6-413a-8fda-6e01163f5a69"
      },
      "execution_count": 8,
      "outputs": [
        {
          "output_type": "execute_result",
          "data": {
            "text/plain": [
              "(8, 4)"
            ]
          },
          "metadata": {},
          "execution_count": 8
        }
      ]
    },
    {
      "cell_type": "code",
      "source": [
        "# check for missing values\n",
        "\n",
        "df.isna().sum()"
      ],
      "metadata": {
        "colab": {
          "base_uri": "https://localhost:8080/"
        },
        "id": "5wWh-uQuTtZa",
        "outputId": "3fdd7f0e-a25d-4c8e-86ad-3d439b0f9308"
      },
      "execution_count": 9,
      "outputs": [
        {
          "output_type": "execute_result",
          "data": {
            "text/plain": [
              "experience         2\n",
              "test_score         1\n",
              "interview_score    0\n",
              "salary             0\n",
              "dtype: int64"
            ]
          },
          "metadata": {},
          "execution_count": 9
        }
      ]
    },
    {
      "cell_type": "code",
      "source": [
        "# fill the missing values in experience with zero\n",
        "\n",
        "from sklearn.impute import SimpleImputer\n",
        "from sklearn.compose import ColumnTransformer\n",
        "from sklearn.pipeline import Pipeline\n",
        "from word2number import w2n\n",
        "\n",
        "# create experience column pipeline\n",
        "exp_pipe = Pipeline(steps=[\n",
        "    ('impute',SimpleImputer(strategy='constant',fill_value='zero'))])\n",
        "\n",
        "# do transformations on the data\n",
        "transformer = ColumnTransformer(transformers=[\n",
        "    ('exp',exp_pipe,['experience']),\n",
        "    ('test',SimpleImputer(strategy='most_frequent'),['test_score'])\n",
        "],remainder='passthrough')"
      ],
      "metadata": {
        "id": "V8prWyc1T0df"
      },
      "execution_count": 28,
      "outputs": []
    },
    {
      "cell_type": "code",
      "source": [
        "transformer"
      ],
      "metadata": {
        "colab": {
          "base_uri": "https://localhost:8080/",
          "height": 117
        },
        "id": "EXQEkUuJUAE8",
        "outputId": "cc1684c3-646a-4874-eb0f-b482a4e72540"
      },
      "execution_count": 29,
      "outputs": [
        {
          "output_type": "execute_result",
          "data": {
            "text/plain": [
              "ColumnTransformer(remainder='passthrough',\n",
              "                  transformers=[('exp',\n",
              "                                 Pipeline(steps=[('impute',\n",
              "                                                  SimpleImputer(fill_value='zero',\n",
              "                                                                strategy='constant'))]),\n",
              "                                 ['experience']),\n",
              "                                ('test',\n",
              "                                 SimpleImputer(strategy='most_frequent'),\n",
              "                                 ['test_score'])])"
            ],
            "text/html": [
              "<style>#sk-b47988aa-4538-4760-a1a4-453cc00ca8b0 {color: black;background-color: white;}#sk-b47988aa-4538-4760-a1a4-453cc00ca8b0 pre{padding: 0;}#sk-b47988aa-4538-4760-a1a4-453cc00ca8b0 div.sk-toggleable {background-color: white;}#sk-b47988aa-4538-4760-a1a4-453cc00ca8b0 label.sk-toggleable__label {cursor: pointer;display: block;width: 100%;margin-bottom: 0;padding: 0.3em;box-sizing: border-box;text-align: center;}#sk-b47988aa-4538-4760-a1a4-453cc00ca8b0 label.sk-toggleable__label-arrow:before {content: \"▸\";float: left;margin-right: 0.25em;color: #696969;}#sk-b47988aa-4538-4760-a1a4-453cc00ca8b0 label.sk-toggleable__label-arrow:hover:before {color: black;}#sk-b47988aa-4538-4760-a1a4-453cc00ca8b0 div.sk-estimator:hover label.sk-toggleable__label-arrow:before {color: black;}#sk-b47988aa-4538-4760-a1a4-453cc00ca8b0 div.sk-toggleable__content {max-height: 0;max-width: 0;overflow: hidden;text-align: left;background-color: #f0f8ff;}#sk-b47988aa-4538-4760-a1a4-453cc00ca8b0 div.sk-toggleable__content pre {margin: 0.2em;color: black;border-radius: 0.25em;background-color: #f0f8ff;}#sk-b47988aa-4538-4760-a1a4-453cc00ca8b0 input.sk-toggleable__control:checked~div.sk-toggleable__content {max-height: 200px;max-width: 100%;overflow: auto;}#sk-b47988aa-4538-4760-a1a4-453cc00ca8b0 input.sk-toggleable__control:checked~label.sk-toggleable__label-arrow:before {content: \"▾\";}#sk-b47988aa-4538-4760-a1a4-453cc00ca8b0 div.sk-estimator input.sk-toggleable__control:checked~label.sk-toggleable__label {background-color: #d4ebff;}#sk-b47988aa-4538-4760-a1a4-453cc00ca8b0 div.sk-label input.sk-toggleable__control:checked~label.sk-toggleable__label {background-color: #d4ebff;}#sk-b47988aa-4538-4760-a1a4-453cc00ca8b0 input.sk-hidden--visually {border: 0;clip: rect(1px 1px 1px 1px);clip: rect(1px, 1px, 1px, 1px);height: 1px;margin: -1px;overflow: hidden;padding: 0;position: absolute;width: 1px;}#sk-b47988aa-4538-4760-a1a4-453cc00ca8b0 div.sk-estimator {font-family: monospace;background-color: #f0f8ff;border: 1px dotted black;border-radius: 0.25em;box-sizing: border-box;margin-bottom: 0.5em;}#sk-b47988aa-4538-4760-a1a4-453cc00ca8b0 div.sk-estimator:hover {background-color: #d4ebff;}#sk-b47988aa-4538-4760-a1a4-453cc00ca8b0 div.sk-parallel-item::after {content: \"\";width: 100%;border-bottom: 1px solid gray;flex-grow: 1;}#sk-b47988aa-4538-4760-a1a4-453cc00ca8b0 div.sk-label:hover label.sk-toggleable__label {background-color: #d4ebff;}#sk-b47988aa-4538-4760-a1a4-453cc00ca8b0 div.sk-serial::before {content: \"\";position: absolute;border-left: 1px solid gray;box-sizing: border-box;top: 2em;bottom: 0;left: 50%;}#sk-b47988aa-4538-4760-a1a4-453cc00ca8b0 div.sk-serial {display: flex;flex-direction: column;align-items: center;background-color: white;padding-right: 0.2em;padding-left: 0.2em;}#sk-b47988aa-4538-4760-a1a4-453cc00ca8b0 div.sk-item {z-index: 1;}#sk-b47988aa-4538-4760-a1a4-453cc00ca8b0 div.sk-parallel {display: flex;align-items: stretch;justify-content: center;background-color: white;}#sk-b47988aa-4538-4760-a1a4-453cc00ca8b0 div.sk-parallel::before {content: \"\";position: absolute;border-left: 1px solid gray;box-sizing: border-box;top: 2em;bottom: 0;left: 50%;}#sk-b47988aa-4538-4760-a1a4-453cc00ca8b0 div.sk-parallel-item {display: flex;flex-direction: column;position: relative;background-color: white;}#sk-b47988aa-4538-4760-a1a4-453cc00ca8b0 div.sk-parallel-item:first-child::after {align-self: flex-end;width: 50%;}#sk-b47988aa-4538-4760-a1a4-453cc00ca8b0 div.sk-parallel-item:last-child::after {align-self: flex-start;width: 50%;}#sk-b47988aa-4538-4760-a1a4-453cc00ca8b0 div.sk-parallel-item:only-child::after {width: 0;}#sk-b47988aa-4538-4760-a1a4-453cc00ca8b0 div.sk-dashed-wrapped {border: 1px dashed gray;margin: 0 0.4em 0.5em 0.4em;box-sizing: border-box;padding-bottom: 0.4em;background-color: white;position: relative;}#sk-b47988aa-4538-4760-a1a4-453cc00ca8b0 div.sk-label label {font-family: monospace;font-weight: bold;background-color: white;display: inline-block;line-height: 1.2em;}#sk-b47988aa-4538-4760-a1a4-453cc00ca8b0 div.sk-label-container {position: relative;z-index: 2;text-align: center;}#sk-b47988aa-4538-4760-a1a4-453cc00ca8b0 div.sk-container {/* jupyter's `normalize.less` sets `[hidden] { display: none; }` but bootstrap.min.css set `[hidden] { display: none !important; }` so we also need the `!important` here to be able to override the default hidden behavior on the sphinx rendered scikit-learn.org. See: https://github.com/scikit-learn/scikit-learn/issues/21755 */display: inline-block !important;position: relative;}#sk-b47988aa-4538-4760-a1a4-453cc00ca8b0 div.sk-text-repr-fallback {display: none;}</style><div id=\"sk-b47988aa-4538-4760-a1a4-453cc00ca8b0\" class=\"sk-top-container\"><div class=\"sk-text-repr-fallback\"><pre>ColumnTransformer(remainder=&#x27;passthrough&#x27;,\n",
              "                  transformers=[(&#x27;exp&#x27;,\n",
              "                                 Pipeline(steps=[(&#x27;impute&#x27;,\n",
              "                                                  SimpleImputer(fill_value=&#x27;zero&#x27;,\n",
              "                                                                strategy=&#x27;constant&#x27;))]),\n",
              "                                 [&#x27;experience&#x27;]),\n",
              "                                (&#x27;test&#x27;,\n",
              "                                 SimpleImputer(strategy=&#x27;most_frequent&#x27;),\n",
              "                                 [&#x27;test_score&#x27;])])</pre><b>Please rerun this cell to show the HTML repr or trust the notebook.</b></div><div class=\"sk-container\" hidden><div class=\"sk-item sk-dashed-wrapped\"><div class=\"sk-label-container\"><div class=\"sk-label sk-toggleable\"><input class=\"sk-toggleable__control sk-hidden--visually\" id=\"d1f9929d-3496-428f-988d-c5f66cfdd4ed\" type=\"checkbox\" ><label for=\"d1f9929d-3496-428f-988d-c5f66cfdd4ed\" class=\"sk-toggleable__label sk-toggleable__label-arrow\">ColumnTransformer</label><div class=\"sk-toggleable__content\"><pre>ColumnTransformer(remainder=&#x27;passthrough&#x27;,\n",
              "                  transformers=[(&#x27;exp&#x27;,\n",
              "                                 Pipeline(steps=[(&#x27;impute&#x27;,\n",
              "                                                  SimpleImputer(fill_value=&#x27;zero&#x27;,\n",
              "                                                                strategy=&#x27;constant&#x27;))]),\n",
              "                                 [&#x27;experience&#x27;]),\n",
              "                                (&#x27;test&#x27;,\n",
              "                                 SimpleImputer(strategy=&#x27;most_frequent&#x27;),\n",
              "                                 [&#x27;test_score&#x27;])])</pre></div></div></div><div class=\"sk-parallel\"><div class=\"sk-parallel-item\"><div class=\"sk-item\"><div class=\"sk-label-container\"><div class=\"sk-label sk-toggleable\"><input class=\"sk-toggleable__control sk-hidden--visually\" id=\"98651e99-9408-427b-8832-4278d2ca9ee2\" type=\"checkbox\" ><label for=\"98651e99-9408-427b-8832-4278d2ca9ee2\" class=\"sk-toggleable__label sk-toggleable__label-arrow\">exp</label><div class=\"sk-toggleable__content\"><pre>[&#x27;experience&#x27;]</pre></div></div></div><div class=\"sk-serial\"><div class=\"sk-item\"><div class=\"sk-serial\"><div class=\"sk-item\"><div class=\"sk-estimator sk-toggleable\"><input class=\"sk-toggleable__control sk-hidden--visually\" id=\"b9259181-bdad-472f-a73f-cdf8ceff8235\" type=\"checkbox\" ><label for=\"b9259181-bdad-472f-a73f-cdf8ceff8235\" class=\"sk-toggleable__label sk-toggleable__label-arrow\">SimpleImputer</label><div class=\"sk-toggleable__content\"><pre>SimpleImputer(fill_value=&#x27;zero&#x27;, strategy=&#x27;constant&#x27;)</pre></div></div></div></div></div></div></div></div><div class=\"sk-parallel-item\"><div class=\"sk-item\"><div class=\"sk-label-container\"><div class=\"sk-label sk-toggleable\"><input class=\"sk-toggleable__control sk-hidden--visually\" id=\"250c4e41-8d3b-4cc0-ac34-f50571ec2af8\" type=\"checkbox\" ><label for=\"250c4e41-8d3b-4cc0-ac34-f50571ec2af8\" class=\"sk-toggleable__label sk-toggleable__label-arrow\">test</label><div class=\"sk-toggleable__content\"><pre>[&#x27;test_score&#x27;]</pre></div></div></div><div class=\"sk-serial\"><div class=\"sk-item\"><div class=\"sk-estimator sk-toggleable\"><input class=\"sk-toggleable__control sk-hidden--visually\" id=\"7008c06a-2e1d-4f8e-8faf-1645ffcac2c6\" type=\"checkbox\" ><label for=\"7008c06a-2e1d-4f8e-8faf-1645ffcac2c6\" class=\"sk-toggleable__label sk-toggleable__label-arrow\">SimpleImputer</label><div class=\"sk-toggleable__content\"><pre>SimpleImputer(strategy=&#x27;most_frequent&#x27;)</pre></div></div></div></div></div></div><div class=\"sk-parallel-item\"><div class=\"sk-item\"><div class=\"sk-label-container\"><div class=\"sk-label sk-toggleable\"><input class=\"sk-toggleable__control sk-hidden--visually\" id=\"811d3623-7472-46a7-8030-fda65be0c376\" type=\"checkbox\" ><label for=\"811d3623-7472-46a7-8030-fda65be0c376\" class=\"sk-toggleable__label sk-toggleable__label-arrow\">remainder</label><div class=\"sk-toggleable__content\"><pre></pre></div></div></div><div class=\"sk-serial\"><div class=\"sk-item\"><div class=\"sk-estimator sk-toggleable\"><input class=\"sk-toggleable__control sk-hidden--visually\" id=\"eb80e37e-ec0e-4b89-af20-e869182cda85\" type=\"checkbox\" ><label for=\"eb80e37e-ec0e-4b89-af20-e869182cda85\" class=\"sk-toggleable__label sk-toggleable__label-arrow\">passthrough</label><div class=\"sk-toggleable__content\"><pre>passthrough</pre></div></div></div></div></div></div></div></div></div></div>"
            ]
          },
          "metadata": {},
          "execution_count": 29
        }
      ]
    },
    {
      "cell_type": "code",
      "source": [
        "from sklearn import set_config\n",
        "set_config(display='diagram') "
      ],
      "metadata": {
        "id": "zEC5X054YSqP"
      },
      "execution_count": 30,
      "outputs": []
    },
    {
      "cell_type": "code",
      "source": [
        "# create dataframe after the transformations\n",
        "columns_name=df.columns\n",
        "\n",
        "df = pd.DataFrame(transformer.fit_transform(df),columns=columns_name)"
      ],
      "metadata": {
        "id": "WagA72iXYzKI"
      },
      "execution_count": 34,
      "outputs": []
    },
    {
      "cell_type": "code",
      "source": [
        "#convert text to numbers\n",
        "\n",
        "df['experience'] = df['experience'].apply(w2n.word_to_num)"
      ],
      "metadata": {
        "id": "tjAtJBHtZ1nv"
      },
      "execution_count": 37,
      "outputs": []
    },
    {
      "cell_type": "code",
      "source": [
        "df"
      ],
      "metadata": {
        "colab": {
          "base_uri": "https://localhost:8080/",
          "height": 300
        },
        "id": "TKdopkznZIYt",
        "outputId": "9db21050-90d9-4ead-8efb-733f15a72898"
      },
      "execution_count": 38,
      "outputs": [
        {
          "output_type": "execute_result",
          "data": {
            "text/plain": [
              "   experience test_score interview_score salary\n",
              "0           0        8.0               9  50000\n",
              "1           0        8.0               6  45000\n",
              "2           5        6.0               7  60000\n",
              "3           2       10.0              10  65000\n",
              "4           7        9.0               6  70000\n",
              "5           3        7.0              10  62000\n",
              "6          10        7.0               7  72000\n",
              "7          11        7.0               8  80000"
            ],
            "text/html": [
              "\n",
              "  <div id=\"df-c9226006-0a84-4627-af8d-7dfe4d82a5a3\">\n",
              "    <div class=\"colab-df-container\">\n",
              "      <div>\n",
              "<style scoped>\n",
              "    .dataframe tbody tr th:only-of-type {\n",
              "        vertical-align: middle;\n",
              "    }\n",
              "\n",
              "    .dataframe tbody tr th {\n",
              "        vertical-align: top;\n",
              "    }\n",
              "\n",
              "    .dataframe thead th {\n",
              "        text-align: right;\n",
              "    }\n",
              "</style>\n",
              "<table border=\"1\" class=\"dataframe\">\n",
              "  <thead>\n",
              "    <tr style=\"text-align: right;\">\n",
              "      <th></th>\n",
              "      <th>experience</th>\n",
              "      <th>test_score</th>\n",
              "      <th>interview_score</th>\n",
              "      <th>salary</th>\n",
              "    </tr>\n",
              "  </thead>\n",
              "  <tbody>\n",
              "    <tr>\n",
              "      <th>0</th>\n",
              "      <td>0</td>\n",
              "      <td>8.0</td>\n",
              "      <td>9</td>\n",
              "      <td>50000</td>\n",
              "    </tr>\n",
              "    <tr>\n",
              "      <th>1</th>\n",
              "      <td>0</td>\n",
              "      <td>8.0</td>\n",
              "      <td>6</td>\n",
              "      <td>45000</td>\n",
              "    </tr>\n",
              "    <tr>\n",
              "      <th>2</th>\n",
              "      <td>5</td>\n",
              "      <td>6.0</td>\n",
              "      <td>7</td>\n",
              "      <td>60000</td>\n",
              "    </tr>\n",
              "    <tr>\n",
              "      <th>3</th>\n",
              "      <td>2</td>\n",
              "      <td>10.0</td>\n",
              "      <td>10</td>\n",
              "      <td>65000</td>\n",
              "    </tr>\n",
              "    <tr>\n",
              "      <th>4</th>\n",
              "      <td>7</td>\n",
              "      <td>9.0</td>\n",
              "      <td>6</td>\n",
              "      <td>70000</td>\n",
              "    </tr>\n",
              "    <tr>\n",
              "      <th>5</th>\n",
              "      <td>3</td>\n",
              "      <td>7.0</td>\n",
              "      <td>10</td>\n",
              "      <td>62000</td>\n",
              "    </tr>\n",
              "    <tr>\n",
              "      <th>6</th>\n",
              "      <td>10</td>\n",
              "      <td>7.0</td>\n",
              "      <td>7</td>\n",
              "      <td>72000</td>\n",
              "    </tr>\n",
              "    <tr>\n",
              "      <th>7</th>\n",
              "      <td>11</td>\n",
              "      <td>7.0</td>\n",
              "      <td>8</td>\n",
              "      <td>80000</td>\n",
              "    </tr>\n",
              "  </tbody>\n",
              "</table>\n",
              "</div>\n",
              "      <button class=\"colab-df-convert\" onclick=\"convertToInteractive('df-c9226006-0a84-4627-af8d-7dfe4d82a5a3')\"\n",
              "              title=\"Convert this dataframe to an interactive table.\"\n",
              "              style=\"display:none;\">\n",
              "        \n",
              "  <svg xmlns=\"http://www.w3.org/2000/svg\" height=\"24px\"viewBox=\"0 0 24 24\"\n",
              "       width=\"24px\">\n",
              "    <path d=\"M0 0h24v24H0V0z\" fill=\"none\"/>\n",
              "    <path d=\"M18.56 5.44l.94 2.06.94-2.06 2.06-.94-2.06-.94-.94-2.06-.94 2.06-2.06.94zm-11 1L8.5 8.5l.94-2.06 2.06-.94-2.06-.94L8.5 2.5l-.94 2.06-2.06.94zm10 10l.94 2.06.94-2.06 2.06-.94-2.06-.94-.94-2.06-.94 2.06-2.06.94z\"/><path d=\"M17.41 7.96l-1.37-1.37c-.4-.4-.92-.59-1.43-.59-.52 0-1.04.2-1.43.59L10.3 9.45l-7.72 7.72c-.78.78-.78 2.05 0 2.83L4 21.41c.39.39.9.59 1.41.59.51 0 1.02-.2 1.41-.59l7.78-7.78 2.81-2.81c.8-.78.8-2.07 0-2.86zM5.41 20L4 18.59l7.72-7.72 1.47 1.35L5.41 20z\"/>\n",
              "  </svg>\n",
              "      </button>\n",
              "      \n",
              "  <style>\n",
              "    .colab-df-container {\n",
              "      display:flex;\n",
              "      flex-wrap:wrap;\n",
              "      gap: 12px;\n",
              "    }\n",
              "\n",
              "    .colab-df-convert {\n",
              "      background-color: #E8F0FE;\n",
              "      border: none;\n",
              "      border-radius: 50%;\n",
              "      cursor: pointer;\n",
              "      display: none;\n",
              "      fill: #1967D2;\n",
              "      height: 32px;\n",
              "      padding: 0 0 0 0;\n",
              "      width: 32px;\n",
              "    }\n",
              "\n",
              "    .colab-df-convert:hover {\n",
              "      background-color: #E2EBFA;\n",
              "      box-shadow: 0px 1px 2px rgba(60, 64, 67, 0.3), 0px 1px 3px 1px rgba(60, 64, 67, 0.15);\n",
              "      fill: #174EA6;\n",
              "    }\n",
              "\n",
              "    [theme=dark] .colab-df-convert {\n",
              "      background-color: #3B4455;\n",
              "      fill: #D2E3FC;\n",
              "    }\n",
              "\n",
              "    [theme=dark] .colab-df-convert:hover {\n",
              "      background-color: #434B5C;\n",
              "      box-shadow: 0px 1px 3px 1px rgba(0, 0, 0, 0.15);\n",
              "      filter: drop-shadow(0px 1px 2px rgba(0, 0, 0, 0.3));\n",
              "      fill: #FFFFFF;\n",
              "    }\n",
              "  </style>\n",
              "\n",
              "      <script>\n",
              "        const buttonEl =\n",
              "          document.querySelector('#df-c9226006-0a84-4627-af8d-7dfe4d82a5a3 button.colab-df-convert');\n",
              "        buttonEl.style.display =\n",
              "          google.colab.kernel.accessAllowed ? 'block' : 'none';\n",
              "\n",
              "        async function convertToInteractive(key) {\n",
              "          const element = document.querySelector('#df-c9226006-0a84-4627-af8d-7dfe4d82a5a3');\n",
              "          const dataTable =\n",
              "            await google.colab.kernel.invokeFunction('convertToInteractive',\n",
              "                                                     [key], {});\n",
              "          if (!dataTable) return;\n",
              "\n",
              "          const docLinkHtml = 'Like what you see? Visit the ' +\n",
              "            '<a target=\"_blank\" href=https://colab.research.google.com/notebooks/data_table.ipynb>data table notebook</a>'\n",
              "            + ' to learn more about interactive tables.';\n",
              "          element.innerHTML = '';\n",
              "          dataTable['output_type'] = 'display_data';\n",
              "          await google.colab.output.renderOutput(dataTable, element);\n",
              "          const docLink = document.createElement('div');\n",
              "          docLink.innerHTML = docLinkHtml;\n",
              "          element.appendChild(docLink);\n",
              "        }\n",
              "      </script>\n",
              "    </div>\n",
              "  </div>\n",
              "  "
            ]
          },
          "metadata": {},
          "execution_count": 38
        }
      ]
    },
    {
      "cell_type": "code",
      "source": [
        "# create the linear regression model\n",
        "\n",
        "from sklearn.linear_model import LinearRegression\n",
        "lr = LinearRegression()\n",
        "X = df.drop(columns=['salary'])\n",
        "y = df['salary']\n",
        "\n",
        "# fit the model\n",
        "\n",
        "lr.fit(X,y)"
      ],
      "metadata": {
        "colab": {
          "base_uri": "https://localhost:8080/",
          "height": 74
        },
        "id": "xNecm0KDaMAz",
        "outputId": "a11f713c-c1cf-426b-aefb-cef8a3d5a9da"
      },
      "execution_count": 39,
      "outputs": [
        {
          "output_type": "execute_result",
          "data": {
            "text/plain": [
              "LinearRegression()"
            ],
            "text/html": [
              "<style>#sk-89336e0b-87e6-4487-9b4d-c133500be4eb {color: black;background-color: white;}#sk-89336e0b-87e6-4487-9b4d-c133500be4eb pre{padding: 0;}#sk-89336e0b-87e6-4487-9b4d-c133500be4eb div.sk-toggleable {background-color: white;}#sk-89336e0b-87e6-4487-9b4d-c133500be4eb label.sk-toggleable__label {cursor: pointer;display: block;width: 100%;margin-bottom: 0;padding: 0.3em;box-sizing: border-box;text-align: center;}#sk-89336e0b-87e6-4487-9b4d-c133500be4eb label.sk-toggleable__label-arrow:before {content: \"▸\";float: left;margin-right: 0.25em;color: #696969;}#sk-89336e0b-87e6-4487-9b4d-c133500be4eb label.sk-toggleable__label-arrow:hover:before {color: black;}#sk-89336e0b-87e6-4487-9b4d-c133500be4eb div.sk-estimator:hover label.sk-toggleable__label-arrow:before {color: black;}#sk-89336e0b-87e6-4487-9b4d-c133500be4eb div.sk-toggleable__content {max-height: 0;max-width: 0;overflow: hidden;text-align: left;background-color: #f0f8ff;}#sk-89336e0b-87e6-4487-9b4d-c133500be4eb div.sk-toggleable__content pre {margin: 0.2em;color: black;border-radius: 0.25em;background-color: #f0f8ff;}#sk-89336e0b-87e6-4487-9b4d-c133500be4eb input.sk-toggleable__control:checked~div.sk-toggleable__content {max-height: 200px;max-width: 100%;overflow: auto;}#sk-89336e0b-87e6-4487-9b4d-c133500be4eb input.sk-toggleable__control:checked~label.sk-toggleable__label-arrow:before {content: \"▾\";}#sk-89336e0b-87e6-4487-9b4d-c133500be4eb div.sk-estimator input.sk-toggleable__control:checked~label.sk-toggleable__label {background-color: #d4ebff;}#sk-89336e0b-87e6-4487-9b4d-c133500be4eb div.sk-label input.sk-toggleable__control:checked~label.sk-toggleable__label {background-color: #d4ebff;}#sk-89336e0b-87e6-4487-9b4d-c133500be4eb input.sk-hidden--visually {border: 0;clip: rect(1px 1px 1px 1px);clip: rect(1px, 1px, 1px, 1px);height: 1px;margin: -1px;overflow: hidden;padding: 0;position: absolute;width: 1px;}#sk-89336e0b-87e6-4487-9b4d-c133500be4eb div.sk-estimator {font-family: monospace;background-color: #f0f8ff;border: 1px dotted black;border-radius: 0.25em;box-sizing: border-box;margin-bottom: 0.5em;}#sk-89336e0b-87e6-4487-9b4d-c133500be4eb div.sk-estimator:hover {background-color: #d4ebff;}#sk-89336e0b-87e6-4487-9b4d-c133500be4eb div.sk-parallel-item::after {content: \"\";width: 100%;border-bottom: 1px solid gray;flex-grow: 1;}#sk-89336e0b-87e6-4487-9b4d-c133500be4eb div.sk-label:hover label.sk-toggleable__label {background-color: #d4ebff;}#sk-89336e0b-87e6-4487-9b4d-c133500be4eb div.sk-serial::before {content: \"\";position: absolute;border-left: 1px solid gray;box-sizing: border-box;top: 2em;bottom: 0;left: 50%;}#sk-89336e0b-87e6-4487-9b4d-c133500be4eb div.sk-serial {display: flex;flex-direction: column;align-items: center;background-color: white;padding-right: 0.2em;padding-left: 0.2em;}#sk-89336e0b-87e6-4487-9b4d-c133500be4eb div.sk-item {z-index: 1;}#sk-89336e0b-87e6-4487-9b4d-c133500be4eb div.sk-parallel {display: flex;align-items: stretch;justify-content: center;background-color: white;}#sk-89336e0b-87e6-4487-9b4d-c133500be4eb div.sk-parallel::before {content: \"\";position: absolute;border-left: 1px solid gray;box-sizing: border-box;top: 2em;bottom: 0;left: 50%;}#sk-89336e0b-87e6-4487-9b4d-c133500be4eb div.sk-parallel-item {display: flex;flex-direction: column;position: relative;background-color: white;}#sk-89336e0b-87e6-4487-9b4d-c133500be4eb div.sk-parallel-item:first-child::after {align-self: flex-end;width: 50%;}#sk-89336e0b-87e6-4487-9b4d-c133500be4eb div.sk-parallel-item:last-child::after {align-self: flex-start;width: 50%;}#sk-89336e0b-87e6-4487-9b4d-c133500be4eb div.sk-parallel-item:only-child::after {width: 0;}#sk-89336e0b-87e6-4487-9b4d-c133500be4eb div.sk-dashed-wrapped {border: 1px dashed gray;margin: 0 0.4em 0.5em 0.4em;box-sizing: border-box;padding-bottom: 0.4em;background-color: white;position: relative;}#sk-89336e0b-87e6-4487-9b4d-c133500be4eb div.sk-label label {font-family: monospace;font-weight: bold;background-color: white;display: inline-block;line-height: 1.2em;}#sk-89336e0b-87e6-4487-9b4d-c133500be4eb div.sk-label-container {position: relative;z-index: 2;text-align: center;}#sk-89336e0b-87e6-4487-9b4d-c133500be4eb div.sk-container {/* jupyter's `normalize.less` sets `[hidden] { display: none; }` but bootstrap.min.css set `[hidden] { display: none !important; }` so we also need the `!important` here to be able to override the default hidden behavior on the sphinx rendered scikit-learn.org. See: https://github.com/scikit-learn/scikit-learn/issues/21755 */display: inline-block !important;position: relative;}#sk-89336e0b-87e6-4487-9b4d-c133500be4eb div.sk-text-repr-fallback {display: none;}</style><div id=\"sk-89336e0b-87e6-4487-9b4d-c133500be4eb\" class=\"sk-top-container\"><div class=\"sk-text-repr-fallback\"><pre>LinearRegression()</pre><b>Please rerun this cell to show the HTML repr or trust the notebook.</b></div><div class=\"sk-container\" hidden><div class=\"sk-item\"><div class=\"sk-estimator sk-toggleable\"><input class=\"sk-toggleable__control sk-hidden--visually\" id=\"2a973eb1-4c84-4887-9c75-0644e5958d64\" type=\"checkbox\" checked><label for=\"2a973eb1-4c84-4887-9c75-0644e5958d64\" class=\"sk-toggleable__label sk-toggleable__label-arrow\">LinearRegression</label><div class=\"sk-toggleable__content\"><pre>LinearRegression()</pre></div></div></div></div></div>"
            ]
          },
          "metadata": {},
          "execution_count": 39
        }
      ]
    },
    {
      "cell_type": "code",
      "source": [
        "# do predictions\n",
        "\n",
        "print(lr.predict([[2,9,6]]))\n",
        "print(lr.predict([[12,10,10]]))"
      ],
      "metadata": {
        "colab": {
          "base_uri": "https://localhost:8080/"
        },
        "id": "sl27HEjlbA97",
        "outputId": "69eb2fbd-1b0c-4d7d-a8b0-04982f844bd7"
      },
      "execution_count": 40,
      "outputs": [
        {
          "output_type": "stream",
          "name": "stdout",
          "text": [
            "[53713.86677124]\n",
            "[93747.79628651]\n"
          ]
        },
        {
          "output_type": "stream",
          "name": "stderr",
          "text": [
            "/usr/local/lib/python3.8/dist-packages/sklearn/base.py:450: UserWarning: X does not have valid feature names, but LinearRegression was fitted with feature names\n",
            "  warnings.warn(\n",
            "/usr/local/lib/python3.8/dist-packages/sklearn/base.py:450: UserWarning: X does not have valid feature names, but LinearRegression was fitted with feature names\n",
            "  warnings.warn(\n"
          ]
        }
      ]
    }
  ]
}