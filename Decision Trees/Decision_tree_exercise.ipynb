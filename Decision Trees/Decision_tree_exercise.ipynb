{
  "nbformat": 4,
  "nbformat_minor": 0,
  "metadata": {
    "colab": {
      "provenance": [],
      "authorship_tag": "ABX9TyPv/GAJVOz/KgoYtO605Jv5",
      "include_colab_link": true
    },
    "kernelspec": {
      "name": "python3",
      "display_name": "Python 3"
    },
    "language_info": {
      "name": "python"
    }
  },
  "cells": [
    {
      "cell_type": "markdown",
      "metadata": {
        "id": "view-in-github",
        "colab_type": "text"
      },
      "source": [
        "<a href=\"https://colab.research.google.com/github/himanshuarora1703/codebasics-ML-exercise/blob/main/Decision%20Trees/Decision_tree_exercise.ipynb\" target=\"_parent\"><img src=\"https://colab.research.google.com/assets/colab-badge.svg\" alt=\"Open In Colab\"/></a>"
      ]
    },
    {
      "cell_type": "code",
      "execution_count": 1,
      "metadata": {
        "id": "Tp6jMrFgespe"
      },
      "outputs": [],
      "source": [
        "import pandas as pd\n",
        "import numpy as np\n",
        "import matplotlib.pyplot as plt\n",
        "import seaborn as sns"
      ]
    },
    {
      "cell_type": "code",
      "source": [
        "df = pd.read_csv('/content/titanic.csv')\n",
        "df"
      ],
      "metadata": {
        "colab": {
          "base_uri": "https://localhost:8080/",
          "height": 554
        },
        "id": "ZFof2px-vApl",
        "outputId": "1ef4a0d7-dac6-4613-9c91-a0a34a5141cf"
      },
      "execution_count": 2,
      "outputs": [
        {
          "output_type": "execute_result",
          "data": {
            "text/plain": [
              "     PassengerId  Survived  Pclass  \\\n",
              "0              1         0       3   \n",
              "1              2         1       1   \n",
              "2              3         1       3   \n",
              "3              4         1       1   \n",
              "4              5         0       3   \n",
              "..           ...       ...     ...   \n",
              "886          887         0       2   \n",
              "887          888         1       1   \n",
              "888          889         0       3   \n",
              "889          890         1       1   \n",
              "890          891         0       3   \n",
              "\n",
              "                                                  Name     Sex   Age  SibSp  \\\n",
              "0                              Braund, Mr. Owen Harris    male  22.0      1   \n",
              "1    Cumings, Mrs. John Bradley (Florence Briggs Th...  female  38.0      1   \n",
              "2                               Heikkinen, Miss. Laina  female  26.0      0   \n",
              "3         Futrelle, Mrs. Jacques Heath (Lily May Peel)  female  35.0      1   \n",
              "4                             Allen, Mr. William Henry    male  35.0      0   \n",
              "..                                                 ...     ...   ...    ...   \n",
              "886                              Montvila, Rev. Juozas    male  27.0      0   \n",
              "887                       Graham, Miss. Margaret Edith  female  19.0      0   \n",
              "888           Johnston, Miss. Catherine Helen \"Carrie\"  female   NaN      1   \n",
              "889                              Behr, Mr. Karl Howell    male  26.0      0   \n",
              "890                                Dooley, Mr. Patrick    male  32.0      0   \n",
              "\n",
              "     Parch            Ticket     Fare Cabin Embarked  \n",
              "0        0         A/5 21171   7.2500   NaN        S  \n",
              "1        0          PC 17599  71.2833   C85        C  \n",
              "2        0  STON/O2. 3101282   7.9250   NaN        S  \n",
              "3        0            113803  53.1000  C123        S  \n",
              "4        0            373450   8.0500   NaN        S  \n",
              "..     ...               ...      ...   ...      ...  \n",
              "886      0            211536  13.0000   NaN        S  \n",
              "887      0            112053  30.0000   B42        S  \n",
              "888      2        W./C. 6607  23.4500   NaN        S  \n",
              "889      0            111369  30.0000  C148        C  \n",
              "890      0            370376   7.7500   NaN        Q  \n",
              "\n",
              "[891 rows x 12 columns]"
            ],
            "text/html": [
              "\n",
              "  <div id=\"df-e8e85df6-e7cc-4ff7-8394-c95e14357bb9\">\n",
              "    <div class=\"colab-df-container\">\n",
              "      <div>\n",
              "<style scoped>\n",
              "    .dataframe tbody tr th:only-of-type {\n",
              "        vertical-align: middle;\n",
              "    }\n",
              "\n",
              "    .dataframe tbody tr th {\n",
              "        vertical-align: top;\n",
              "    }\n",
              "\n",
              "    .dataframe thead th {\n",
              "        text-align: right;\n",
              "    }\n",
              "</style>\n",
              "<table border=\"1\" class=\"dataframe\">\n",
              "  <thead>\n",
              "    <tr style=\"text-align: right;\">\n",
              "      <th></th>\n",
              "      <th>PassengerId</th>\n",
              "      <th>Survived</th>\n",
              "      <th>Pclass</th>\n",
              "      <th>Name</th>\n",
              "      <th>Sex</th>\n",
              "      <th>Age</th>\n",
              "      <th>SibSp</th>\n",
              "      <th>Parch</th>\n",
              "      <th>Ticket</th>\n",
              "      <th>Fare</th>\n",
              "      <th>Cabin</th>\n",
              "      <th>Embarked</th>\n",
              "    </tr>\n",
              "  </thead>\n",
              "  <tbody>\n",
              "    <tr>\n",
              "      <th>0</th>\n",
              "      <td>1</td>\n",
              "      <td>0</td>\n",
              "      <td>3</td>\n",
              "      <td>Braund, Mr. Owen Harris</td>\n",
              "      <td>male</td>\n",
              "      <td>22.0</td>\n",
              "      <td>1</td>\n",
              "      <td>0</td>\n",
              "      <td>A/5 21171</td>\n",
              "      <td>7.2500</td>\n",
              "      <td>NaN</td>\n",
              "      <td>S</td>\n",
              "    </tr>\n",
              "    <tr>\n",
              "      <th>1</th>\n",
              "      <td>2</td>\n",
              "      <td>1</td>\n",
              "      <td>1</td>\n",
              "      <td>Cumings, Mrs. John Bradley (Florence Briggs Th...</td>\n",
              "      <td>female</td>\n",
              "      <td>38.0</td>\n",
              "      <td>1</td>\n",
              "      <td>0</td>\n",
              "      <td>PC 17599</td>\n",
              "      <td>71.2833</td>\n",
              "      <td>C85</td>\n",
              "      <td>C</td>\n",
              "    </tr>\n",
              "    <tr>\n",
              "      <th>2</th>\n",
              "      <td>3</td>\n",
              "      <td>1</td>\n",
              "      <td>3</td>\n",
              "      <td>Heikkinen, Miss. Laina</td>\n",
              "      <td>female</td>\n",
              "      <td>26.0</td>\n",
              "      <td>0</td>\n",
              "      <td>0</td>\n",
              "      <td>STON/O2. 3101282</td>\n",
              "      <td>7.9250</td>\n",
              "      <td>NaN</td>\n",
              "      <td>S</td>\n",
              "    </tr>\n",
              "    <tr>\n",
              "      <th>3</th>\n",
              "      <td>4</td>\n",
              "      <td>1</td>\n",
              "      <td>1</td>\n",
              "      <td>Futrelle, Mrs. Jacques Heath (Lily May Peel)</td>\n",
              "      <td>female</td>\n",
              "      <td>35.0</td>\n",
              "      <td>1</td>\n",
              "      <td>0</td>\n",
              "      <td>113803</td>\n",
              "      <td>53.1000</td>\n",
              "      <td>C123</td>\n",
              "      <td>S</td>\n",
              "    </tr>\n",
              "    <tr>\n",
              "      <th>4</th>\n",
              "      <td>5</td>\n",
              "      <td>0</td>\n",
              "      <td>3</td>\n",
              "      <td>Allen, Mr. William Henry</td>\n",
              "      <td>male</td>\n",
              "      <td>35.0</td>\n",
              "      <td>0</td>\n",
              "      <td>0</td>\n",
              "      <td>373450</td>\n",
              "      <td>8.0500</td>\n",
              "      <td>NaN</td>\n",
              "      <td>S</td>\n",
              "    </tr>\n",
              "    <tr>\n",
              "      <th>...</th>\n",
              "      <td>...</td>\n",
              "      <td>...</td>\n",
              "      <td>...</td>\n",
              "      <td>...</td>\n",
              "      <td>...</td>\n",
              "      <td>...</td>\n",
              "      <td>...</td>\n",
              "      <td>...</td>\n",
              "      <td>...</td>\n",
              "      <td>...</td>\n",
              "      <td>...</td>\n",
              "      <td>...</td>\n",
              "    </tr>\n",
              "    <tr>\n",
              "      <th>886</th>\n",
              "      <td>887</td>\n",
              "      <td>0</td>\n",
              "      <td>2</td>\n",
              "      <td>Montvila, Rev. Juozas</td>\n",
              "      <td>male</td>\n",
              "      <td>27.0</td>\n",
              "      <td>0</td>\n",
              "      <td>0</td>\n",
              "      <td>211536</td>\n",
              "      <td>13.0000</td>\n",
              "      <td>NaN</td>\n",
              "      <td>S</td>\n",
              "    </tr>\n",
              "    <tr>\n",
              "      <th>887</th>\n",
              "      <td>888</td>\n",
              "      <td>1</td>\n",
              "      <td>1</td>\n",
              "      <td>Graham, Miss. Margaret Edith</td>\n",
              "      <td>female</td>\n",
              "      <td>19.0</td>\n",
              "      <td>0</td>\n",
              "      <td>0</td>\n",
              "      <td>112053</td>\n",
              "      <td>30.0000</td>\n",
              "      <td>B42</td>\n",
              "      <td>S</td>\n",
              "    </tr>\n",
              "    <tr>\n",
              "      <th>888</th>\n",
              "      <td>889</td>\n",
              "      <td>0</td>\n",
              "      <td>3</td>\n",
              "      <td>Johnston, Miss. Catherine Helen \"Carrie\"</td>\n",
              "      <td>female</td>\n",
              "      <td>NaN</td>\n",
              "      <td>1</td>\n",
              "      <td>2</td>\n",
              "      <td>W./C. 6607</td>\n",
              "      <td>23.4500</td>\n",
              "      <td>NaN</td>\n",
              "      <td>S</td>\n",
              "    </tr>\n",
              "    <tr>\n",
              "      <th>889</th>\n",
              "      <td>890</td>\n",
              "      <td>1</td>\n",
              "      <td>1</td>\n",
              "      <td>Behr, Mr. Karl Howell</td>\n",
              "      <td>male</td>\n",
              "      <td>26.0</td>\n",
              "      <td>0</td>\n",
              "      <td>0</td>\n",
              "      <td>111369</td>\n",
              "      <td>30.0000</td>\n",
              "      <td>C148</td>\n",
              "      <td>C</td>\n",
              "    </tr>\n",
              "    <tr>\n",
              "      <th>890</th>\n",
              "      <td>891</td>\n",
              "      <td>0</td>\n",
              "      <td>3</td>\n",
              "      <td>Dooley, Mr. Patrick</td>\n",
              "      <td>male</td>\n",
              "      <td>32.0</td>\n",
              "      <td>0</td>\n",
              "      <td>0</td>\n",
              "      <td>370376</td>\n",
              "      <td>7.7500</td>\n",
              "      <td>NaN</td>\n",
              "      <td>Q</td>\n",
              "    </tr>\n",
              "  </tbody>\n",
              "</table>\n",
              "<p>891 rows × 12 columns</p>\n",
              "</div>\n",
              "      <button class=\"colab-df-convert\" onclick=\"convertToInteractive('df-e8e85df6-e7cc-4ff7-8394-c95e14357bb9')\"\n",
              "              title=\"Convert this dataframe to an interactive table.\"\n",
              "              style=\"display:none;\">\n",
              "        \n",
              "  <svg xmlns=\"http://www.w3.org/2000/svg\" height=\"24px\"viewBox=\"0 0 24 24\"\n",
              "       width=\"24px\">\n",
              "    <path d=\"M0 0h24v24H0V0z\" fill=\"none\"/>\n",
              "    <path d=\"M18.56 5.44l.94 2.06.94-2.06 2.06-.94-2.06-.94-.94-2.06-.94 2.06-2.06.94zm-11 1L8.5 8.5l.94-2.06 2.06-.94-2.06-.94L8.5 2.5l-.94 2.06-2.06.94zm10 10l.94 2.06.94-2.06 2.06-.94-2.06-.94-.94-2.06-.94 2.06-2.06.94z\"/><path d=\"M17.41 7.96l-1.37-1.37c-.4-.4-.92-.59-1.43-.59-.52 0-1.04.2-1.43.59L10.3 9.45l-7.72 7.72c-.78.78-.78 2.05 0 2.83L4 21.41c.39.39.9.59 1.41.59.51 0 1.02-.2 1.41-.59l7.78-7.78 2.81-2.81c.8-.78.8-2.07 0-2.86zM5.41 20L4 18.59l7.72-7.72 1.47 1.35L5.41 20z\"/>\n",
              "  </svg>\n",
              "      </button>\n",
              "      \n",
              "  <style>\n",
              "    .colab-df-container {\n",
              "      display:flex;\n",
              "      flex-wrap:wrap;\n",
              "      gap: 12px;\n",
              "    }\n",
              "\n",
              "    .colab-df-convert {\n",
              "      background-color: #E8F0FE;\n",
              "      border: none;\n",
              "      border-radius: 50%;\n",
              "      cursor: pointer;\n",
              "      display: none;\n",
              "      fill: #1967D2;\n",
              "      height: 32px;\n",
              "      padding: 0 0 0 0;\n",
              "      width: 32px;\n",
              "    }\n",
              "\n",
              "    .colab-df-convert:hover {\n",
              "      background-color: #E2EBFA;\n",
              "      box-shadow: 0px 1px 2px rgba(60, 64, 67, 0.3), 0px 1px 3px 1px rgba(60, 64, 67, 0.15);\n",
              "      fill: #174EA6;\n",
              "    }\n",
              "\n",
              "    [theme=dark] .colab-df-convert {\n",
              "      background-color: #3B4455;\n",
              "      fill: #D2E3FC;\n",
              "    }\n",
              "\n",
              "    [theme=dark] .colab-df-convert:hover {\n",
              "      background-color: #434B5C;\n",
              "      box-shadow: 0px 1px 3px 1px rgba(0, 0, 0, 0.15);\n",
              "      filter: drop-shadow(0px 1px 2px rgba(0, 0, 0, 0.3));\n",
              "      fill: #FFFFFF;\n",
              "    }\n",
              "  </style>\n",
              "\n",
              "      <script>\n",
              "        const buttonEl =\n",
              "          document.querySelector('#df-e8e85df6-e7cc-4ff7-8394-c95e14357bb9 button.colab-df-convert');\n",
              "        buttonEl.style.display =\n",
              "          google.colab.kernel.accessAllowed ? 'block' : 'none';\n",
              "\n",
              "        async function convertToInteractive(key) {\n",
              "          const element = document.querySelector('#df-e8e85df6-e7cc-4ff7-8394-c95e14357bb9');\n",
              "          const dataTable =\n",
              "            await google.colab.kernel.invokeFunction('convertToInteractive',\n",
              "                                                     [key], {});\n",
              "          if (!dataTable) return;\n",
              "\n",
              "          const docLinkHtml = 'Like what you see? Visit the ' +\n",
              "            '<a target=\"_blank\" href=https://colab.research.google.com/notebooks/data_table.ipynb>data table notebook</a>'\n",
              "            + ' to learn more about interactive tables.';\n",
              "          element.innerHTML = '';\n",
              "          dataTable['output_type'] = 'display_data';\n",
              "          await google.colab.output.renderOutput(dataTable, element);\n",
              "          const docLink = document.createElement('div');\n",
              "          docLink.innerHTML = docLinkHtml;\n",
              "          element.appendChild(docLink);\n",
              "        }\n",
              "      </script>\n",
              "    </div>\n",
              "  </div>\n",
              "  "
            ]
          },
          "metadata": {},
          "execution_count": 2
        }
      ]
    },
    {
      "cell_type": "code",
      "source": [
        "# remove columns that are not necessary\n",
        "\n",
        "df.drop(columns=df.columns[[0,3,8,10]],inplace=True)"
      ],
      "metadata": {
        "id": "HmhiMi8Cv78a"
      },
      "execution_count": 4,
      "outputs": []
    },
    {
      "cell_type": "code",
      "source": [
        "#info of the dataframe\n",
        "\n",
        "df.info()"
      ],
      "metadata": {
        "colab": {
          "base_uri": "https://localhost:8080/"
        },
        "id": "4hPquFqpwOWB",
        "outputId": "c1e25028-214e-49d8-b48e-09d4ce791c11"
      },
      "execution_count": 5,
      "outputs": [
        {
          "output_type": "stream",
          "name": "stdout",
          "text": [
            "<class 'pandas.core.frame.DataFrame'>\n",
            "RangeIndex: 891 entries, 0 to 890\n",
            "Data columns (total 8 columns):\n",
            " #   Column    Non-Null Count  Dtype  \n",
            "---  ------    --------------  -----  \n",
            " 0   Survived  891 non-null    int64  \n",
            " 1   Pclass    891 non-null    int64  \n",
            " 2   Sex       891 non-null    object \n",
            " 3   Age       714 non-null    float64\n",
            " 4   SibSp     891 non-null    int64  \n",
            " 5   Parch     891 non-null    int64  \n",
            " 6   Fare      891 non-null    float64\n",
            " 7   Embarked  889 non-null    object \n",
            "dtypes: float64(2), int64(4), object(2)\n",
            "memory usage: 55.8+ KB\n"
          ]
        }
      ]
    },
    {
      "cell_type": "code",
      "source": [
        "# check for missing values\n",
        "df.isna().sum()"
      ],
      "metadata": {
        "colab": {
          "base_uri": "https://localhost:8080/"
        },
        "id": "n2ZfPxdlwgd-",
        "outputId": "b5d70409-2aa5-45c0-a149-1f0be614bd29"
      },
      "execution_count": 6,
      "outputs": [
        {
          "output_type": "execute_result",
          "data": {
            "text/plain": [
              "Survived      0\n",
              "Pclass        0\n",
              "Sex           0\n",
              "Age         177\n",
              "SibSp         0\n",
              "Parch         0\n",
              "Fare          0\n",
              "Embarked      2\n",
              "dtype: int64"
            ]
          },
          "metadata": {},
          "execution_count": 6
        }
      ]
    },
    {
      "cell_type": "markdown",
      "source": [
        "Fill up missing values in the age and the embarked column."
      ],
      "metadata": {
        "id": "nznwoHm6wrKF"
      }
    },
    {
      "cell_type": "code",
      "source": [
        "# check the distribution of the age column\n",
        "sns.kdeplot(df['Age'])"
      ],
      "metadata": {
        "colab": {
          "base_uri": "https://localhost:8080/",
          "height": 296
        },
        "id": "VOJ-w_8Zwq0_",
        "outputId": "3e27837a-e1d1-4f9a-e71d-fd3196101a27"
      },
      "execution_count": 7,
      "outputs": [
        {
          "output_type": "execute_result",
          "data": {
            "text/plain": [
              "<matplotlib.axes._subplots.AxesSubplot at 0x7f83697fb670>"
            ]
          },
          "metadata": {},
          "execution_count": 7
        },
        {
          "output_type": "display_data",
          "data": {
            "text/plain": [
              "<Figure size 432x288 with 1 Axes>"
            ],
            "image/png": "[encoded data removed]"
          },
          "metadata": {
            "needs_background": "light"
          }
        }
      ]
    },
    {
      "cell_type": "code",
      "source": [
        "# check the distribution of fare\n",
        "sns.kdeplot(df['Fare'])"
      ],
      "metadata": {
        "colab": {
          "base_uri": "https://localhost:8080/",
          "height": 296
        },
        "id": "InCQRjsewm-d",
        "outputId": "b9335e47-3393-4c6f-fc6e-40925d38b796"
      },
      "execution_count": 9,
      "outputs": [
        {
          "output_type": "execute_result",
          "data": {
            "text/plain": [
              "<matplotlib.axes._subplots.AxesSubplot at 0x7f836504e7f0>"
            ]
          },
          "metadata": {},
          "execution_count": 9
        },
        {
          "output_type": "display_data",
          "data": {
            "text/plain": [
              "<Figure size 432x288 with 1 Axes>"
            ],
            "image/png": "[encoded data removed]"
          },
          "metadata": {
            "needs_background": "light"
          }
        }
      ]
    },
    {
      "cell_type": "markdown",
      "source": [
        "The fare column is right skewed and it seems that it contains outliers"
      ],
      "metadata": {
        "id": "mi59U1wcxH1P"
      }
    },
    {
      "cell_type": "code",
      "source": [
        "# check for outliers in the fare column\n",
        "\n",
        "sns.boxplot(x='Survived',y='Fare',data=df,hue='Pclass')"
      ],
      "metadata": {
        "colab": {
          "base_uri": "https://localhost:8080/",
          "height": 296
        },
        "id": "dhnYd4pBxDo1",
        "outputId": "7801a8a1-9a79-4f08-bd0a-2811ae63ae8c"
      },
      "execution_count": 18,
      "outputs": [
        {
          "output_type": "execute_result",
          "data": {
            "text/plain": [
              "<matplotlib.axes._subplots.AxesSubplot at 0x7f8364cb0f70>"
            ]
          },
          "metadata": {},
          "execution_count": 18
        },
        {
          "output_type": "display_data",
          "data": {
            "text/plain": [
              "<Figure size 432x288 with 1 Axes>"
            ],
            "image/png": "[encoded data removed]"
          },
          "metadata": {
            "needs_background": "light"
          }
        }
      ]
    },
    {
      "cell_type": "code",
      "source": [
        "! pip install feature_engine"
      ],
      "metadata": {
        "colab": {
          "base_uri": "https://localhost:8080/"
        },
        "id": "pBe6bmO5zHoD",
        "outputId": "ac8880e2-a89d-49c7-b109-158df13614d8"
      },
      "execution_count": 22,
      "outputs": [
        {
          "output_type": "stream",
          "name": "stdout",
          "text": [
            "Looking in indexes: https://pypi.org/simple, https://us-python.pkg.dev/colab-wheels/public/simple/\n",
            "Collecting feature_engine\n",
            "  Downloading feature_engine-1.5.2-py2.py3-none-any.whl (290 kB)\n",
            "\u001b[?25l     \u001b[90m━━━━━━━━━━━━━━━━━━━━━━━━━━━━━━━━━━━━━━━━\u001b[0m \u001b[32m0.0/290.0 KB\u001b[0m \u001b[31m?\u001b[0m eta \u001b[36m-:--:--\u001b[0m\r\u001b[2K     \u001b[90m━━━━━━━━━━━━━━━━━━━━━━━━━━━━━━━━━━━━━━\u001b[0m \u001b[32m290.0/290.0 KB\u001b[0m \u001b[31m21.9 MB/s\u001b[0m eta \u001b[36m0:00:00\u001b[0m\n",
            "\u001b[?25hRequirement already satisfied: statsmodels>=0.11.1 in /usr/local/lib/python3.8/dist-packages (from feature_engine) (0.12.2)\n",
            "Requirement already satisfied: numpy>=1.18.2 in /usr/local/lib/python3.8/dist-packages (from feature_engine) (1.21.6)\n",
            "Requirement already satisfied: pandas>=1.0.3 in /usr/local/lib/python3.8/dist-packages (from feature_engine) (1.3.5)\n",
            "Requirement already satisfied: scikit-learn>=1.0.0 in /usr/local/lib/python3.8/dist-packages (from feature_engine) (1.0.2)\n",
            "Requirement already satisfied: scipy>=1.4.1 in /usr/local/lib/python3.8/dist-packages (from feature_engine) (1.7.3)\n",
            "Requirement already satisfied: python-dateutil>=2.7.3 in /usr/local/lib/python3.8/dist-packages (from pandas>=1.0.3->feature_engine) (2.8.2)\n",
            "Requirement already satisfied: pytz>=2017.3 in /usr/local/lib/python3.8/dist-packages (from pandas>=1.0.3->feature_engine) (2022.7)\n",
            "Requirement already satisfied: threadpoolctl>=2.0.0 in /usr/local/lib/python3.8/dist-packages (from scikit-learn>=1.0.0->feature_engine) (3.1.0)\n",
            "Requirement already satisfied: joblib>=0.11 in /usr/local/lib/python3.8/dist-packages (from scikit-learn>=1.0.0->feature_engine) (1.2.0)\n",
            "Requirement already satisfied: patsy>=0.5 in /usr/local/lib/python3.8/dist-packages (from statsmodels>=0.11.1->feature_engine) (0.5.3)\n",
            "Requirement already satisfied: six in /usr/local/lib/python3.8/dist-packages (from patsy>=0.5->statsmodels>=0.11.1->feature_engine) (1.15.0)\n",
            "Installing collected packages: feature_engine\n",
            "Successfully installed feature_engine-1.5.2\n"
          ]
        }
      ]
    },
    {
      "cell_type": "code",
      "source": [
        "from sklearn.model_selection import train_test_split\n",
        "from sklearn.preprocessing import StandardScaler,OneHotEncoder\n",
        "from sklearn.impute import SimpleImputer\n",
        "from sklearn.tree import DecisionTreeClassifier\n",
        "from sklearn.metrics import plot_confusion_matrix,accuracy_score,classification_report\n",
        "from feature_engine.outliers import Winsorizer"
      ],
      "metadata": {
        "id": "CndVnslnxSvs"
      },
      "execution_count": 23,
      "outputs": []
    },
    {
      "cell_type": "code",
      "source": [
        "# create a new column called as family\n",
        "\n",
        "df['Family'] = df['SibSp'] + df['Parch']"
      ],
      "metadata": {
        "id": "_n3frFYQygQD"
      },
      "execution_count": 20,
      "outputs": []
    },
    {
      "cell_type": "code",
      "source": [
        "# drop the redundant columns\n",
        "\n",
        "df.drop(columns=['SibSp','Parch'],inplace=True)"
      ],
      "metadata": {
        "id": "2SRm8Ih-yoSd"
      },
      "execution_count": 26,
      "outputs": []
    },
    {
      "cell_type": "code",
      "source": [
        "# make X and y\n",
        "X = df.drop(columns='Survived')\n",
        "y = df['Survived']"
      ],
      "metadata": {
        "id": "McgrdpCmzWFL"
      },
      "execution_count": 39,
      "outputs": []
    },
    {
      "cell_type": "code",
      "source": [
        "# do train test split\n",
        "\n",
        "X_train,X_test,y_train,y_test = train_test_split(X,y,test_size=0.2)"
      ],
      "metadata": {
        "id": "vzjT7eaGzlUX"
      },
      "execution_count": 40,
      "outputs": []
    },
    {
      "cell_type": "code",
      "source": [
        "X_train.head()"
      ],
      "metadata": {
        "colab": {
          "base_uri": "https://localhost:8080/",
          "height": 206
        },
        "id": "ear3fcqL0VBF",
        "outputId": "386023fe-9a93-4c36-8002-9fa73d82e7b9"
      },
      "execution_count": 41,
      "outputs": [
        {
          "output_type": "execute_result",
          "data": {
            "text/plain": [
              "     Pclass     Sex   Age     Fare Embarked  Family\n",
              "148       2    male  36.5  26.0000        S       2\n",
              "685       2    male  25.0  41.5792        C       3\n",
              "114       3  female  17.0  14.4583        C       0\n",
              "389       2  female  17.0  12.0000        C       0\n",
              "441       3    male  20.0   9.5000        S       0"
            ],
            "text/html": [
              "\n",
              "  <div id=\"df-b3382053-f8f8-422e-86cc-5305e9baa7a3\">\n",
              "    <div class=\"colab-df-container\">\n",
              "      <div>\n",
              "<style scoped>\n",
              "    .dataframe tbody tr th:only-of-type {\n",
              "        vertical-align: middle;\n",
              "    }\n",
              "\n",
              "    .dataframe tbody tr th {\n",
              "        vertical-align: top;\n",
              "    }\n",
              "\n",
              "    .dataframe thead th {\n",
              "        text-align: right;\n",
              "    }\n",
              "</style>\n",
              "<table border=\"1\" class=\"dataframe\">\n",
              "  <thead>\n",
              "    <tr style=\"text-align: right;\">\n",
              "      <th></th>\n",
              "      <th>Pclass</th>\n",
              "      <th>Sex</th>\n",
              "      <th>Age</th>\n",
              "      <th>Fare</th>\n",
              "      <th>Embarked</th>\n",
              "      <th>Family</th>\n",
              "    </tr>\n",
              "  </thead>\n",
              "  <tbody>\n",
              "    <tr>\n",
              "      <th>148</th>\n",
              "      <td>2</td>\n",
              "      <td>male</td>\n",
              "      <td>36.5</td>\n",
              "      <td>26.0000</td>\n",
              "      <td>S</td>\n",
              "      <td>2</td>\n",
              "    </tr>\n",
              "    <tr>\n",
              "      <th>685</th>\n",
              "      <td>2</td>\n",
              "      <td>male</td>\n",
              "      <td>25.0</td>\n",
              "      <td>41.5792</td>\n",
              "      <td>C</td>\n",
              "      <td>3</td>\n",
              "    </tr>\n",
              "    <tr>\n",
              "      <th>114</th>\n",
              "      <td>3</td>\n",
              "      <td>female</td>\n",
              "      <td>17.0</td>\n",
              "      <td>14.4583</td>\n",
              "      <td>C</td>\n",
              "      <td>0</td>\n",
              "    </tr>\n",
              "    <tr>\n",
              "      <th>389</th>\n",
              "      <td>2</td>\n",
              "      <td>female</td>\n",
              "      <td>17.0</td>\n",
              "      <td>12.0000</td>\n",
              "      <td>C</td>\n",
              "      <td>0</td>\n",
              "    </tr>\n",
              "    <tr>\n",
              "      <th>441</th>\n",
              "      <td>3</td>\n",
              "      <td>male</td>\n",
              "      <td>20.0</td>\n",
              "      <td>9.5000</td>\n",
              "      <td>S</td>\n",
              "      <td>0</td>\n",
              "    </tr>\n",
              "  </tbody>\n",
              "</table>\n",
              "</div>\n",
              "      <button class=\"colab-df-convert\" onclick=\"convertToInteractive('df-b3382053-f8f8-422e-86cc-5305e9baa7a3')\"\n",
              "              title=\"Convert this dataframe to an interactive table.\"\n",
              "              style=\"display:none;\">\n",
              "        \n",
              "  <svg xmlns=\"http://www.w3.org/2000/svg\" height=\"24px\"viewBox=\"0 0 24 24\"\n",
              "       width=\"24px\">\n",
              "    <path d=\"M0 0h24v24H0V0z\" fill=\"none\"/>\n",
              "    <path d=\"M18.56 5.44l.94 2.06.94-2.06 2.06-.94-2.06-.94-.94-2.06-.94 2.06-2.06.94zm-11 1L8.5 8.5l.94-2.06 2.06-.94-2.06-.94L8.5 2.5l-.94 2.06-2.06.94zm10 10l.94 2.06.94-2.06 2.06-.94-2.06-.94-.94-2.06-.94 2.06-2.06.94z\"/><path d=\"M17.41 7.96l-1.37-1.37c-.4-.4-.92-.59-1.43-.59-.52 0-1.04.2-1.43.59L10.3 9.45l-7.72 7.72c-.78.78-.78 2.05 0 2.83L4 21.41c.39.39.9.59 1.41.59.51 0 1.02-.2 1.41-.59l7.78-7.78 2.81-2.81c.8-.78.8-2.07 0-2.86zM5.41 20L4 18.59l7.72-7.72 1.47 1.35L5.41 20z\"/>\n",
              "  </svg>\n",
              "      </button>\n",
              "      \n",
              "  <style>\n",
              "    .colab-df-container {\n",
              "      display:flex;\n",
              "      flex-wrap:wrap;\n",
              "      gap: 12px;\n",
              "    }\n",
              "\n",
              "    .colab-df-convert {\n",
              "      background-color: #E8F0FE;\n",
              "      border: none;\n",
              "      border-radius: 50%;\n",
              "      cursor: pointer;\n",
              "      display: none;\n",
              "      fill: #1967D2;\n",
              "      height: 32px;\n",
              "      padding: 0 0 0 0;\n",
              "      width: 32px;\n",
              "    }\n",
              "\n",
              "    .colab-df-convert:hover {\n",
              "      background-color: #E2EBFA;\n",
              "      box-shadow: 0px 1px 2px rgba(60, 64, 67, 0.3), 0px 1px 3px 1px rgba(60, 64, 67, 0.15);\n",
              "      fill: #174EA6;\n",
              "    }\n",
              "\n",
              "    [theme=dark] .colab-df-convert {\n",
              "      background-color: #3B4455;\n",
              "      fill: #D2E3FC;\n",
              "    }\n",
              "\n",
              "    [theme=dark] .colab-df-convert:hover {\n",
              "      background-color: #434B5C;\n",
              "      box-shadow: 0px 1px 3px 1px rgba(0, 0, 0, 0.15);\n",
              "      filter: drop-shadow(0px 1px 2px rgba(0, 0, 0, 0.3));\n",
              "      fill: #FFFFFF;\n",
              "    }\n",
              "  </style>\n",
              "\n",
              "      <script>\n",
              "        const buttonEl =\n",
              "          document.querySelector('#df-b3382053-f8f8-422e-86cc-5305e9baa7a3 button.colab-df-convert');\n",
              "        buttonEl.style.display =\n",
              "          google.colab.kernel.accessAllowed ? 'block' : 'none';\n",
              "\n",
              "        async function convertToInteractive(key) {\n",
              "          const element = document.querySelector('#df-b3382053-f8f8-422e-86cc-5305e9baa7a3');\n",
              "          const dataTable =\n",
              "            await google.colab.kernel.invokeFunction('convertToInteractive',\n",
              "                                                     [key], {});\n",
              "          if (!dataTable) return;\n",
              "\n",
              "          const docLinkHtml = 'Like what you see? Visit the ' +\n",
              "            '<a target=\"_blank\" href=https://colab.research.google.com/notebooks/data_table.ipynb>data table notebook</a>'\n",
              "            + ' to learn more about interactive tables.';\n",
              "          element.innerHTML = '';\n",
              "          dataTable['output_type'] = 'display_data';\n",
              "          await google.colab.output.renderOutput(dataTable, element);\n",
              "          const docLink = document.createElement('div');\n",
              "          docLink.innerHTML = docLinkHtml;\n",
              "          element.appendChild(docLink);\n",
              "        }\n",
              "      </script>\n",
              "    </div>\n",
              "  </div>\n",
              "  "
            ]
          },
          "metadata": {},
          "execution_count": 41
        }
      ]
    },
    {
      "cell_type": "code",
      "source": [
        "from sklearn import set_config\n",
        "set_config(display='diagram')"
      ],
      "metadata": {
        "id": "MoktHwkg0e4H"
      },
      "execution_count": 32,
      "outputs": []
    },
    {
      "cell_type": "code",
      "source": [
        "# do the tansformations\n",
        "\n",
        "from sklearn.compose import ColumnTransformer\n",
        "from sklearn.pipeline import Pipeline\n",
        "\n",
        "age_pipe = Pipeline(steps=[\n",
        "    ('impute',SimpleImputer(strategy='median')),\n",
        "    ('scale',StandardScaler())\n",
        "])\n",
        "\n",
        "fare_pipe = Pipeline(steps=[\n",
        "    ('outlier',Winsorizer(capping_method='iqr',fold=1.5)),\n",
        "    ('scale',StandardScaler())\n",
        "])\n",
        "\n",
        "embark_pipe = Pipeline(steps=[\n",
        "    ('impute',SimpleImputer(strategy='most_frequent')),\n",
        "    ('ohe',OneHotEncoder(drop='first',sparse=False,handle_unknown='ignore'))\n",
        "])\n",
        "\n",
        "transformer = ColumnTransformer(transformers=[\n",
        "    ('ohe',OneHotEncoder(drop='first',sparse=False),['Sex']),\n",
        "    ('age',age_pipe,['Age']),\n",
        "    ('fare',fare_pipe,['Fare']),\n",
        "    ('embarked',embark_pipe,[\"Embarked\"])\n",
        "],remainder='passthrough')"
      ],
      "metadata": {
        "id": "Ea9W0V3gzyUw"
      },
      "execution_count": 34,
      "outputs": []
    },
    {
      "cell_type": "code",
      "source": [
        "transformer"
      ],
      "metadata": {
        "colab": {
          "base_uri": "https://localhost:8080/",
          "height": 151
        },
        "id": "X88bjRaV2s2L",
        "outputId": "e4277302-9829-4ddf-8b1d-534aa8ed5531"
      },
      "execution_count": 36,
      "outputs": [
        {
          "output_type": "execute_result",
          "data": {
            "text/plain": [
              "ColumnTransformer(remainder='passthrough',\n",
              "                  transformers=[('ohe',\n",
              "                                 OneHotEncoder(drop='first', sparse=False),\n",
              "                                 ['Sex']),\n",
              "                                ('age',\n",
              "                                 Pipeline(steps=[('impute',\n",
              "                                                  SimpleImputer(strategy='median')),\n",
              "                                                 ('scale', StandardScaler())]),\n",
              "                                 ['Age']),\n",
              "                                ('fare',\n",
              "                                 Pipeline(steps=[('outlier',\n",
              "                                                  Winsorizer(capping_method='iqr',\n",
              "                                                             fold=1.5)),\n",
              "                                                 ('scale', StandardScaler())]),\n",
              "                                 ['Fare']),\n",
              "                                ('embarked',\n",
              "                                 Pipeline(steps=[('impute',\n",
              "                                                  SimpleImputer(strategy='most_frequent')),\n",
              "                                                 ('ohe',\n",
              "                                                  OneHotEncoder(drop='first',\n",
              "                                                                handle_unknown='ignore',\n",
              "                                                                sparse=False))]),\n",
              "                                 ['Embarked'])])"
            ],
            "text/html": [
              "<style>#sk-6c06de8f-692a-463f-902f-0edd64f22868 {color: black;background-color: white;}#sk-6c06de8f-692a-463f-902f-0edd64f22868 pre{padding: 0;}#sk-6c06de8f-692a-463f-902f-0edd64f22868 div.sk-toggleable {background-color: white;}#sk-6c06de8f-692a-463f-902f-0edd64f22868 label.sk-toggleable__label {cursor: pointer;display: block;width: 100%;margin-bottom: 0;padding: 0.3em;box-sizing: border-box;text-align: center;}#sk-6c06de8f-692a-463f-902f-0edd64f22868 label.sk-toggleable__label-arrow:before {content: \"▸\";float: left;margin-right: 0.25em;color: #696969;}#sk-6c06de8f-692a-463f-902f-0edd64f22868 label.sk-toggleable__label-arrow:hover:before {color: black;}#sk-6c06de8f-692a-463f-902f-0edd64f22868 div.sk-estimator:hover label.sk-toggleable__label-arrow:before {color: black;}#sk-6c06de8f-692a-463f-902f-0edd64f22868 div.sk-toggleable__content {max-height: 0;max-width: 0;overflow: hidden;text-align: left;background-color: #f0f8ff;}#sk-6c06de8f-692a-463f-902f-0edd64f22868 div.sk-toggleable__content pre {margin: 0.2em;color: black;border-radius: 0.25em;background-color: #f0f8ff;}#sk-6c06de8f-692a-463f-902f-0edd64f22868 input.sk-toggleable__control:checked~div.sk-toggleable__content {max-height: 200px;max-width: 100%;overflow: auto;}#sk-6c06de8f-692a-463f-902f-0edd64f22868 input.sk-toggleable__control:checked~label.sk-toggleable__label-arrow:before {content: \"▾\";}#sk-6c06de8f-692a-463f-902f-0edd64f22868 div.sk-estimator input.sk-toggleable__control:checked~label.sk-toggleable__label {background-color: #d4ebff;}#sk-6c06de8f-692a-463f-902f-0edd64f22868 div.sk-label input.sk-toggleable__control:checked~label.sk-toggleable__label {background-color: #d4ebff;}#sk-6c06de8f-692a-463f-902f-0edd64f22868 input.sk-hidden--visually {border: 0;clip: rect(1px 1px 1px 1px);clip: rect(1px, 1px, 1px, 1px);height: 1px;margin: -1px;overflow: hidden;padding: 0;position: absolute;width: 1px;}#sk-6c06de8f-692a-463f-902f-0edd64f22868 div.sk-estimator {font-family: monospace;background-color: #f0f8ff;border: 1px dotted black;border-radius: 0.25em;box-sizing: border-box;margin-bottom: 0.5em;}#sk-6c06de8f-692a-463f-902f-0edd64f22868 div.sk-estimator:hover {background-color: #d4ebff;}#sk-6c06de8f-692a-463f-902f-0edd64f22868 div.sk-parallel-item::after {content: \"\";width: 100%;border-bottom: 1px solid gray;flex-grow: 1;}#sk-6c06de8f-692a-463f-902f-0edd64f22868 div.sk-label:hover label.sk-toggleable__label {background-color: #d4ebff;}#sk-6c06de8f-692a-463f-902f-0edd64f22868 div.sk-serial::before {content: \"\";position: absolute;border-left: 1px solid gray;box-sizing: border-box;top: 2em;bottom: 0;left: 50%;}#sk-6c06de8f-692a-463f-902f-0edd64f22868 div.sk-serial {display: flex;flex-direction: column;align-items: center;background-color: white;padding-right: 0.2em;padding-left: 0.2em;}#sk-6c06de8f-692a-463f-902f-0edd64f22868 div.sk-item {z-index: 1;}#sk-6c06de8f-692a-463f-902f-0edd64f22868 div.sk-parallel {display: flex;align-items: stretch;justify-content: center;background-color: white;}#sk-6c06de8f-692a-463f-902f-0edd64f22868 div.sk-parallel::before {content: \"\";position: absolute;border-left: 1px solid gray;box-sizing: border-box;top: 2em;bottom: 0;left: 50%;}#sk-6c06de8f-692a-463f-902f-0edd64f22868 div.sk-parallel-item {display: flex;flex-direction: column;position: relative;background-color: white;}#sk-6c06de8f-692a-463f-902f-0edd64f22868 div.sk-parallel-item:first-child::after {align-self: flex-end;width: 50%;}#sk-6c06de8f-692a-463f-902f-0edd64f22868 div.sk-parallel-item:last-child::after {align-self: flex-start;width: 50%;}#sk-6c06de8f-692a-463f-902f-0edd64f22868 div.sk-parallel-item:only-child::after {width: 0;}#sk-6c06de8f-692a-463f-902f-0edd64f22868 div.sk-dashed-wrapped {border: 1px dashed gray;margin: 0 0.4em 0.5em 0.4em;box-sizing: border-box;padding-bottom: 0.4em;background-color: white;position: relative;}#sk-6c06de8f-692a-463f-902f-0edd64f22868 div.sk-label label {font-family: monospace;font-weight: bold;background-color: white;display: inline-block;line-height: 1.2em;}#sk-6c06de8f-692a-463f-902f-0edd64f22868 div.sk-label-container {position: relative;z-index: 2;text-align: center;}#sk-6c06de8f-692a-463f-902f-0edd64f22868 div.sk-container {/* jupyter's `normalize.less` sets `[hidden] { display: none; }` but bootstrap.min.css set `[hidden] { display: none !important; }` so we also need the `!important` here to be able to override the default hidden behavior on the sphinx rendered scikit-learn.org. See: https://github.com/scikit-learn/scikit-learn/issues/21755 */display: inline-block !important;position: relative;}#sk-6c06de8f-692a-463f-902f-0edd64f22868 div.sk-text-repr-fallback {display: none;}</style><div id=\"sk-6c06de8f-692a-463f-902f-0edd64f22868\" class=\"sk-top-container\"><div class=\"sk-text-repr-fallback\"><pre>ColumnTransformer(remainder=&#x27;passthrough&#x27;,\n",
              "                  transformers=[(&#x27;ohe&#x27;,\n",
              "                                 OneHotEncoder(drop=&#x27;first&#x27;, sparse=False),\n",
              "                                 [&#x27;Sex&#x27;]),\n",
              "                                (&#x27;age&#x27;,\n",
              "                                 Pipeline(steps=[(&#x27;impute&#x27;,\n",
              "                                                  SimpleImputer(strategy=&#x27;median&#x27;)),\n",
              "                                                 (&#x27;scale&#x27;, StandardScaler())]),\n",
              "                                 [&#x27;Age&#x27;]),\n",
              "                                (&#x27;fare&#x27;,\n",
              "                                 Pipeline(steps=[(&#x27;outlier&#x27;,\n",
              "                                                  Winsorizer(capping_method=&#x27;iqr&#x27;,\n",
              "                                                             fold=1.5)),\n",
              "                                                 (&#x27;scale&#x27;, StandardScaler())]),\n",
              "                                 [&#x27;Fare&#x27;]),\n",
              "                                (&#x27;embarked&#x27;,\n",
              "                                 Pipeline(steps=[(&#x27;impute&#x27;,\n",
              "                                                  SimpleImputer(strategy=&#x27;most_frequent&#x27;)),\n",
              "                                                 (&#x27;ohe&#x27;,\n",
              "                                                  OneHotEncoder(drop=&#x27;first&#x27;,\n",
              "                                                                handle_unknown=&#x27;ignore&#x27;,\n",
              "                                                                sparse=False))]),\n",
              "                                 [&#x27;Embarked&#x27;])])</pre><b>Please rerun this cell to show the HTML repr or trust the notebook.</b></div><div class=\"sk-container\" hidden><div class=\"sk-item sk-dashed-wrapped\"><div class=\"sk-label-container\"><div class=\"sk-label sk-toggleable\"><input class=\"sk-toggleable__control sk-hidden--visually\" id=\"71ac6618-3f4e-45b7-a823-e128b26073ff\" type=\"checkbox\" ><label for=\"71ac6618-3f4e-45b7-a823-e128b26073ff\" class=\"sk-toggleable__label sk-toggleable__label-arrow\">ColumnTransformer</label><div class=\"sk-toggleable__content\"><pre>ColumnTransformer(remainder=&#x27;passthrough&#x27;,\n",
              "                  transformers=[(&#x27;ohe&#x27;,\n",
              "                                 OneHotEncoder(drop=&#x27;first&#x27;, sparse=False),\n",
              "                                 [&#x27;Sex&#x27;]),\n",
              "                                (&#x27;age&#x27;,\n",
              "                                 Pipeline(steps=[(&#x27;impute&#x27;,\n",
              "                                                  SimpleImputer(strategy=&#x27;median&#x27;)),\n",
              "                                                 (&#x27;scale&#x27;, StandardScaler())]),\n",
              "                                 [&#x27;Age&#x27;]),\n",
              "                                (&#x27;fare&#x27;,\n",
              "                                 Pipeline(steps=[(&#x27;outlier&#x27;,\n",
              "                                                  Winsorizer(capping_method=&#x27;iqr&#x27;,\n",
              "                                                             fold=1.5)),\n",
              "                                                 (&#x27;scale&#x27;, StandardScaler())]),\n",
              "                                 [&#x27;Fare&#x27;]),\n",
              "                                (&#x27;embarked&#x27;,\n",
              "                                 Pipeline(steps=[(&#x27;impute&#x27;,\n",
              "                                                  SimpleImputer(strategy=&#x27;most_frequent&#x27;)),\n",
              "                                                 (&#x27;ohe&#x27;,\n",
              "                                                  OneHotEncoder(drop=&#x27;first&#x27;,\n",
              "                                                                handle_unknown=&#x27;ignore&#x27;,\n",
              "                                                                sparse=False))]),\n",
              "                                 [&#x27;Embarked&#x27;])])</pre></div></div></div><div class=\"sk-parallel\"><div class=\"sk-parallel-item\"><div class=\"sk-item\"><div class=\"sk-label-container\"><div class=\"sk-label sk-toggleable\"><input class=\"sk-toggleable__control sk-hidden--visually\" id=\"c42331af-5d02-41f1-ae6b-0143750d1b0e\" type=\"checkbox\" ><label for=\"c42331af-5d02-41f1-ae6b-0143750d1b0e\" class=\"sk-toggleable__label sk-toggleable__label-arrow\">ohe</label><div class=\"sk-toggleable__content\"><pre>[&#x27;Sex&#x27;]</pre></div></div></div><div class=\"sk-serial\"><div class=\"sk-item\"><div class=\"sk-estimator sk-toggleable\"><input class=\"sk-toggleable__control sk-hidden--visually\" id=\"126c6f65-64f7-4da8-aa32-ee9c29fba3c1\" type=\"checkbox\" ><label for=\"126c6f65-64f7-4da8-aa32-ee9c29fba3c1\" class=\"sk-toggleable__label sk-toggleable__label-arrow\">OneHotEncoder</label><div class=\"sk-toggleable__content\"><pre>OneHotEncoder(drop=&#x27;first&#x27;, sparse=False)</pre></div></div></div></div></div></div><div class=\"sk-parallel-item\"><div class=\"sk-item\"><div class=\"sk-label-container\"><div class=\"sk-label sk-toggleable\"><input class=\"sk-toggleable__control sk-hidden--visually\" id=\"516782c1-86f4-451e-9105-57df9f709a0e\" type=\"checkbox\" ><label for=\"516782c1-86f4-451e-9105-57df9f709a0e\" class=\"sk-toggleable__label sk-toggleable__label-arrow\">age</label><div class=\"sk-toggleable__content\"><pre>[&#x27;Age&#x27;]</pre></div></div></div><div class=\"sk-serial\"><div class=\"sk-item\"><div class=\"sk-serial\"><div class=\"sk-item\"><div class=\"sk-estimator sk-toggleable\"><input class=\"sk-toggleable__control sk-hidden--visually\" id=\"37bf88e1-863a-469b-819f-a62f8ecb850e\" type=\"checkbox\" ><label for=\"37bf88e1-863a-469b-819f-a62f8ecb850e\" class=\"sk-toggleable__label sk-toggleable__label-arrow\">SimpleImputer</label><div class=\"sk-toggleable__content\"><pre>SimpleImputer(strategy=&#x27;median&#x27;)</pre></div></div></div><div class=\"sk-item\"><div class=\"sk-estimator sk-toggleable\"><input class=\"sk-toggleable__control sk-hidden--visually\" id=\"a69f7399-ef84-4e93-b30d-127a7299f625\" type=\"checkbox\" ><label for=\"a69f7399-ef84-4e93-b30d-127a7299f625\" class=\"sk-toggleable__label sk-toggleable__label-arrow\">StandardScaler</label><div class=\"sk-toggleable__content\"><pre>StandardScaler()</pre></div></div></div></div></div></div></div></div><div class=\"sk-parallel-item\"><div class=\"sk-item\"><div class=\"sk-label-container\"><div class=\"sk-label sk-toggleable\"><input class=\"sk-toggleable__control sk-hidden--visually\" id=\"e3f11007-2a39-4c83-974d-6e846c9c8d0c\" type=\"checkbox\" ><label for=\"e3f11007-2a39-4c83-974d-6e846c9c8d0c\" class=\"sk-toggleable__label sk-toggleable__label-arrow\">fare</label><div class=\"sk-toggleable__content\"><pre>[&#x27;Fare&#x27;]</pre></div></div></div><div class=\"sk-serial\"><div class=\"sk-item\"><div class=\"sk-serial\"><div class=\"sk-item\"><div class=\"sk-estimator sk-toggleable\"><input class=\"sk-toggleable__control sk-hidden--visually\" id=\"b559b399-df57-4f84-b941-6e0528ee75cc\" type=\"checkbox\" ><label for=\"b559b399-df57-4f84-b941-6e0528ee75cc\" class=\"sk-toggleable__label sk-toggleable__label-arrow\">Winsorizer</label><div class=\"sk-toggleable__content\"><pre>Winsorizer(capping_method=&#x27;iqr&#x27;, fold=1.5)</pre></div></div></div><div class=\"sk-item\"><div class=\"sk-estimator sk-toggleable\"><input class=\"sk-toggleable__control sk-hidden--visually\" id=\"df95e57c-339e-4f48-8a8f-4a68a6157ef9\" type=\"checkbox\" ><label for=\"df95e57c-339e-4f48-8a8f-4a68a6157ef9\" class=\"sk-toggleable__label sk-toggleable__label-arrow\">StandardScaler</label><div class=\"sk-toggleable__content\"><pre>StandardScaler()</pre></div></div></div></div></div></div></div></div><div class=\"sk-parallel-item\"><div class=\"sk-item\"><div class=\"sk-label-container\"><div class=\"sk-label sk-toggleable\"><input class=\"sk-toggleable__control sk-hidden--visually\" id=\"23e0d293-99b4-4f8b-b579-6c2ec87edba6\" type=\"checkbox\" ><label for=\"23e0d293-99b4-4f8b-b579-6c2ec87edba6\" class=\"sk-toggleable__label sk-toggleable__label-arrow\">embarked</label><div class=\"sk-toggleable__content\"><pre>[&#x27;Embarked&#x27;]</pre></div></div></div><div class=\"sk-serial\"><div class=\"sk-item\"><div class=\"sk-serial\"><div class=\"sk-item\"><div class=\"sk-estimator sk-toggleable\"><input class=\"sk-toggleable__control sk-hidden--visually\" id=\"a43e4aea-e8ee-4cd2-97e6-f0262c98a241\" type=\"checkbox\" ><label for=\"a43e4aea-e8ee-4cd2-97e6-f0262c98a241\" class=\"sk-toggleable__label sk-toggleable__label-arrow\">SimpleImputer</label><div class=\"sk-toggleable__content\"><pre>SimpleImputer(strategy=&#x27;most_frequent&#x27;)</pre></div></div></div><div class=\"sk-item\"><div class=\"sk-estimator sk-toggleable\"><input class=\"sk-toggleable__control sk-hidden--visually\" id=\"d572e5e2-34d4-4bb9-876b-b055f98cfaea\" type=\"checkbox\" ><label for=\"d572e5e2-34d4-4bb9-876b-b055f98cfaea\" class=\"sk-toggleable__label sk-toggleable__label-arrow\">OneHotEncoder</label><div class=\"sk-toggleable__content\"><pre>OneHotEncoder(drop=&#x27;first&#x27;, handle_unknown=&#x27;ignore&#x27;, sparse=False)</pre></div></div></div></div></div></div></div></div><div class=\"sk-parallel-item\"><div class=\"sk-item\"><div class=\"sk-label-container\"><div class=\"sk-label sk-toggleable\"><input class=\"sk-toggleable__control sk-hidden--visually\" id=\"569d780d-deae-4be2-bd41-ad2aa9cdeb37\" type=\"checkbox\" ><label for=\"569d780d-deae-4be2-bd41-ad2aa9cdeb37\" class=\"sk-toggleable__label sk-toggleable__label-arrow\">remainder</label><div class=\"sk-toggleable__content\"><pre>[&#x27;Pclass&#x27;, &#x27;Family&#x27;]</pre></div></div></div><div class=\"sk-serial\"><div class=\"sk-item\"><div class=\"sk-estimator sk-toggleable\"><input class=\"sk-toggleable__control sk-hidden--visually\" id=\"25249d1d-3bf9-4faf-9a39-e141af762a79\" type=\"checkbox\" ><label for=\"25249d1d-3bf9-4faf-9a39-e141af762a79\" class=\"sk-toggleable__label sk-toggleable__label-arrow\">passthrough</label><div class=\"sk-toggleable__content\"><pre>passthrough</pre></div></div></div></div></div></div></div></div></div></div>"
            ]
          },
          "metadata": {},
          "execution_count": 36
        }
      ]
    },
    {
      "cell_type": "code",
      "source": [
        "X_train_trans = transformer.fit_transform(X_train)\n",
        "X_test_trans = transformer.transform(X_test)"
      ],
      "metadata": {
        "id": "_w_Q87mU0RMm"
      },
      "execution_count": 35,
      "outputs": []
    },
    {
      "cell_type": "code",
      "source": [
        "# model pipeline\n",
        "\n",
        "dt = DecisionTreeClassifier()\n",
        "model = Pipeline(steps=[\n",
        "    ('trans',transformer),\n",
        "    ('model',dt)\n",
        "])"
      ],
      "metadata": {
        "id": "KyhuIHWD2sF9"
      },
      "execution_count": 37,
      "outputs": []
    },
    {
      "cell_type": "code",
      "source": [
        "model"
      ],
      "metadata": {
        "colab": {
          "base_uri": "https://localhost:8080/",
          "height": 425
        },
        "id": "EryVfhUo3Df4",
        "outputId": "24739892-dd9c-4b26-d117-15a49667ad88"
      },
      "execution_count": 38,
      "outputs": [
        {
          "output_type": "execute_result",
          "data": {
            "text/plain": [
              "Pipeline(steps=[('trans',\n",
              "                 ColumnTransformer(remainder='passthrough',\n",
              "                                   transformers=[('ohe',\n",
              "                                                  OneHotEncoder(drop='first',\n",
              "                                                                sparse=False),\n",
              "                                                  ['Sex']),\n",
              "                                                 ('age',\n",
              "                                                  Pipeline(steps=[('impute',\n",
              "                                                                   SimpleImputer(strategy='median')),\n",
              "                                                                  ('scale',\n",
              "                                                                   StandardScaler())]),\n",
              "                                                  ['Age']),\n",
              "                                                 ('fare',\n",
              "                                                  Pipeline(steps=[('outlier',\n",
              "                                                                   Winsorizer(capping_method='iqr',\n",
              "                                                                              fold=1.5)),\n",
              "                                                                  ('scale',\n",
              "                                                                   StandardScaler())]),\n",
              "                                                  ['Fare']),\n",
              "                                                 ('embarked',\n",
              "                                                  Pipeline(steps=[('impute',\n",
              "                                                                   SimpleImputer(strategy='most_frequent')),\n",
              "                                                                  ('ohe',\n",
              "                                                                   OneHotEncoder(drop='first',\n",
              "                                                                                 handle_unknown='ignore',\n",
              "                                                                                 sparse=False))]),\n",
              "                                                  ['Embarked'])])),\n",
              "                ('model', DecisionTreeClassifier())])"
            ],
            "text/html": [
              "<style>#sk-cf45a7b9-8675-43fc-aa22-cb7f6de063e2 {color: black;background-color: white;}#sk-cf45a7b9-8675-43fc-aa22-cb7f6de063e2 pre{padding: 0;}#sk-cf45a7b9-8675-43fc-aa22-cb7f6de063e2 div.sk-toggleable {background-color: white;}#sk-cf45a7b9-8675-43fc-aa22-cb7f6de063e2 label.sk-toggleable__label {cursor: pointer;display: block;width: 100%;margin-bottom: 0;padding: 0.3em;box-sizing: border-box;text-align: center;}#sk-cf45a7b9-8675-43fc-aa22-cb7f6de063e2 label.sk-toggleable__label-arrow:before {content: \"▸\";float: left;margin-right: 0.25em;color: #696969;}#sk-cf45a7b9-8675-43fc-aa22-cb7f6de063e2 label.sk-toggleable__label-arrow:hover:before {color: black;}#sk-cf45a7b9-8675-43fc-aa22-cb7f6de063e2 div.sk-estimator:hover label.sk-toggleable__label-arrow:before {color: black;}#sk-cf45a7b9-8675-43fc-aa22-cb7f6de063e2 div.sk-toggleable__content {max-height: 0;max-width: 0;overflow: hidden;text-align: left;background-color: #f0f8ff;}#sk-cf45a7b9-8675-43fc-aa22-cb7f6de063e2 div.sk-toggleable__content pre {margin: 0.2em;color: black;border-radius: 0.25em;background-color: #f0f8ff;}#sk-cf45a7b9-8675-43fc-aa22-cb7f6de063e2 input.sk-toggleable__control:checked~div.sk-toggleable__content {max-height: 200px;max-width: 100%;overflow: auto;}#sk-cf45a7b9-8675-43fc-aa22-cb7f6de063e2 input.sk-toggleable__control:checked~label.sk-toggleable__label-arrow:before {content: \"▾\";}#sk-cf45a7b9-8675-43fc-aa22-cb7f6de063e2 div.sk-estimator input.sk-toggleable__control:checked~label.sk-toggleable__label {background-color: #d4ebff;}#sk-cf45a7b9-8675-43fc-aa22-cb7f6de063e2 div.sk-label input.sk-toggleable__control:checked~label.sk-toggleable__label {background-color: #d4ebff;}#sk-cf45a7b9-8675-43fc-aa22-cb7f6de063e2 input.sk-hidden--visually {border: 0;clip: rect(1px 1px 1px 1px);clip: rect(1px, 1px, 1px, 1px);height: 1px;margin: -1px;overflow: hidden;padding: 0;position: absolute;width: 1px;}#sk-cf45a7b9-8675-43fc-aa22-cb7f6de063e2 div.sk-estimator {font-family: monospace;background-color: #f0f8ff;border: 1px dotted black;border-radius: 0.25em;box-sizing: border-box;margin-bottom: 0.5em;}#sk-cf45a7b9-8675-43fc-aa22-cb7f6de063e2 div.sk-estimator:hover {background-color: #d4ebff;}#sk-cf45a7b9-8675-43fc-aa22-cb7f6de063e2 div.sk-parallel-item::after {content: \"\";width: 100%;border-bottom: 1px solid gray;flex-grow: 1;}#sk-cf45a7b9-8675-43fc-aa22-cb7f6de063e2 div.sk-label:hover label.sk-toggleable__label {background-color: #d4ebff;}#sk-cf45a7b9-8675-43fc-aa22-cb7f6de063e2 div.sk-serial::before {content: \"\";position: absolute;border-left: 1px solid gray;box-sizing: border-box;top: 2em;bottom: 0;left: 50%;}#sk-cf45a7b9-8675-43fc-aa22-cb7f6de063e2 div.sk-serial {display: flex;flex-direction: column;align-items: center;background-color: white;padding-right: 0.2em;padding-left: 0.2em;}#sk-cf45a7b9-8675-43fc-aa22-cb7f6de063e2 div.sk-item {z-index: 1;}#sk-cf45a7b9-8675-43fc-aa22-cb7f6de063e2 div.sk-parallel {display: flex;align-items: stretch;justify-content: center;background-color: white;}#sk-cf45a7b9-8675-43fc-aa22-cb7f6de063e2 div.sk-parallel::before {content: \"\";position: absolute;border-left: 1px solid gray;box-sizing: border-box;top: 2em;bottom: 0;left: 50%;}#sk-cf45a7b9-8675-43fc-aa22-cb7f6de063e2 div.sk-parallel-item {display: flex;flex-direction: column;position: relative;background-color: white;}#sk-cf45a7b9-8675-43fc-aa22-cb7f6de063e2 div.sk-parallel-item:first-child::after {align-self: flex-end;width: 50%;}#sk-cf45a7b9-8675-43fc-aa22-cb7f6de063e2 div.sk-parallel-item:last-child::after {align-self: flex-start;width: 50%;}#sk-cf45a7b9-8675-43fc-aa22-cb7f6de063e2 div.sk-parallel-item:only-child::after {width: 0;}#sk-cf45a7b9-8675-43fc-aa22-cb7f6de063e2 div.sk-dashed-wrapped {border: 1px dashed gray;margin: 0 0.4em 0.5em 0.4em;box-sizing: border-box;padding-bottom: 0.4em;background-color: white;position: relative;}#sk-cf45a7b9-8675-43fc-aa22-cb7f6de063e2 div.sk-label label {font-family: monospace;font-weight: bold;background-color: white;display: inline-block;line-height: 1.2em;}#sk-cf45a7b9-8675-43fc-aa22-cb7f6de063e2 div.sk-label-container {position: relative;z-index: 2;text-align: center;}#sk-cf45a7b9-8675-43fc-aa22-cb7f6de063e2 div.sk-container {/* jupyter's `normalize.less` sets `[hidden] { display: none; }` but bootstrap.min.css set `[hidden] { display: none !important; }` so we also need the `!important` here to be able to override the default hidden behavior on the sphinx rendered scikit-learn.org. See: https://github.com/scikit-learn/scikit-learn/issues/21755 */display: inline-block !important;position: relative;}#sk-cf45a7b9-8675-43fc-aa22-cb7f6de063e2 div.sk-text-repr-fallback {display: none;}</style><div id=\"sk-cf45a7b9-8675-43fc-aa22-cb7f6de063e2\" class=\"sk-top-container\"><div class=\"sk-text-repr-fallback\"><pre>Pipeline(steps=[(&#x27;trans&#x27;,\n",
              "                 ColumnTransformer(remainder=&#x27;passthrough&#x27;,\n",
              "                                   transformers=[(&#x27;ohe&#x27;,\n",
              "                                                  OneHotEncoder(drop=&#x27;first&#x27;,\n",
              "                                                                sparse=False),\n",
              "                                                  [&#x27;Sex&#x27;]),\n",
              "                                                 (&#x27;age&#x27;,\n",
              "                                                  Pipeline(steps=[(&#x27;impute&#x27;,\n",
              "                                                                   SimpleImputer(strategy=&#x27;median&#x27;)),\n",
              "                                                                  (&#x27;scale&#x27;,\n",
              "                                                                   StandardScaler())]),\n",
              "                                                  [&#x27;Age&#x27;]),\n",
              "                                                 (&#x27;fare&#x27;,\n",
              "                                                  Pipeline(steps=[(&#x27;outlier&#x27;,\n",
              "                                                                   Winsorizer(capping_method=&#x27;iqr&#x27;,\n",
              "                                                                              fold=1.5)),\n",
              "                                                                  (&#x27;scale&#x27;,\n",
              "                                                                   StandardScaler())]),\n",
              "                                                  [&#x27;Fare&#x27;]),\n",
              "                                                 (&#x27;embarked&#x27;,\n",
              "                                                  Pipeline(steps=[(&#x27;impute&#x27;,\n",
              "                                                                   SimpleImputer(strategy=&#x27;most_frequent&#x27;)),\n",
              "                                                                  (&#x27;ohe&#x27;,\n",
              "                                                                   OneHotEncoder(drop=&#x27;first&#x27;,\n",
              "                                                                                 handle_unknown=&#x27;ignore&#x27;,\n",
              "                                                                                 sparse=False))]),\n",
              "                                                  [&#x27;Embarked&#x27;])])),\n",
              "                (&#x27;model&#x27;, DecisionTreeClassifier())])</pre><b>Please rerun this cell to show the HTML repr or trust the notebook.</b></div><div class=\"sk-container\" hidden><div class=\"sk-item sk-dashed-wrapped\"><div class=\"sk-label-container\"><div class=\"sk-label sk-toggleable\"><input class=\"sk-toggleable__control sk-hidden--visually\" id=\"44be9c97-31e8-44e2-b3f3-dc0d35bd4f40\" type=\"checkbox\" ><label for=\"44be9c97-31e8-44e2-b3f3-dc0d35bd4f40\" class=\"sk-toggleable__label sk-toggleable__label-arrow\">Pipeline</label><div class=\"sk-toggleable__content\"><pre>Pipeline(steps=[(&#x27;trans&#x27;,\n",
              "                 ColumnTransformer(remainder=&#x27;passthrough&#x27;,\n",
              "                                   transformers=[(&#x27;ohe&#x27;,\n",
              "                                                  OneHotEncoder(drop=&#x27;first&#x27;,\n",
              "                                                                sparse=False),\n",
              "                                                  [&#x27;Sex&#x27;]),\n",
              "                                                 (&#x27;age&#x27;,\n",
              "                                                  Pipeline(steps=[(&#x27;impute&#x27;,\n",
              "                                                                   SimpleImputer(strategy=&#x27;median&#x27;)),\n",
              "                                                                  (&#x27;scale&#x27;,\n",
              "                                                                   StandardScaler())]),\n",
              "                                                  [&#x27;Age&#x27;]),\n",
              "                                                 (&#x27;fare&#x27;,\n",
              "                                                  Pipeline(steps=[(&#x27;outlier&#x27;,\n",
              "                                                                   Winsorizer(capping_method=&#x27;iqr&#x27;,\n",
              "                                                                              fold=1.5)),\n",
              "                                                                  (&#x27;scale&#x27;,\n",
              "                                                                   StandardScaler())]),\n",
              "                                                  [&#x27;Fare&#x27;]),\n",
              "                                                 (&#x27;embarked&#x27;,\n",
              "                                                  Pipeline(steps=[(&#x27;impute&#x27;,\n",
              "                                                                   SimpleImputer(strategy=&#x27;most_frequent&#x27;)),\n",
              "                                                                  (&#x27;ohe&#x27;,\n",
              "                                                                   OneHotEncoder(drop=&#x27;first&#x27;,\n",
              "                                                                                 handle_unknown=&#x27;ignore&#x27;,\n",
              "                                                                                 sparse=False))]),\n",
              "                                                  [&#x27;Embarked&#x27;])])),\n",
              "                (&#x27;model&#x27;, DecisionTreeClassifier())])</pre></div></div></div><div class=\"sk-serial\"><div class=\"sk-item sk-dashed-wrapped\"><div class=\"sk-label-container\"><div class=\"sk-label sk-toggleable\"><input class=\"sk-toggleable__control sk-hidden--visually\" id=\"6027d5de-ba6e-4d17-af06-9eec3d4d462d\" type=\"checkbox\" ><label for=\"6027d5de-ba6e-4d17-af06-9eec3d4d462d\" class=\"sk-toggleable__label sk-toggleable__label-arrow\">trans: ColumnTransformer</label><div class=\"sk-toggleable__content\"><pre>ColumnTransformer(remainder=&#x27;passthrough&#x27;,\n",
              "                  transformers=[(&#x27;ohe&#x27;,\n",
              "                                 OneHotEncoder(drop=&#x27;first&#x27;, sparse=False),\n",
              "                                 [&#x27;Sex&#x27;]),\n",
              "                                (&#x27;age&#x27;,\n",
              "                                 Pipeline(steps=[(&#x27;impute&#x27;,\n",
              "                                                  SimpleImputer(strategy=&#x27;median&#x27;)),\n",
              "                                                 (&#x27;scale&#x27;, StandardScaler())]),\n",
              "                                 [&#x27;Age&#x27;]),\n",
              "                                (&#x27;fare&#x27;,\n",
              "                                 Pipeline(steps=[(&#x27;outlier&#x27;,\n",
              "                                                  Winsorizer(capping_method=&#x27;iqr&#x27;,\n",
              "                                                             fold=1.5)),\n",
              "                                                 (&#x27;scale&#x27;, StandardScaler())]),\n",
              "                                 [&#x27;Fare&#x27;]),\n",
              "                                (&#x27;embarked&#x27;,\n",
              "                                 Pipeline(steps=[(&#x27;impute&#x27;,\n",
              "                                                  SimpleImputer(strategy=&#x27;most_frequent&#x27;)),\n",
              "                                                 (&#x27;ohe&#x27;,\n",
              "                                                  OneHotEncoder(drop=&#x27;first&#x27;,\n",
              "                                                                handle_unknown=&#x27;ignore&#x27;,\n",
              "                                                                sparse=False))]),\n",
              "                                 [&#x27;Embarked&#x27;])])</pre></div></div></div><div class=\"sk-parallel\"><div class=\"sk-parallel-item\"><div class=\"sk-item\"><div class=\"sk-label-container\"><div class=\"sk-label sk-toggleable\"><input class=\"sk-toggleable__control sk-hidden--visually\" id=\"80955ee7-8f1d-44f2-8974-d4432fb69002\" type=\"checkbox\" ><label for=\"80955ee7-8f1d-44f2-8974-d4432fb69002\" class=\"sk-toggleable__label sk-toggleable__label-arrow\">ohe</label><div class=\"sk-toggleable__content\"><pre>[&#x27;Sex&#x27;]</pre></div></div></div><div class=\"sk-serial\"><div class=\"sk-item\"><div class=\"sk-estimator sk-toggleable\"><input class=\"sk-toggleable__control sk-hidden--visually\" id=\"91c35997-bf07-4b87-b63e-40ded464011e\" type=\"checkbox\" ><label for=\"91c35997-bf07-4b87-b63e-40ded464011e\" class=\"sk-toggleable__label sk-toggleable__label-arrow\">OneHotEncoder</label><div class=\"sk-toggleable__content\"><pre>OneHotEncoder(drop=&#x27;first&#x27;, sparse=False)</pre></div></div></div></div></div></div><div class=\"sk-parallel-item\"><div class=\"sk-item\"><div class=\"sk-label-container\"><div class=\"sk-label sk-toggleable\"><input class=\"sk-toggleable__control sk-hidden--visually\" id=\"a9e8ee5c-c66d-46f7-a157-1e437c9acf67\" type=\"checkbox\" ><label for=\"a9e8ee5c-c66d-46f7-a157-1e437c9acf67\" class=\"sk-toggleable__label sk-toggleable__label-arrow\">age</label><div class=\"sk-toggleable__content\"><pre>[&#x27;Age&#x27;]</pre></div></div></div><div class=\"sk-serial\"><div class=\"sk-item\"><div class=\"sk-serial\"><div class=\"sk-item\"><div class=\"sk-estimator sk-toggleable\"><input class=\"sk-toggleable__control sk-hidden--visually\" id=\"c409c45c-999f-471e-917e-546895337d4c\" type=\"checkbox\" ><label for=\"c409c45c-999f-471e-917e-546895337d4c\" class=\"sk-toggleable__label sk-toggleable__label-arrow\">SimpleImputer</label><div class=\"sk-toggleable__content\"><pre>SimpleImputer(strategy=&#x27;median&#x27;)</pre></div></div></div><div class=\"sk-item\"><div class=\"sk-estimator sk-toggleable\"><input class=\"sk-toggleable__control sk-hidden--visually\" id=\"25627223-491c-492f-88fc-6afd65a88073\" type=\"checkbox\" ><label for=\"25627223-491c-492f-88fc-6afd65a88073\" class=\"sk-toggleable__label sk-toggleable__label-arrow\">StandardScaler</label><div class=\"sk-toggleable__content\"><pre>StandardScaler()</pre></div></div></div></div></div></div></div></div><div class=\"sk-parallel-item\"><div class=\"sk-item\"><div class=\"sk-label-container\"><div class=\"sk-label sk-toggleable\"><input class=\"sk-toggleable__control sk-hidden--visually\" id=\"4e13c054-12a0-45d8-b5eb-2fef963ead9e\" type=\"checkbox\" ><label for=\"4e13c054-12a0-45d8-b5eb-2fef963ead9e\" class=\"sk-toggleable__label sk-toggleable__label-arrow\">fare</label><div class=\"sk-toggleable__content\"><pre>[&#x27;Fare&#x27;]</pre></div></div></div><div class=\"sk-serial\"><div class=\"sk-item\"><div class=\"sk-serial\"><div class=\"sk-item\"><div class=\"sk-estimator sk-toggleable\"><input class=\"sk-toggleable__control sk-hidden--visually\" id=\"109e62e1-8a95-4a9e-a835-77ea050419fd\" type=\"checkbox\" ><label for=\"109e62e1-8a95-4a9e-a835-77ea050419fd\" class=\"sk-toggleable__label sk-toggleable__label-arrow\">Winsorizer</label><div class=\"sk-toggleable__content\"><pre>Winsorizer(capping_method=&#x27;iqr&#x27;, fold=1.5)</pre></div></div></div><div class=\"sk-item\"><div class=\"sk-estimator sk-toggleable\"><input class=\"sk-toggleable__control sk-hidden--visually\" id=\"1d6d5b72-aba4-4dec-981e-5f55bb7874c8\" type=\"checkbox\" ><label for=\"1d6d5b72-aba4-4dec-981e-5f55bb7874c8\" class=\"sk-toggleable__label sk-toggleable__label-arrow\">StandardScaler</label><div class=\"sk-toggleable__content\"><pre>StandardScaler()</pre></div></div></div></div></div></div></div></div><div class=\"sk-parallel-item\"><div class=\"sk-item\"><div class=\"sk-label-container\"><div class=\"sk-label sk-toggleable\"><input class=\"sk-toggleable__control sk-hidden--visually\" id=\"7e7c6571-09ee-4e3e-bfd6-a67f4e0f84be\" type=\"checkbox\" ><label for=\"7e7c6571-09ee-4e3e-bfd6-a67f4e0f84be\" class=\"sk-toggleable__label sk-toggleable__label-arrow\">embarked</label><div class=\"sk-toggleable__content\"><pre>[&#x27;Embarked&#x27;]</pre></div></div></div><div class=\"sk-serial\"><div class=\"sk-item\"><div class=\"sk-serial\"><div class=\"sk-item\"><div class=\"sk-estimator sk-toggleable\"><input class=\"sk-toggleable__control sk-hidden--visually\" id=\"611a1caa-5438-4672-8191-2590436bb2cf\" type=\"checkbox\" ><label for=\"611a1caa-5438-4672-8191-2590436bb2cf\" class=\"sk-toggleable__label sk-toggleable__label-arrow\">SimpleImputer</label><div class=\"sk-toggleable__content\"><pre>SimpleImputer(strategy=&#x27;most_frequent&#x27;)</pre></div></div></div><div class=\"sk-item\"><div class=\"sk-estimator sk-toggleable\"><input class=\"sk-toggleable__control sk-hidden--visually\" id=\"7b28df29-a03d-40b2-831d-f3bab2d10137\" type=\"checkbox\" ><label for=\"7b28df29-a03d-40b2-831d-f3bab2d10137\" class=\"sk-toggleable__label sk-toggleable__label-arrow\">OneHotEncoder</label><div class=\"sk-toggleable__content\"><pre>OneHotEncoder(drop=&#x27;first&#x27;, handle_unknown=&#x27;ignore&#x27;, sparse=False)</pre></div></div></div></div></div></div></div></div><div class=\"sk-parallel-item\"><div class=\"sk-item\"><div class=\"sk-label-container\"><div class=\"sk-label sk-toggleable\"><input class=\"sk-toggleable__control sk-hidden--visually\" id=\"fda95052-f2eb-477c-9f0f-208daaea20b1\" type=\"checkbox\" ><label for=\"fda95052-f2eb-477c-9f0f-208daaea20b1\" class=\"sk-toggleable__label sk-toggleable__label-arrow\">remainder</label><div class=\"sk-toggleable__content\"><pre>[&#x27;Pclass&#x27;, &#x27;Family&#x27;]</pre></div></div></div><div class=\"sk-serial\"><div class=\"sk-item\"><div class=\"sk-estimator sk-toggleable\"><input class=\"sk-toggleable__control sk-hidden--visually\" id=\"2f9f0bf7-ec79-4747-9f0f-8dffe1e3c8e0\" type=\"checkbox\" ><label for=\"2f9f0bf7-ec79-4747-9f0f-8dffe1e3c8e0\" class=\"sk-toggleable__label sk-toggleable__label-arrow\">passthrough</label><div class=\"sk-toggleable__content\"><pre>passthrough</pre></div></div></div></div></div></div></div></div><div class=\"sk-item\"><div class=\"sk-estimator sk-toggleable\"><input class=\"sk-toggleable__control sk-hidden--visually\" id=\"33eae10f-d607-4a06-a688-615102d36d57\" type=\"checkbox\" ><label for=\"33eae10f-d607-4a06-a688-615102d36d57\" class=\"sk-toggleable__label sk-toggleable__label-arrow\">DecisionTreeClassifier</label><div class=\"sk-toggleable__content\"><pre>DecisionTreeClassifier()</pre></div></div></div></div></div></div></div>"
            ]
          },
          "metadata": {},
          "execution_count": 38
        }
      ]
    },
    {
      "cell_type": "code",
      "source": [
        "# fit the model\n",
        "\n",
        "model.fit(X_train,y_train)\n",
        "\n",
        "y_pred_train = model.predict(X_train)\n",
        "y_pred_test = model.predict(X_test)"
      ],
      "metadata": {
        "id": "QwiosMY03ExR"
      },
      "execution_count": 42,
      "outputs": []
    },
    {
      "cell_type": "code",
      "source": [
        "# check the accuracy score\n",
        "\n",
        "print(\"the train score is\",accuracy_score(y_train,y_pred_train))\n",
        "print('The test score is',accuracy_score(y_test,y_pred_test))"
      ],
      "metadata": {
        "colab": {
          "base_uri": "https://localhost:8080/"
        },
        "id": "DSNIkqzy3YQB",
        "outputId": "a763437f-dac3-4064-cf04-7922ae6cb742"
      },
      "execution_count": 43,
      "outputs": [
        {
          "output_type": "stream",
          "name": "stdout",
          "text": [
            "the train score is 0.9845505617977528\n",
            "The test score is 0.7094972067039106\n"
          ]
        }
      ]
    },
    {
      "cell_type": "code",
      "source": [
        "# check the cross val score\n",
        "\n",
        "from sklearn.model_selection import cross_val_score,GridSearchCV\n",
        "\n",
        "score = cross_val_score(model,X,y,cv=10,scoring='accuracy')\n",
        "\n",
        "print('the mean score is',np.mean(score))"
      ],
      "metadata": {
        "colab": {
          "base_uri": "https://localhost:8080/"
        },
        "id": "TMrVgVR93n7X",
        "outputId": "a7914557-88dc-426e-cb30-22b313d2abd0"
      },
      "execution_count": 46,
      "outputs": [
        {
          "output_type": "stream",
          "name": "stdout",
          "text": [
            "the mean score is 0.7778776529338327\n"
          ]
        }
      ]
    },
    {
      "cell_type": "code",
      "source": [
        "# plot a confusion matrix\n",
        "\n",
        "plot_confusion_matrix(model,X_test,y_test)"
      ],
      "metadata": {
        "colab": {
          "base_uri": "https://localhost:8080/",
          "height": 351
        },
        "id": "rSxuuKiA397B",
        "outputId": "90a41685-54fb-458f-b453-00cb6ecab2c3"
      },
      "execution_count": 47,
      "outputs": [
        {
          "output_type": "stream",
          "name": "stderr",
          "text": [
            "/usr/local/lib/python3.8/dist-packages/sklearn/utils/deprecation.py:87: FutureWarning: Function plot_confusion_matrix is deprecated; Function `plot_confusion_matrix` is deprecated in 1.0 and will be removed in 1.2. Use one of the class methods: ConfusionMatrixDisplay.from_predictions or ConfusionMatrixDisplay.from_estimator.\n",
            "  warnings.warn(msg, category=FutureWarning)\n"
          ]
        },
        {
          "output_type": "execute_result",
          "data": {
            "text/plain": [
              "<sklearn.metrics._plot.confusion_matrix.ConfusionMatrixDisplay at 0x7f8363a49070>"
            ]
          },
          "metadata": {},
          "execution_count": 47
        },
        {
          "output_type": "display_data",
          "data": {
            "text/plain": [
              "<Figure size 432x288 with 2 Axes>"
            ],
            "image/png": "[encoded data removed]"
          },
          "metadata": {
            "needs_background": "light"
          }
        }
      ]
    },
    {
      "cell_type": "code",
      "source": [
        "model.feature_names_in_"
      ],
      "metadata": {
        "colab": {
          "base_uri": "https://localhost:8080/"
        },
        "id": "4GPCYElb5jJZ",
        "outputId": "4e5a7d6c-2a00-4ac7-89ee-c9d2dc81802b"
      },
      "execution_count": 52,
      "outputs": [
        {
          "output_type": "execute_result",
          "data": {
            "text/plain": [
              "array(['Pclass', 'Sex', 'Age', 'Fare', 'Embarked', 'Family'], dtype=object)"
            ]
          },
          "metadata": {},
          "execution_count": 52
        }
      ]
    },
    {
      "cell_type": "code",
      "source": [
        "# do hyperparameter tuning\n",
        "\n",
        "params = {'model__criterion':['gini','entropy'],\n",
        "          'model__max_depth':[3,4,5,6],\n",
        "          'model__max_leaf_nodes':[3,4,5,6,7,8,9]\n",
        "}\n",
        "\n",
        "search = GridSearchCV(model,params,cv=5,scoring='accuracy',verbose=1)\n",
        "\n",
        "search.fit(X_train,y_train)"
      ],
      "metadata": {
        "colab": {
          "base_uri": "https://localhost:8080/",
          "height": 243
        },
        "id": "2mkL5ZL24WC5",
        "outputId": "335720d8-e0a9-40c0-c41e-dae133bf7da3"
      },
      "execution_count": 53,
      "outputs": [
        {
          "output_type": "stream",
          "name": "stdout",
          "text": [
            "Fitting 5 folds for each of 56 candidates, totalling 280 fits\n"
          ]
        },
        {
          "output_type": "execute_result",
          "data": {
            "text/plain": [
              "GridSearchCV(cv=5,\n",
              "             estimator=Pipeline(steps=[('trans',\n",
              "                                        ColumnTransformer(remainder='passthrough',\n",
              "                                                          transformers=[('ohe',\n",
              "                                                                         OneHotEncoder(drop='first',\n",
              "                                                                                       sparse=False),\n",
              "                                                                         ['Sex']),\n",
              "                                                                        ('age',\n",
              "                                                                         Pipeline(steps=[('impute',\n",
              "                                                                                          SimpleImputer(strategy='median')),\n",
              "                                                                                         ('scale',\n",
              "                                                                                          StandardScaler())]),\n",
              "                                                                         ['Age']),\n",
              "                                                                        ('fare',\n",
              "                                                                         Pipeline(steps=[('outlier',\n",
              "                                                                                          Winsorizer(capping_method='iqr',\n",
              "                                                                                                     fold=1.5)),\n",
              "                                                                                         (...\n",
              "                                                                        ('embarked',\n",
              "                                                                         Pipeline(steps=[('impute',\n",
              "                                                                                          SimpleImputer(strategy='most_frequent')),\n",
              "                                                                                         ('ohe',\n",
              "                                                                                          OneHotEncoder(drop='first',\n",
              "                                                                                                        handle_unknown='ignore',\n",
              "                                                                                                        sparse=False))]),\n",
              "                                                                         ['Embarked'])])),\n",
              "                                       ('model', DecisionTreeClassifier())]),\n",
              "             param_grid={'model__criterion': ['gini', 'entropy'],\n",
              "                         'model__max_depth': [3, 4, 5, 6],\n",
              "                         'model__max_leaf_nodes': [3, 4, 5, 6, 7, 8, 9]},\n",
              "             scoring='accuracy', verbose=1)"
            ],
            "text/html": [
              "<style>#sk-7ece98f2-91f4-407e-bad1-6f236f5143cc {color: black;background-color: white;}#sk-7ece98f2-91f4-407e-bad1-6f236f5143cc pre{padding: 0;}#sk-7ece98f2-91f4-407e-bad1-6f236f5143cc div.sk-toggleable {background-color: white;}#sk-7ece98f2-91f4-407e-bad1-6f236f5143cc label.sk-toggleable__label {cursor: pointer;display: block;width: 100%;margin-bottom: 0;padding: 0.3em;box-sizing: border-box;text-align: center;}#sk-7ece98f2-91f4-407e-bad1-6f236f5143cc label.sk-toggleable__label-arrow:before {content: \"▸\";float: left;margin-right: 0.25em;color: #696969;}#sk-7ece98f2-91f4-407e-bad1-6f236f5143cc label.sk-toggleable__label-arrow:hover:before {color: black;}#sk-7ece98f2-91f4-407e-bad1-6f236f5143cc div.sk-estimator:hover label.sk-toggleable__label-arrow:before {color: black;}#sk-7ece98f2-91f4-407e-bad1-6f236f5143cc div.sk-toggleable__content {max-height: 0;max-width: 0;overflow: hidden;text-align: left;background-color: #f0f8ff;}#sk-7ece98f2-91f4-407e-bad1-6f236f5143cc div.sk-toggleable__content pre {margin: 0.2em;color: black;border-radius: 0.25em;background-color: #f0f8ff;}#sk-7ece98f2-91f4-407e-bad1-6f236f5143cc input.sk-toggleable__control:checked~div.sk-toggleable__content {max-height: 200px;max-width: 100%;overflow: auto;}#sk-7ece98f2-91f4-407e-bad1-6f236f5143cc input.sk-toggleable__control:checked~label.sk-toggleable__label-arrow:before {content: \"▾\";}#sk-7ece98f2-91f4-407e-bad1-6f236f5143cc div.sk-estimator input.sk-toggleable__control:checked~label.sk-toggleable__label {background-color: #d4ebff;}#sk-7ece98f2-91f4-407e-bad1-6f236f5143cc div.sk-label input.sk-toggleable__control:checked~label.sk-toggleable__label {background-color: #d4ebff;}#sk-7ece98f2-91f4-407e-bad1-6f236f5143cc input.sk-hidden--visually {border: 0;clip: rect(1px 1px 1px 1px);clip: rect(1px, 1px, 1px, 1px);height: 1px;margin: -1px;overflow: hidden;padding: 0;position: absolute;width: 1px;}#sk-7ece98f2-91f4-407e-bad1-6f236f5143cc div.sk-estimator {font-family: monospace;background-color: #f0f8ff;border: 1px dotted black;border-radius: 0.25em;box-sizing: border-box;margin-bottom: 0.5em;}#sk-7ece98f2-91f4-407e-bad1-6f236f5143cc div.sk-estimator:hover {background-color: #d4ebff;}#sk-7ece98f2-91f4-407e-bad1-6f236f5143cc div.sk-parallel-item::after {content: \"\";width: 100%;border-bottom: 1px solid gray;flex-grow: 1;}#sk-7ece98f2-91f4-407e-bad1-6f236f5143cc div.sk-label:hover label.sk-toggleable__label {background-color: #d4ebff;}#sk-7ece98f2-91f4-407e-bad1-6f236f5143cc div.sk-serial::before {content: \"\";position: absolute;border-left: 1px solid gray;box-sizing: border-box;top: 2em;bottom: 0;left: 50%;}#sk-7ece98f2-91f4-407e-bad1-6f236f5143cc div.sk-serial {display: flex;flex-direction: column;align-items: center;background-color: white;padding-right: 0.2em;padding-left: 0.2em;}#sk-7ece98f2-91f4-407e-bad1-6f236f5143cc div.sk-item {z-index: 1;}#sk-7ece98f2-91f4-407e-bad1-6f236f5143cc div.sk-parallel {display: flex;align-items: stretch;justify-content: center;background-color: white;}#sk-7ece98f2-91f4-407e-bad1-6f236f5143cc div.sk-parallel::before {content: \"\";position: absolute;border-left: 1px solid gray;box-sizing: border-box;top: 2em;bottom: 0;left: 50%;}#sk-7ece98f2-91f4-407e-bad1-6f236f5143cc div.sk-parallel-item {display: flex;flex-direction: column;position: relative;background-color: white;}#sk-7ece98f2-91f4-407e-bad1-6f236f5143cc div.sk-parallel-item:first-child::after {align-self: flex-end;width: 50%;}#sk-7ece98f2-91f4-407e-bad1-6f236f5143cc div.sk-parallel-item:last-child::after {align-self: flex-start;width: 50%;}#sk-7ece98f2-91f4-407e-bad1-6f236f5143cc div.sk-parallel-item:only-child::after {width: 0;}#sk-7ece98f2-91f4-407e-bad1-6f236f5143cc div.sk-dashed-wrapped {border: 1px dashed gray;margin: 0 0.4em 0.5em 0.4em;box-sizing: border-box;padding-bottom: 0.4em;background-color: white;position: relative;}#sk-7ece98f2-91f4-407e-bad1-6f236f5143cc div.sk-label label {font-family: monospace;font-weight: bold;background-color: white;display: inline-block;line-height: 1.2em;}#sk-7ece98f2-91f4-407e-bad1-6f236f5143cc div.sk-label-container {position: relative;z-index: 2;text-align: center;}#sk-7ece98f2-91f4-407e-bad1-6f236f5143cc div.sk-container {/* jupyter's `normalize.less` sets `[hidden] { display: none; }` but bootstrap.min.css set `[hidden] { display: none !important; }` so we also need the `!important` here to be able to override the default hidden behavior on the sphinx rendered scikit-learn.org. See: https://github.com/scikit-learn/scikit-learn/issues/21755 */display: inline-block !important;position: relative;}#sk-7ece98f2-91f4-407e-bad1-6f236f5143cc div.sk-text-repr-fallback {display: none;}</style><div id=\"sk-7ece98f2-91f4-407e-bad1-6f236f5143cc\" class=\"sk-top-container\"><div class=\"sk-text-repr-fallback\"><pre>GridSearchCV(cv=5,\n",
              "             estimator=Pipeline(steps=[(&#x27;trans&#x27;,\n",
              "                                        ColumnTransformer(remainder=&#x27;passthrough&#x27;,\n",
              "                                                          transformers=[(&#x27;ohe&#x27;,\n",
              "                                                                         OneHotEncoder(drop=&#x27;first&#x27;,\n",
              "                                                                                       sparse=False),\n",
              "                                                                         [&#x27;Sex&#x27;]),\n",
              "                                                                        (&#x27;age&#x27;,\n",
              "                                                                         Pipeline(steps=[(&#x27;impute&#x27;,\n",
              "                                                                                          SimpleImputer(strategy=&#x27;median&#x27;)),\n",
              "                                                                                         (&#x27;scale&#x27;,\n",
              "                                                                                          StandardScaler())]),\n",
              "                                                                         [&#x27;Age&#x27;]),\n",
              "                                                                        (&#x27;fare&#x27;,\n",
              "                                                                         Pipeline(steps=[(&#x27;outlier&#x27;,\n",
              "                                                                                          Winsorizer(capping_method=&#x27;iqr&#x27;,\n",
              "                                                                                                     fold=1.5)),\n",
              "                                                                                         (...\n",
              "                                                                        (&#x27;embarked&#x27;,\n",
              "                                                                         Pipeline(steps=[(&#x27;impute&#x27;,\n",
              "                                                                                          SimpleImputer(strategy=&#x27;most_frequent&#x27;)),\n",
              "                                                                                         (&#x27;ohe&#x27;,\n",
              "                                                                                          OneHotEncoder(drop=&#x27;first&#x27;,\n",
              "                                                                                                        handle_unknown=&#x27;ignore&#x27;,\n",
              "                                                                                                        sparse=False))]),\n",
              "                                                                         [&#x27;Embarked&#x27;])])),\n",
              "                                       (&#x27;model&#x27;, DecisionTreeClassifier())]),\n",
              "             param_grid={&#x27;model__criterion&#x27;: [&#x27;gini&#x27;, &#x27;entropy&#x27;],\n",
              "                         &#x27;model__max_depth&#x27;: [3, 4, 5, 6],\n",
              "                         &#x27;model__max_leaf_nodes&#x27;: [3, 4, 5, 6, 7, 8, 9]},\n",
              "             scoring=&#x27;accuracy&#x27;, verbose=1)</pre><b>Please rerun this cell to show the HTML repr or trust the notebook.</b></div><div class=\"sk-container\" hidden><div class=\"sk-item sk-dashed-wrapped\"><div class=\"sk-label-container\"><div class=\"sk-label sk-toggleable\"><input class=\"sk-toggleable__control sk-hidden--visually\" id=\"5e2d8658-18f0-40d8-be62-edbb84905280\" type=\"checkbox\" ><label for=\"5e2d8658-18f0-40d8-be62-edbb84905280\" class=\"sk-toggleable__label sk-toggleable__label-arrow\">GridSearchCV</label><div class=\"sk-toggleable__content\"><pre>GridSearchCV(cv=5,\n",
              "             estimator=Pipeline(steps=[(&#x27;trans&#x27;,\n",
              "                                        ColumnTransformer(remainder=&#x27;passthrough&#x27;,\n",
              "                                                          transformers=[(&#x27;ohe&#x27;,\n",
              "                                                                         OneHotEncoder(drop=&#x27;first&#x27;,\n",
              "                                                                                       sparse=False),\n",
              "                                                                         [&#x27;Sex&#x27;]),\n",
              "                                                                        (&#x27;age&#x27;,\n",
              "                                                                         Pipeline(steps=[(&#x27;impute&#x27;,\n",
              "                                                                                          SimpleImputer(strategy=&#x27;median&#x27;)),\n",
              "                                                                                         (&#x27;scale&#x27;,\n",
              "                                                                                          StandardScaler())]),\n",
              "                                                                         [&#x27;Age&#x27;]),\n",
              "                                                                        (&#x27;fare&#x27;,\n",
              "                                                                         Pipeline(steps=[(&#x27;outlier&#x27;,\n",
              "                                                                                          Winsorizer(capping_method=&#x27;iqr&#x27;,\n",
              "                                                                                                     fold=1.5)),\n",
              "                                                                                         (...\n",
              "                                                                        (&#x27;embarked&#x27;,\n",
              "                                                                         Pipeline(steps=[(&#x27;impute&#x27;,\n",
              "                                                                                          SimpleImputer(strategy=&#x27;most_frequent&#x27;)),\n",
              "                                                                                         (&#x27;ohe&#x27;,\n",
              "                                                                                          OneHotEncoder(drop=&#x27;first&#x27;,\n",
              "                                                                                                        handle_unknown=&#x27;ignore&#x27;,\n",
              "                                                                                                        sparse=False))]),\n",
              "                                                                         [&#x27;Embarked&#x27;])])),\n",
              "                                       (&#x27;model&#x27;, DecisionTreeClassifier())]),\n",
              "             param_grid={&#x27;model__criterion&#x27;: [&#x27;gini&#x27;, &#x27;entropy&#x27;],\n",
              "                         &#x27;model__max_depth&#x27;: [3, 4, 5, 6],\n",
              "                         &#x27;model__max_leaf_nodes&#x27;: [3, 4, 5, 6, 7, 8, 9]},\n",
              "             scoring=&#x27;accuracy&#x27;, verbose=1)</pre></div></div></div><div class=\"sk-parallel\"><div class=\"sk-parallel-item\"><div class=\"sk-item\"><div class=\"sk-serial\"><div class=\"sk-item\"><div class=\"sk-serial\"><div class=\"sk-item sk-dashed-wrapped\"><div class=\"sk-label-container\"><div class=\"sk-label sk-toggleable\"><input class=\"sk-toggleable__control sk-hidden--visually\" id=\"c1f43dac-d630-4199-8e86-58bcef7b125b\" type=\"checkbox\" ><label for=\"c1f43dac-d630-4199-8e86-58bcef7b125b\" class=\"sk-toggleable__label sk-toggleable__label-arrow\">trans: ColumnTransformer</label><div class=\"sk-toggleable__content\"><pre>ColumnTransformer(remainder=&#x27;passthrough&#x27;,\n",
              "                  transformers=[(&#x27;ohe&#x27;,\n",
              "                                 OneHotEncoder(drop=&#x27;first&#x27;, sparse=False),\n",
              "                                 [&#x27;Sex&#x27;]),\n",
              "                                (&#x27;age&#x27;,\n",
              "                                 Pipeline(steps=[(&#x27;impute&#x27;,\n",
              "                                                  SimpleImputer(strategy=&#x27;median&#x27;)),\n",
              "                                                 (&#x27;scale&#x27;, StandardScaler())]),\n",
              "                                 [&#x27;Age&#x27;]),\n",
              "                                (&#x27;fare&#x27;,\n",
              "                                 Pipeline(steps=[(&#x27;outlier&#x27;,\n",
              "                                                  Winsorizer(capping_method=&#x27;iqr&#x27;,\n",
              "                                                             fold=1.5)),\n",
              "                                                 (&#x27;scale&#x27;, StandardScaler())]),\n",
              "                                 [&#x27;Fare&#x27;]),\n",
              "                                (&#x27;embarked&#x27;,\n",
              "                                 Pipeline(steps=[(&#x27;impute&#x27;,\n",
              "                                                  SimpleImputer(strategy=&#x27;most_frequent&#x27;)),\n",
              "                                                 (&#x27;ohe&#x27;,\n",
              "                                                  OneHotEncoder(drop=&#x27;first&#x27;,\n",
              "                                                                handle_unknown=&#x27;ignore&#x27;,\n",
              "                                                                sparse=False))]),\n",
              "                                 [&#x27;Embarked&#x27;])])</pre></div></div></div><div class=\"sk-parallel\"><div class=\"sk-parallel-item\"><div class=\"sk-item\"><div class=\"sk-label-container\"><div class=\"sk-label sk-toggleable\"><input class=\"sk-toggleable__control sk-hidden--visually\" id=\"eacc930c-1af5-4f9a-81fa-8011d86826fb\" type=\"checkbox\" ><label for=\"eacc930c-1af5-4f9a-81fa-8011d86826fb\" class=\"sk-toggleable__label sk-toggleable__label-arrow\">ohe</label><div class=\"sk-toggleable__content\"><pre>[&#x27;Sex&#x27;]</pre></div></div></div><div class=\"sk-serial\"><div class=\"sk-item\"><div class=\"sk-estimator sk-toggleable\"><input class=\"sk-toggleable__control sk-hidden--visually\" id=\"f826820e-8fdc-4f71-a8ae-78d82418a9b2\" type=\"checkbox\" ><label for=\"f826820e-8fdc-4f71-a8ae-78d82418a9b2\" class=\"sk-toggleable__label sk-toggleable__label-arrow\">OneHotEncoder</label><div class=\"sk-toggleable__content\"><pre>OneHotEncoder(drop=&#x27;first&#x27;, sparse=False)</pre></div></div></div></div></div></div><div class=\"sk-parallel-item\"><div class=\"sk-item\"><div class=\"sk-label-container\"><div class=\"sk-label sk-toggleable\"><input class=\"sk-toggleable__control sk-hidden--visually\" id=\"1cd74893-7286-4fd4-8476-041b153d9dd1\" type=\"checkbox\" ><label for=\"1cd74893-7286-4fd4-8476-041b153d9dd1\" class=\"sk-toggleable__label sk-toggleable__label-arrow\">age</label><div class=\"sk-toggleable__content\"><pre>[&#x27;Age&#x27;]</pre></div></div></div><div class=\"sk-serial\"><div class=\"sk-item\"><div class=\"sk-serial\"><div class=\"sk-item\"><div class=\"sk-estimator sk-toggleable\"><input class=\"sk-toggleable__control sk-hidden--visually\" id=\"c55030ef-a6cd-4b81-b0f8-5a8ef840f9a9\" type=\"checkbox\" ><label for=\"c55030ef-a6cd-4b81-b0f8-5a8ef840f9a9\" class=\"sk-toggleable__label sk-toggleable__label-arrow\">SimpleImputer</label><div class=\"sk-toggleable__content\"><pre>SimpleImputer(strategy=&#x27;median&#x27;)</pre></div></div></div><div class=\"sk-item\"><div class=\"sk-estimator sk-toggleable\"><input class=\"sk-toggleable__control sk-hidden--visually\" id=\"446ba22b-c833-4ac6-9aeb-bc0426320951\" type=\"checkbox\" ><label for=\"446ba22b-c833-4ac6-9aeb-bc0426320951\" class=\"sk-toggleable__label sk-toggleable__label-arrow\">StandardScaler</label><div class=\"sk-toggleable__content\"><pre>StandardScaler()</pre></div></div></div></div></div></div></div></div><div class=\"sk-parallel-item\"><div class=\"sk-item\"><div class=\"sk-label-container\"><div class=\"sk-label sk-toggleable\"><input class=\"sk-toggleable__control sk-hidden--visually\" id=\"e475771e-8254-4283-a196-66c7b5e9d11a\" type=\"checkbox\" ><label for=\"e475771e-8254-4283-a196-66c7b5e9d11a\" class=\"sk-toggleable__label sk-toggleable__label-arrow\">fare</label><div class=\"sk-toggleable__content\"><pre>[&#x27;Fare&#x27;]</pre></div></div></div><div class=\"sk-serial\"><div class=\"sk-item\"><div class=\"sk-serial\"><div class=\"sk-item\"><div class=\"sk-estimator sk-toggleable\"><input class=\"sk-toggleable__control sk-hidden--visually\" id=\"bc629c74-66a8-43ac-95c7-48d8fa9c3585\" type=\"checkbox\" ><label for=\"bc629c74-66a8-43ac-95c7-48d8fa9c3585\" class=\"sk-toggleable__label sk-toggleable__label-arrow\">Winsorizer</label><div class=\"sk-toggleable__content\"><pre>Winsorizer(capping_method=&#x27;iqr&#x27;, fold=1.5)</pre></div></div></div><div class=\"sk-item\"><div class=\"sk-estimator sk-toggleable\"><input class=\"sk-toggleable__control sk-hidden--visually\" id=\"fabcf388-ea90-4d5c-a76d-111fb2d83fd6\" type=\"checkbox\" ><label for=\"fabcf388-ea90-4d5c-a76d-111fb2d83fd6\" class=\"sk-toggleable__label sk-toggleable__label-arrow\">StandardScaler</label><div class=\"sk-toggleable__content\"><pre>StandardScaler()</pre></div></div></div></div></div></div></div></div><div class=\"sk-parallel-item\"><div class=\"sk-item\"><div class=\"sk-label-container\"><div class=\"sk-label sk-toggleable\"><input class=\"sk-toggleable__control sk-hidden--visually\" id=\"f869b09f-7fc8-48f9-a976-aefbce5e7b63\" type=\"checkbox\" ><label for=\"f869b09f-7fc8-48f9-a976-aefbce5e7b63\" class=\"sk-toggleable__label sk-toggleable__label-arrow\">embarked</label><div class=\"sk-toggleable__content\"><pre>[&#x27;Embarked&#x27;]</pre></div></div></div><div class=\"sk-serial\"><div class=\"sk-item\"><div class=\"sk-serial\"><div class=\"sk-item\"><div class=\"sk-estimator sk-toggleable\"><input class=\"sk-toggleable__control sk-hidden--visually\" id=\"e19fbadf-3317-4878-bd16-79a2ac07a92b\" type=\"checkbox\" ><label for=\"e19fbadf-3317-4878-bd16-79a2ac07a92b\" class=\"sk-toggleable__label sk-toggleable__label-arrow\">SimpleImputer</label><div class=\"sk-toggleable__content\"><pre>SimpleImputer(strategy=&#x27;most_frequent&#x27;)</pre></div></div></div><div class=\"sk-item\"><div class=\"sk-estimator sk-toggleable\"><input class=\"sk-toggleable__control sk-hidden--visually\" id=\"93dff4d9-016a-49a0-bfb2-2276a6af7af3\" type=\"checkbox\" ><label for=\"93dff4d9-016a-49a0-bfb2-2276a6af7af3\" class=\"sk-toggleable__label sk-toggleable__label-arrow\">OneHotEncoder</label><div class=\"sk-toggleable__content\"><pre>OneHotEncoder(drop=&#x27;first&#x27;, handle_unknown=&#x27;ignore&#x27;, sparse=False)</pre></div></div></div></div></div></div></div></div><div class=\"sk-parallel-item\"><div class=\"sk-item\"><div class=\"sk-label-container\"><div class=\"sk-label sk-toggleable\"><input class=\"sk-toggleable__control sk-hidden--visually\" id=\"9f08803b-d34f-4c5f-9e1f-7b4b946efdd6\" type=\"checkbox\" ><label for=\"9f08803b-d34f-4c5f-9e1f-7b4b946efdd6\" class=\"sk-toggleable__label sk-toggleable__label-arrow\">remainder</label><div class=\"sk-toggleable__content\"><pre>[&#x27;Pclass&#x27;, &#x27;Family&#x27;]</pre></div></div></div><div class=\"sk-serial\"><div class=\"sk-item\"><div class=\"sk-estimator sk-toggleable\"><input class=\"sk-toggleable__control sk-hidden--visually\" id=\"3550d004-3629-4ba9-8182-edf6813d4d85\" type=\"checkbox\" ><label for=\"3550d004-3629-4ba9-8182-edf6813d4d85\" class=\"sk-toggleable__label sk-toggleable__label-arrow\">passthrough</label><div class=\"sk-toggleable__content\"><pre>passthrough</pre></div></div></div></div></div></div></div></div><div class=\"sk-item\"><div class=\"sk-estimator sk-toggleable\"><input class=\"sk-toggleable__control sk-hidden--visually\" id=\"ef98c557-25b2-401c-910f-954bed024e1b\" type=\"checkbox\" ><label for=\"ef98c557-25b2-401c-910f-954bed024e1b\" class=\"sk-toggleable__label sk-toggleable__label-arrow\">DecisionTreeClassifier</label><div class=\"sk-toggleable__content\"><pre>DecisionTreeClassifier()</pre></div></div></div></div></div></div></div></div></div></div></div></div>"
            ]
          },
          "metadata": {},
          "execution_count": 53
        }
      ]
    },
    {
      "cell_type": "code",
      "source": [
        "pd.DataFrame(search.cv_results_).sort_values(by=['rank_test_score']).head()"
      ],
      "metadata": {
        "colab": {
          "base_uri": "https://localhost:8080/",
          "height": 443
        },
        "id": "hOlY0K_J65f8",
        "outputId": "02ab1199-ccdf-4fc7-a206-aed8b1146fa5"
      },
      "execution_count": 60,
      "outputs": [
        {
          "output_type": "execute_result",
          "data": {
            "text/plain": [
              "    mean_fit_time  std_fit_time  mean_score_time  std_score_time  \\\n",
              "40       0.016166      0.001093         0.007606        0.000149   \n",
              "54       0.016956      0.001151         0.007824        0.000265   \n",
              "47       0.017688      0.001612         0.008088        0.000383   \n",
              "39       0.019894      0.003691         0.009837        0.001183   \n",
              "46       0.019778      0.003861         0.009473        0.001552   \n",
              "\n",
              "   param_model__criterion param_model__max_depth param_model__max_leaf_nodes  \\\n",
              "40                entropy                      4                           8   \n",
              "54                entropy                      6                           8   \n",
              "47                entropy                      5                           8   \n",
              "39                entropy                      4                           7   \n",
              "46                entropy                      5                           7   \n",
              "\n",
              "                                               params  split0_test_score  \\\n",
              "40  {'model__criterion': 'entropy', 'model__max_de...           0.818182   \n",
              "54  {'model__criterion': 'entropy', 'model__max_de...           0.818182   \n",
              "47  {'model__criterion': 'entropy', 'model__max_de...           0.818182   \n",
              "39  {'model__criterion': 'entropy', 'model__max_de...           0.818182   \n",
              "46  {'model__criterion': 'entropy', 'model__max_de...           0.818182   \n",
              "\n",
              "    split1_test_score  split2_test_score  split3_test_score  \\\n",
              "40           0.797203           0.802817           0.852113   \n",
              "54           0.797203           0.802817           0.852113   \n",
              "47           0.797203           0.802817           0.852113   \n",
              "39           0.797203           0.788732           0.852113   \n",
              "46           0.797203           0.788732           0.852113   \n",
              "\n",
              "    split4_test_score  mean_test_score  std_test_score  rank_test_score  \n",
              "40           0.845070         0.823077        0.022049                1  \n",
              "54           0.838028         0.821668        0.020787                2  \n",
              "47           0.838028         0.821668        0.020787                2  \n",
              "39           0.845070         0.820260        0.025140                4  \n",
              "46           0.845070         0.820260        0.025140                4  "
            ],
            "text/html": [
              "\n",
              "  <div id=\"df-9685a38a-a914-407f-b748-2f7559e7b10e\">\n",
              "    <div class=\"colab-df-container\">\n",
              "      <div>\n",
              "<style scoped>\n",
              "    .dataframe tbody tr th:only-of-type {\n",
              "        vertical-align: middle;\n",
              "    }\n",
              "\n",
              "    .dataframe tbody tr th {\n",
              "        vertical-align: top;\n",
              "    }\n",
              "\n",
              "    .dataframe thead th {\n",
              "        text-align: right;\n",
              "    }\n",
              "</style>\n",
              "<table border=\"1\" class=\"dataframe\">\n",
              "  <thead>\n",
              "    <tr style=\"text-align: right;\">\n",
              "      <th></th>\n",
              "      <th>mean_fit_time</th>\n",
              "      <th>std_fit_time</th>\n",
              "      <th>mean_score_time</th>\n",
              "      <th>std_score_time</th>\n",
              "      <th>param_model__criterion</th>\n",
              "      <th>param_model__max_depth</th>\n",
              "      <th>param_model__max_leaf_nodes</th>\n",
              "      <th>params</th>\n",
              "      <th>split0_test_score</th>\n",
              "      <th>split1_test_score</th>\n",
              "      <th>split2_test_score</th>\n",
              "      <th>split3_test_score</th>\n",
              "      <th>split4_test_score</th>\n",
              "      <th>mean_test_score</th>\n",
              "      <th>std_test_score</th>\n",
              "      <th>rank_test_score</th>\n",
              "    </tr>\n",
              "  </thead>\n",
              "  <tbody>\n",
              "    <tr>\n",
              "      <th>40</th>\n",
              "      <td>0.016166</td>\n",
              "      <td>0.001093</td>\n",
              "      <td>0.007606</td>\n",
              "      <td>0.000149</td>\n",
              "      <td>entropy</td>\n",
              "      <td>4</td>\n",
              "      <td>8</td>\n",
              "      <td>{'model__criterion': 'entropy', 'model__max_de...</td>\n",
              "      <td>0.818182</td>\n",
              "      <td>0.797203</td>\n",
              "      <td>0.802817</td>\n",
              "      <td>0.852113</td>\n",
              "      <td>0.845070</td>\n",
              "      <td>0.823077</td>\n",
              "      <td>0.022049</td>\n",
              "      <td>1</td>\n",
              "    </tr>\n",
              "    <tr>\n",
              "      <th>54</th>\n",
              "      <td>0.016956</td>\n",
              "      <td>0.001151</td>\n",
              "      <td>0.007824</td>\n",
              "      <td>0.000265</td>\n",
              "      <td>entropy</td>\n",
              "      <td>6</td>\n",
              "      <td>8</td>\n",
              "      <td>{'model__criterion': 'entropy', 'model__max_de...</td>\n",
              "      <td>0.818182</td>\n",
              "      <td>0.797203</td>\n",
              "      <td>0.802817</td>\n",
              "      <td>0.852113</td>\n",
              "      <td>0.838028</td>\n",
              "      <td>0.821668</td>\n",
              "      <td>0.020787</td>\n",
              "      <td>2</td>\n",
              "    </tr>\n",
              "    <tr>\n",
              "      <th>47</th>\n",
              "      <td>0.017688</td>\n",
              "      <td>0.001612</td>\n",
              "      <td>0.008088</td>\n",
              "      <td>0.000383</td>\n",
              "      <td>entropy</td>\n",
              "      <td>5</td>\n",
              "      <td>8</td>\n",
              "      <td>{'model__criterion': 'entropy', 'model__max_de...</td>\n",
              "      <td>0.818182</td>\n",
              "      <td>0.797203</td>\n",
              "      <td>0.802817</td>\n",
              "      <td>0.852113</td>\n",
              "      <td>0.838028</td>\n",
              "      <td>0.821668</td>\n",
              "      <td>0.020787</td>\n",
              "      <td>2</td>\n",
              "    </tr>\n",
              "    <tr>\n",
              "      <th>39</th>\n",
              "      <td>0.019894</td>\n",
              "      <td>0.003691</td>\n",
              "      <td>0.009837</td>\n",
              "      <td>0.001183</td>\n",
              "      <td>entropy</td>\n",
              "      <td>4</td>\n",
              "      <td>7</td>\n",
              "      <td>{'model__criterion': 'entropy', 'model__max_de...</td>\n",
              "      <td>0.818182</td>\n",
              "      <td>0.797203</td>\n",
              "      <td>0.788732</td>\n",
              "      <td>0.852113</td>\n",
              "      <td>0.845070</td>\n",
              "      <td>0.820260</td>\n",
              "      <td>0.025140</td>\n",
              "      <td>4</td>\n",
              "    </tr>\n",
              "    <tr>\n",
              "      <th>46</th>\n",
              "      <td>0.019778</td>\n",
              "      <td>0.003861</td>\n",
              "      <td>0.009473</td>\n",
              "      <td>0.001552</td>\n",
              "      <td>entropy</td>\n",
              "      <td>5</td>\n",
              "      <td>7</td>\n",
              "      <td>{'model__criterion': 'entropy', 'model__max_de...</td>\n",
              "      <td>0.818182</td>\n",
              "      <td>0.797203</td>\n",
              "      <td>0.788732</td>\n",
              "      <td>0.852113</td>\n",
              "      <td>0.845070</td>\n",
              "      <td>0.820260</td>\n",
              "      <td>0.025140</td>\n",
              "      <td>4</td>\n",
              "    </tr>\n",
              "  </tbody>\n",
              "</table>\n",
              "</div>\n",
              "      <button class=\"colab-df-convert\" onclick=\"convertToInteractive('df-9685a38a-a914-407f-b748-2f7559e7b10e')\"\n",
              "              title=\"Convert this dataframe to an interactive table.\"\n",
              "              style=\"display:none;\">\n",
              "        \n",
              "  <svg xmlns=\"http://www.w3.org/2000/svg\" height=\"24px\"viewBox=\"0 0 24 24\"\n",
              "       width=\"24px\">\n",
              "    <path d=\"M0 0h24v24H0V0z\" fill=\"none\"/>\n",
              "    <path d=\"M18.56 5.44l.94 2.06.94-2.06 2.06-.94-2.06-.94-.94-2.06-.94 2.06-2.06.94zm-11 1L8.5 8.5l.94-2.06 2.06-.94-2.06-.94L8.5 2.5l-.94 2.06-2.06.94zm10 10l.94 2.06.94-2.06 2.06-.94-2.06-.94-.94-2.06-.94 2.06-2.06.94z\"/><path d=\"M17.41 7.96l-1.37-1.37c-.4-.4-.92-.59-1.43-.59-.52 0-1.04.2-1.43.59L10.3 9.45l-7.72 7.72c-.78.78-.78 2.05 0 2.83L4 21.41c.39.39.9.59 1.41.59.51 0 1.02-.2 1.41-.59l7.78-7.78 2.81-2.81c.8-.78.8-2.07 0-2.86zM5.41 20L4 18.59l7.72-7.72 1.47 1.35L5.41 20z\"/>\n",
              "  </svg>\n",
              "      </button>\n",
              "      \n",
              "  <style>\n",
              "    .colab-df-container {\n",
              "      display:flex;\n",
              "      flex-wrap:wrap;\n",
              "      gap: 12px;\n",
              "    }\n",
              "\n",
              "    .colab-df-convert {\n",
              "      background-color: #E8F0FE;\n",
              "      border: none;\n",
              "      border-radius: 50%;\n",
              "      cursor: pointer;\n",
              "      display: none;\n",
              "      fill: #1967D2;\n",
              "      height: 32px;\n",
              "      padding: 0 0 0 0;\n",
              "      width: 32px;\n",
              "    }\n",
              "\n",
              "    .colab-df-convert:hover {\n",
              "      background-color: #E2EBFA;\n",
              "      box-shadow: 0px 1px 2px rgba(60, 64, 67, 0.3), 0px 1px 3px 1px rgba(60, 64, 67, 0.15);\n",
              "      fill: #174EA6;\n",
              "    }\n",
              "\n",
              "    [theme=dark] .colab-df-convert {\n",
              "      background-color: #3B4455;\n",
              "      fill: #D2E3FC;\n",
              "    }\n",
              "\n",
              "    [theme=dark] .colab-df-convert:hover {\n",
              "      background-color: #434B5C;\n",
              "      box-shadow: 0px 1px 3px 1px rgba(0, 0, 0, 0.15);\n",
              "      filter: drop-shadow(0px 1px 2px rgba(0, 0, 0, 0.3));\n",
              "      fill: #FFFFFF;\n",
              "    }\n",
              "  </style>\n",
              "\n",
              "      <script>\n",
              "        const buttonEl =\n",
              "          document.querySelector('#df-9685a38a-a914-407f-b748-2f7559e7b10e button.colab-df-convert');\n",
              "        buttonEl.style.display =\n",
              "          google.colab.kernel.accessAllowed ? 'block' : 'none';\n",
              "\n",
              "        async function convertToInteractive(key) {\n",
              "          const element = document.querySelector('#df-9685a38a-a914-407f-b748-2f7559e7b10e');\n",
              "          const dataTable =\n",
              "            await google.colab.kernel.invokeFunction('convertToInteractive',\n",
              "                                                     [key], {});\n",
              "          if (!dataTable) return;\n",
              "\n",
              "          const docLinkHtml = 'Like what you see? Visit the ' +\n",
              "            '<a target=\"_blank\" href=https://colab.research.google.com/notebooks/data_table.ipynb>data table notebook</a>'\n",
              "            + ' to learn more about interactive tables.';\n",
              "          element.innerHTML = '';\n",
              "          dataTable['output_type'] = 'display_data';\n",
              "          await google.colab.output.renderOutput(dataTable, element);\n",
              "          const docLink = document.createElement('div');\n",
              "          docLink.innerHTML = docLinkHtml;\n",
              "          element.appendChild(docLink);\n",
              "        }\n",
              "      </script>\n",
              "    </div>\n",
              "  </div>\n",
              "  "
            ]
          },
          "metadata": {},
          "execution_count": 60
        }
      ]
    },
    {
      "cell_type": "code",
      "source": [
        "search.best_estimator_."
      ],
      "metadata": {
        "colab": {
          "base_uri": "https://localhost:8080/",
          "height": 248
        },
        "id": "4HiD2P2I7AFy",
        "outputId": "fe59152d-8f2f-42e1-8d2b-b33f40ae205a"
      },
      "execution_count": 61,
      "outputs": [
        {
          "output_type": "execute_result",
          "data": {
            "text/plain": [
              "Pipeline(steps=[('trans',\n",
              "                 ColumnTransformer(remainder='passthrough',\n",
              "                                   transformers=[('ohe',\n",
              "                                                  OneHotEncoder(drop='first',\n",
              "                                                                sparse=False),\n",
              "                                                  ['Sex']),\n",
              "                                                 ('age',\n",
              "                                                  Pipeline(steps=[('impute',\n",
              "                                                                   SimpleImputer(strategy='median')),\n",
              "                                                                  ('scale',\n",
              "                                                                   StandardScaler())]),\n",
              "                                                  ['Age']),\n",
              "                                                 ('fare',\n",
              "                                                  Pipeline(steps=[('outlier',\n",
              "                                                                   Winsorizer(capping_method='iqr',\n",
              "                                                                              fold=1.5)),\n",
              "                                                                  ('scale',\n",
              "                                                                   StandardScaler())]),\n",
              "                                                  ['Fare']),\n",
              "                                                 ('embarked',\n",
              "                                                  Pipeline(steps=[('impute',\n",
              "                                                                   SimpleImputer(strategy='most_frequent')),\n",
              "                                                                  ('ohe',\n",
              "                                                                   OneHotEncoder(drop='first',\n",
              "                                                                                 handle_unknown='ignore',\n",
              "                                                                                 sparse=False))]),\n",
              "                                                  ['Embarked'])])),\n",
              "                ('model',\n",
              "                 DecisionTreeClassifier(criterion='entropy', max_depth=4,\n",
              "                                        max_leaf_nodes=8))])"
            ],
            "text/html": [
              "<style>#sk-be28a05c-5c6f-40b4-9d5b-0467e6255492 {color: black;background-color: white;}#sk-be28a05c-5c6f-40b4-9d5b-0467e6255492 pre{padding: 0;}#sk-be28a05c-5c6f-40b4-9d5b-0467e6255492 div.sk-toggleable {background-color: white;}#sk-be28a05c-5c6f-40b4-9d5b-0467e6255492 label.sk-toggleable__label {cursor: pointer;display: block;width: 100%;margin-bottom: 0;padding: 0.3em;box-sizing: border-box;text-align: center;}#sk-be28a05c-5c6f-40b4-9d5b-0467e6255492 label.sk-toggleable__label-arrow:before {content: \"▸\";float: left;margin-right: 0.25em;color: #696969;}#sk-be28a05c-5c6f-40b4-9d5b-0467e6255492 label.sk-toggleable__label-arrow:hover:before {color: black;}#sk-be28a05c-5c6f-40b4-9d5b-0467e6255492 div.sk-estimator:hover label.sk-toggleable__label-arrow:before {color: black;}#sk-be28a05c-5c6f-40b4-9d5b-0467e6255492 div.sk-toggleable__content {max-height: 0;max-width: 0;overflow: hidden;text-align: left;background-color: #f0f8ff;}#sk-be28a05c-5c6f-40b4-9d5b-0467e6255492 div.sk-toggleable__content pre {margin: 0.2em;color: black;border-radius: 0.25em;background-color: #f0f8ff;}#sk-be28a05c-5c6f-40b4-9d5b-0467e6255492 input.sk-toggleable__control:checked~div.sk-toggleable__content {max-height: 200px;max-width: 100%;overflow: auto;}#sk-be28a05c-5c6f-40b4-9d5b-0467e6255492 input.sk-toggleable__control:checked~label.sk-toggleable__label-arrow:before {content: \"▾\";}#sk-be28a05c-5c6f-40b4-9d5b-0467e6255492 div.sk-estimator input.sk-toggleable__control:checked~label.sk-toggleable__label {background-color: #d4ebff;}#sk-be28a05c-5c6f-40b4-9d5b-0467e6255492 div.sk-label input.sk-toggleable__control:checked~label.sk-toggleable__label {background-color: #d4ebff;}#sk-be28a05c-5c6f-40b4-9d5b-0467e6255492 input.sk-hidden--visually {border: 0;clip: rect(1px 1px 1px 1px);clip: rect(1px, 1px, 1px, 1px);height: 1px;margin: -1px;overflow: hidden;padding: 0;position: absolute;width: 1px;}#sk-be28a05c-5c6f-40b4-9d5b-0467e6255492 div.sk-estimator {font-family: monospace;background-color: #f0f8ff;border: 1px dotted black;border-radius: 0.25em;box-sizing: border-box;margin-bottom: 0.5em;}#sk-be28a05c-5c6f-40b4-9d5b-0467e6255492 div.sk-estimator:hover {background-color: #d4ebff;}#sk-be28a05c-5c6f-40b4-9d5b-0467e6255492 div.sk-parallel-item::after {content: \"\";width: 100%;border-bottom: 1px solid gray;flex-grow: 1;}#sk-be28a05c-5c6f-40b4-9d5b-0467e6255492 div.sk-label:hover label.sk-toggleable__label {background-color: #d4ebff;}#sk-be28a05c-5c6f-40b4-9d5b-0467e6255492 div.sk-serial::before {content: \"\";position: absolute;border-left: 1px solid gray;box-sizing: border-box;top: 2em;bottom: 0;left: 50%;}#sk-be28a05c-5c6f-40b4-9d5b-0467e6255492 div.sk-serial {display: flex;flex-direction: column;align-items: center;background-color: white;padding-right: 0.2em;padding-left: 0.2em;}#sk-be28a05c-5c6f-40b4-9d5b-0467e6255492 div.sk-item {z-index: 1;}#sk-be28a05c-5c6f-40b4-9d5b-0467e6255492 div.sk-parallel {display: flex;align-items: stretch;justify-content: center;background-color: white;}#sk-be28a05c-5c6f-40b4-9d5b-0467e6255492 div.sk-parallel::before {content: \"\";position: absolute;border-left: 1px solid gray;box-sizing: border-box;top: 2em;bottom: 0;left: 50%;}#sk-be28a05c-5c6f-40b4-9d5b-0467e6255492 div.sk-parallel-item {display: flex;flex-direction: column;position: relative;background-color: white;}#sk-be28a05c-5c6f-40b4-9d5b-0467e6255492 div.sk-parallel-item:first-child::after {align-self: flex-end;width: 50%;}#sk-be28a05c-5c6f-40b4-9d5b-0467e6255492 div.sk-parallel-item:last-child::after {align-self: flex-start;width: 50%;}#sk-be28a05c-5c6f-40b4-9d5b-0467e6255492 div.sk-parallel-item:only-child::after {width: 0;}#sk-be28a05c-5c6f-40b4-9d5b-0467e6255492 div.sk-dashed-wrapped {border: 1px dashed gray;margin: 0 0.4em 0.5em 0.4em;box-sizing: border-box;padding-bottom: 0.4em;background-color: white;position: relative;}#sk-be28a05c-5c6f-40b4-9d5b-0467e6255492 div.sk-label label {font-family: monospace;font-weight: bold;background-color: white;display: inline-block;line-height: 1.2em;}#sk-be28a05c-5c6f-40b4-9d5b-0467e6255492 div.sk-label-container {position: relative;z-index: 2;text-align: center;}#sk-be28a05c-5c6f-40b4-9d5b-0467e6255492 div.sk-container {/* jupyter's `normalize.less` sets `[hidden] { display: none; }` but bootstrap.min.css set `[hidden] { display: none !important; }` so we also need the `!important` here to be able to override the default hidden behavior on the sphinx rendered scikit-learn.org. See: https://github.com/scikit-learn/scikit-learn/issues/21755 */display: inline-block !important;position: relative;}#sk-be28a05c-5c6f-40b4-9d5b-0467e6255492 div.sk-text-repr-fallback {display: none;}</style><div id=\"sk-be28a05c-5c6f-40b4-9d5b-0467e6255492\" class=\"sk-top-container\"><div class=\"sk-text-repr-fallback\"><pre>Pipeline(steps=[(&#x27;trans&#x27;,\n",
              "                 ColumnTransformer(remainder=&#x27;passthrough&#x27;,\n",
              "                                   transformers=[(&#x27;ohe&#x27;,\n",
              "                                                  OneHotEncoder(drop=&#x27;first&#x27;,\n",
              "                                                                sparse=False),\n",
              "                                                  [&#x27;Sex&#x27;]),\n",
              "                                                 (&#x27;age&#x27;,\n",
              "                                                  Pipeline(steps=[(&#x27;impute&#x27;,\n",
              "                                                                   SimpleImputer(strategy=&#x27;median&#x27;)),\n",
              "                                                                  (&#x27;scale&#x27;,\n",
              "                                                                   StandardScaler())]),\n",
              "                                                  [&#x27;Age&#x27;]),\n",
              "                                                 (&#x27;fare&#x27;,\n",
              "                                                  Pipeline(steps=[(&#x27;outlier&#x27;,\n",
              "                                                                   Winsorizer(capping_method=&#x27;iqr&#x27;,\n",
              "                                                                              fold=1.5)),\n",
              "                                                                  (&#x27;scale&#x27;,\n",
              "                                                                   StandardScaler())]),\n",
              "                                                  [&#x27;Fare&#x27;]),\n",
              "                                                 (&#x27;embarked&#x27;,\n",
              "                                                  Pipeline(steps=[(&#x27;impute&#x27;,\n",
              "                                                                   SimpleImputer(strategy=&#x27;most_frequent&#x27;)),\n",
              "                                                                  (&#x27;ohe&#x27;,\n",
              "                                                                   OneHotEncoder(drop=&#x27;first&#x27;,\n",
              "                                                                                 handle_unknown=&#x27;ignore&#x27;,\n",
              "                                                                                 sparse=False))]),\n",
              "                                                  [&#x27;Embarked&#x27;])])),\n",
              "                (&#x27;model&#x27;,\n",
              "                 DecisionTreeClassifier(criterion=&#x27;entropy&#x27;, max_depth=4,\n",
              "                                        max_leaf_nodes=8))])</pre><b>Please rerun this cell to show the HTML repr or trust the notebook.</b></div><div class=\"sk-container\" hidden><div class=\"sk-item sk-dashed-wrapped\"><div class=\"sk-label-container\"><div class=\"sk-label sk-toggleable\"><input class=\"sk-toggleable__control sk-hidden--visually\" id=\"ee9c53df-f546-4073-9f53-f4ddc346ac46\" type=\"checkbox\" ><label for=\"ee9c53df-f546-4073-9f53-f4ddc346ac46\" class=\"sk-toggleable__label sk-toggleable__label-arrow\">Pipeline</label><div class=\"sk-toggleable__content\"><pre>Pipeline(steps=[(&#x27;trans&#x27;,\n",
              "                 ColumnTransformer(remainder=&#x27;passthrough&#x27;,\n",
              "                                   transformers=[(&#x27;ohe&#x27;,\n",
              "                                                  OneHotEncoder(drop=&#x27;first&#x27;,\n",
              "                                                                sparse=False),\n",
              "                                                  [&#x27;Sex&#x27;]),\n",
              "                                                 (&#x27;age&#x27;,\n",
              "                                                  Pipeline(steps=[(&#x27;impute&#x27;,\n",
              "                                                                   SimpleImputer(strategy=&#x27;median&#x27;)),\n",
              "                                                                  (&#x27;scale&#x27;,\n",
              "                                                                   StandardScaler())]),\n",
              "                                                  [&#x27;Age&#x27;]),\n",
              "                                                 (&#x27;fare&#x27;,\n",
              "                                                  Pipeline(steps=[(&#x27;outlier&#x27;,\n",
              "                                                                   Winsorizer(capping_method=&#x27;iqr&#x27;,\n",
              "                                                                              fold=1.5)),\n",
              "                                                                  (&#x27;scale&#x27;,\n",
              "                                                                   StandardScaler())]),\n",
              "                                                  [&#x27;Fare&#x27;]),\n",
              "                                                 (&#x27;embarked&#x27;,\n",
              "                                                  Pipeline(steps=[(&#x27;impute&#x27;,\n",
              "                                                                   SimpleImputer(strategy=&#x27;most_frequent&#x27;)),\n",
              "                                                                  (&#x27;ohe&#x27;,\n",
              "                                                                   OneHotEncoder(drop=&#x27;first&#x27;,\n",
              "                                                                                 handle_unknown=&#x27;ignore&#x27;,\n",
              "                                                                                 sparse=False))]),\n",
              "                                                  [&#x27;Embarked&#x27;])])),\n",
              "                (&#x27;model&#x27;,\n",
              "                 DecisionTreeClassifier(criterion=&#x27;entropy&#x27;, max_depth=4,\n",
              "                                        max_leaf_nodes=8))])</pre></div></div></div><div class=\"sk-serial\"><div class=\"sk-item sk-dashed-wrapped\"><div class=\"sk-label-container\"><div class=\"sk-label sk-toggleable\"><input class=\"sk-toggleable__control sk-hidden--visually\" id=\"6e2a2ff6-9106-4a4d-8dba-635a27cb3c3f\" type=\"checkbox\" ><label for=\"6e2a2ff6-9106-4a4d-8dba-635a27cb3c3f\" class=\"sk-toggleable__label sk-toggleable__label-arrow\">trans: ColumnTransformer</label><div class=\"sk-toggleable__content\"><pre>ColumnTransformer(remainder=&#x27;passthrough&#x27;,\n",
              "                  transformers=[(&#x27;ohe&#x27;,\n",
              "                                 OneHotEncoder(drop=&#x27;first&#x27;, sparse=False),\n",
              "                                 [&#x27;Sex&#x27;]),\n",
              "                                (&#x27;age&#x27;,\n",
              "                                 Pipeline(steps=[(&#x27;impute&#x27;,\n",
              "                                                  SimpleImputer(strategy=&#x27;median&#x27;)),\n",
              "                                                 (&#x27;scale&#x27;, StandardScaler())]),\n",
              "                                 [&#x27;Age&#x27;]),\n",
              "                                (&#x27;fare&#x27;,\n",
              "                                 Pipeline(steps=[(&#x27;outlier&#x27;,\n",
              "                                                  Winsorizer(capping_method=&#x27;iqr&#x27;,\n",
              "                                                             fold=1.5)),\n",
              "                                                 (&#x27;scale&#x27;, StandardScaler())]),\n",
              "                                 [&#x27;Fare&#x27;]),\n",
              "                                (&#x27;embarked&#x27;,\n",
              "                                 Pipeline(steps=[(&#x27;impute&#x27;,\n",
              "                                                  SimpleImputer(strategy=&#x27;most_frequent&#x27;)),\n",
              "                                                 (&#x27;ohe&#x27;,\n",
              "                                                  OneHotEncoder(drop=&#x27;first&#x27;,\n",
              "                                                                handle_unknown=&#x27;ignore&#x27;,\n",
              "                                                                sparse=False))]),\n",
              "                                 [&#x27;Embarked&#x27;])])</pre></div></div></div><div class=\"sk-parallel\"><div class=\"sk-parallel-item\"><div class=\"sk-item\"><div class=\"sk-label-container\"><div class=\"sk-label sk-toggleable\"><input class=\"sk-toggleable__control sk-hidden--visually\" id=\"6adcfdc7-7d39-471e-b531-f24eca820782\" type=\"checkbox\" ><label for=\"6adcfdc7-7d39-471e-b531-f24eca820782\" class=\"sk-toggleable__label sk-toggleable__label-arrow\">ohe</label><div class=\"sk-toggleable__content\"><pre>[&#x27;Sex&#x27;]</pre></div></div></div><div class=\"sk-serial\"><div class=\"sk-item\"><div class=\"sk-estimator sk-toggleable\"><input class=\"sk-toggleable__control sk-hidden--visually\" id=\"2e34e175-bf49-43ad-85c7-33eb8b1fc415\" type=\"checkbox\" ><label for=\"2e34e175-bf49-43ad-85c7-33eb8b1fc415\" class=\"sk-toggleable__label sk-toggleable__label-arrow\">OneHotEncoder</label><div class=\"sk-toggleable__content\"><pre>OneHotEncoder(drop=&#x27;first&#x27;, sparse=False)</pre></div></div></div></div></div></div><div class=\"sk-parallel-item\"><div class=\"sk-item\"><div class=\"sk-label-container\"><div class=\"sk-label sk-toggleable\"><input class=\"sk-toggleable__control sk-hidden--visually\" id=\"a26e3494-13fb-44ef-a140-dbd44ebbedad\" type=\"checkbox\" ><label for=\"a26e3494-13fb-44ef-a140-dbd44ebbedad\" class=\"sk-toggleable__label sk-toggleable__label-arrow\">age</label><div class=\"sk-toggleable__content\"><pre>[&#x27;Age&#x27;]</pre></div></div></div><div class=\"sk-serial\"><div class=\"sk-item\"><div class=\"sk-serial\"><div class=\"sk-item\"><div class=\"sk-estimator sk-toggleable\"><input class=\"sk-toggleable__control sk-hidden--visually\" id=\"393ff953-c7f2-40e9-8c2c-a8ecfd678d12\" type=\"checkbox\" ><label for=\"393ff953-c7f2-40e9-8c2c-a8ecfd678d12\" class=\"sk-toggleable__label sk-toggleable__label-arrow\">SimpleImputer</label><div class=\"sk-toggleable__content\"><pre>SimpleImputer(strategy=&#x27;median&#x27;)</pre></div></div></div><div class=\"sk-item\"><div class=\"sk-estimator sk-toggleable\"><input class=\"sk-toggleable__control sk-hidden--visually\" id=\"fdbdbe21-91a8-414a-8c42-6be403cdb7eb\" type=\"checkbox\" ><label for=\"fdbdbe21-91a8-414a-8c42-6be403cdb7eb\" class=\"sk-toggleable__label sk-toggleable__label-arrow\">StandardScaler</label><div class=\"sk-toggleable__content\"><pre>StandardScaler()</pre></div></div></div></div></div></div></div></div><div class=\"sk-parallel-item\"><div class=\"sk-item\"><div class=\"sk-label-container\"><div class=\"sk-label sk-toggleable\"><input class=\"sk-toggleable__control sk-hidden--visually\" id=\"b08c7dad-f8cd-42a2-b25d-adfa4ab051cb\" type=\"checkbox\" ><label for=\"b08c7dad-f8cd-42a2-b25d-adfa4ab051cb\" class=\"sk-toggleable__label sk-toggleable__label-arrow\">fare</label><div class=\"sk-toggleable__content\"><pre>[&#x27;Fare&#x27;]</pre></div></div></div><div class=\"sk-serial\"><div class=\"sk-item\"><div class=\"sk-serial\"><div class=\"sk-item\"><div class=\"sk-estimator sk-toggleable\"><input class=\"sk-toggleable__control sk-hidden--visually\" id=\"abb9e3b8-c4e1-4c23-bd5b-ad945b29942d\" type=\"checkbox\" ><label for=\"abb9e3b8-c4e1-4c23-bd5b-ad945b29942d\" class=\"sk-toggleable__label sk-toggleable__label-arrow\">Winsorizer</label><div class=\"sk-toggleable__content\"><pre>Winsorizer(capping_method=&#x27;iqr&#x27;, fold=1.5)</pre></div></div></div><div class=\"sk-item\"><div class=\"sk-estimator sk-toggleable\"><input class=\"sk-toggleable__control sk-hidden--visually\" id=\"df7d24e1-45a6-4de2-be55-074db3938ecc\" type=\"checkbox\" ><label for=\"df7d24e1-45a6-4de2-be55-074db3938ecc\" class=\"sk-toggleable__label sk-toggleable__label-arrow\">StandardScaler</label><div class=\"sk-toggleable__content\"><pre>StandardScaler()</pre></div></div></div></div></div></div></div></div><div class=\"sk-parallel-item\"><div class=\"sk-item\"><div class=\"sk-label-container\"><div class=\"sk-label sk-toggleable\"><input class=\"sk-toggleable__control sk-hidden--visually\" id=\"9e9e9d9d-dfef-421f-8a16-c160cd6c2ddb\" type=\"checkbox\" ><label for=\"9e9e9d9d-dfef-421f-8a16-c160cd6c2ddb\" class=\"sk-toggleable__label sk-toggleable__label-arrow\">embarked</label><div class=\"sk-toggleable__content\"><pre>[&#x27;Embarked&#x27;]</pre></div></div></div><div class=\"sk-serial\"><div class=\"sk-item\"><div class=\"sk-serial\"><div class=\"sk-item\"><div class=\"sk-estimator sk-toggleable\"><input class=\"sk-toggleable__control sk-hidden--visually\" id=\"2ac86da7-a7fb-47bf-b327-8bb6346a292c\" type=\"checkbox\" ><label for=\"2ac86da7-a7fb-47bf-b327-8bb6346a292c\" class=\"sk-toggleable__label sk-toggleable__label-arrow\">SimpleImputer</label><div class=\"sk-toggleable__content\"><pre>SimpleImputer(strategy=&#x27;most_frequent&#x27;)</pre></div></div></div><div class=\"sk-item\"><div class=\"sk-estimator sk-toggleable\"><input class=\"sk-toggleable__control sk-hidden--visually\" id=\"209fb46e-11d1-4c87-bdee-8fa56b3cbfe4\" type=\"checkbox\" ><label for=\"209fb46e-11d1-4c87-bdee-8fa56b3cbfe4\" class=\"sk-toggleable__label sk-toggleable__label-arrow\">OneHotEncoder</label><div class=\"sk-toggleable__content\"><pre>OneHotEncoder(drop=&#x27;first&#x27;, handle_unknown=&#x27;ignore&#x27;, sparse=False)</pre></div></div></div></div></div></div></div></div><div class=\"sk-parallel-item\"><div class=\"sk-item\"><div class=\"sk-label-container\"><div class=\"sk-label sk-toggleable\"><input class=\"sk-toggleable__control sk-hidden--visually\" id=\"3ec49e66-02f2-46ee-a8cd-01b61272e403\" type=\"checkbox\" ><label for=\"3ec49e66-02f2-46ee-a8cd-01b61272e403\" class=\"sk-toggleable__label sk-toggleable__label-arrow\">remainder</label><div class=\"sk-toggleable__content\"><pre>[&#x27;Pclass&#x27;, &#x27;Family&#x27;]</pre></div></div></div><div class=\"sk-serial\"><div class=\"sk-item\"><div class=\"sk-estimator sk-toggleable\"><input class=\"sk-toggleable__control sk-hidden--visually\" id=\"250420a3-6b04-494e-81de-508db9be397c\" type=\"checkbox\" ><label for=\"250420a3-6b04-494e-81de-508db9be397c\" class=\"sk-toggleable__label sk-toggleable__label-arrow\">passthrough</label><div class=\"sk-toggleable__content\"><pre>passthrough</pre></div></div></div></div></div></div></div></div><div class=\"sk-item\"><div class=\"sk-estimator sk-toggleable\"><input class=\"sk-toggleable__control sk-hidden--visually\" id=\"2e9f1783-6aaa-4238-a141-9a3162a1d9df\" type=\"checkbox\" ><label for=\"2e9f1783-6aaa-4238-a141-9a3162a1d9df\" class=\"sk-toggleable__label sk-toggleable__label-arrow\">DecisionTreeClassifier</label><div class=\"sk-toggleable__content\"><pre>DecisionTreeClassifier(criterion=&#x27;entropy&#x27;, max_depth=4, max_leaf_nodes=8)</pre></div></div></div></div></div></div></div>"
            ]
          },
          "metadata": {},
          "execution_count": 61
        }
      ]
    },
    {
      "cell_type": "code",
      "source": [
        "search.best_params_"
      ],
      "metadata": {
        "colab": {
          "base_uri": "https://localhost:8080/"
        },
        "id": "zWgOX3zQ7yvU",
        "outputId": "92fd1980-0e77-4565-a47a-e97fb1262815"
      },
      "execution_count": 62,
      "outputs": [
        {
          "output_type": "execute_result",
          "data": {
            "text/plain": [
              "{'model__criterion': 'entropy',\n",
              " 'model__max_depth': 4,\n",
              " 'model__max_leaf_nodes': 8}"
            ]
          },
          "metadata": {},
          "execution_count": 62
        }
      ]
    },
    {
      "cell_type": "code",
      "source": [
        "search.best_score_"
      ],
      "metadata": {
        "colab": {
          "base_uri": "https://localhost:8080/"
        },
        "id": "3B3lW4yC72CQ",
        "outputId": "cf5b3a6e-7e28-42c8-b8c4-d7a6be1ddf4d"
      },
      "execution_count": 63,
      "outputs": [
        {
          "output_type": "execute_result",
          "data": {
            "text/plain": [
              "0.823076923076923"
            ]
          },
          "metadata": {},
          "execution_count": 63
        }
      ]
    },
    {
      "cell_type": "code",
      "source": [
        "search.estimator"
      ],
      "metadata": {
        "colab": {
          "base_uri": "https://localhost:8080/",
          "height": 225
        },
        "id": "4ArkAZ1n75AI",
        "outputId": "f22df549-60ca-472a-a35f-587493d3bea8"
      },
      "execution_count": 64,
      "outputs": [
        {
          "output_type": "execute_result",
          "data": {
            "text/plain": [
              "Pipeline(steps=[('trans',\n",
              "                 ColumnTransformer(remainder='passthrough',\n",
              "                                   transformers=[('ohe',\n",
              "                                                  OneHotEncoder(drop='first',\n",
              "                                                                sparse=False),\n",
              "                                                  ['Sex']),\n",
              "                                                 ('age',\n",
              "                                                  Pipeline(steps=[('impute',\n",
              "                                                                   SimpleImputer(strategy='median')),\n",
              "                                                                  ('scale',\n",
              "                                                                   StandardScaler())]),\n",
              "                                                  ['Age']),\n",
              "                                                 ('fare',\n",
              "                                                  Pipeline(steps=[('outlier',\n",
              "                                                                   Winsorizer(capping_method='iqr',\n",
              "                                                                              fold=1.5)),\n",
              "                                                                  ('scale',\n",
              "                                                                   StandardScaler())]),\n",
              "                                                  ['Fare']),\n",
              "                                                 ('embarked',\n",
              "                                                  Pipeline(steps=[('impute',\n",
              "                                                                   SimpleImputer(strategy='most_frequent')),\n",
              "                                                                  ('ohe',\n",
              "                                                                   OneHotEncoder(drop='first',\n",
              "                                                                                 handle_unknown='ignore',\n",
              "                                                                                 sparse=False))]),\n",
              "                                                  ['Embarked'])])),\n",
              "                ('model', DecisionTreeClassifier())])"
            ],
            "text/html": [
              "<style>#sk-d1e387d5-dbb5-4ebf-8843-8f2a87e21629 {color: black;background-color: white;}#sk-d1e387d5-dbb5-4ebf-8843-8f2a87e21629 pre{padding: 0;}#sk-d1e387d5-dbb5-4ebf-8843-8f2a87e21629 div.sk-toggleable {background-color: white;}#sk-d1e387d5-dbb5-4ebf-8843-8f2a87e21629 label.sk-toggleable__label {cursor: pointer;display: block;width: 100%;margin-bottom: 0;padding: 0.3em;box-sizing: border-box;text-align: center;}#sk-d1e387d5-dbb5-4ebf-8843-8f2a87e21629 label.sk-toggleable__label-arrow:before {content: \"▸\";float: left;margin-right: 0.25em;color: #696969;}#sk-d1e387d5-dbb5-4ebf-8843-8f2a87e21629 label.sk-toggleable__label-arrow:hover:before {color: black;}#sk-d1e387d5-dbb5-4ebf-8843-8f2a87e21629 div.sk-estimator:hover label.sk-toggleable__label-arrow:before {color: black;}#sk-d1e387d5-dbb5-4ebf-8843-8f2a87e21629 div.sk-toggleable__content {max-height: 0;max-width: 0;overflow: hidden;text-align: left;background-color: #f0f8ff;}#sk-d1e387d5-dbb5-4ebf-8843-8f2a87e21629 div.sk-toggleable__content pre {margin: 0.2em;color: black;border-radius: 0.25em;background-color: #f0f8ff;}#sk-d1e387d5-dbb5-4ebf-8843-8f2a87e21629 input.sk-toggleable__control:checked~div.sk-toggleable__content {max-height: 200px;max-width: 100%;overflow: auto;}#sk-d1e387d5-dbb5-4ebf-8843-8f2a87e21629 input.sk-toggleable__control:checked~label.sk-toggleable__label-arrow:before {content: \"▾\";}#sk-d1e387d5-dbb5-4ebf-8843-8f2a87e21629 div.sk-estimator input.sk-toggleable__control:checked~label.sk-toggleable__label {background-color: #d4ebff;}#sk-d1e387d5-dbb5-4ebf-8843-8f2a87e21629 div.sk-label input.sk-toggleable__control:checked~label.sk-toggleable__label {background-color: #d4ebff;}#sk-d1e387d5-dbb5-4ebf-8843-8f2a87e21629 input.sk-hidden--visually {border: 0;clip: rect(1px 1px 1px 1px);clip: rect(1px, 1px, 1px, 1px);height: 1px;margin: -1px;overflow: hidden;padding: 0;position: absolute;width: 1px;}#sk-d1e387d5-dbb5-4ebf-8843-8f2a87e21629 div.sk-estimator {font-family: monospace;background-color: #f0f8ff;border: 1px dotted black;border-radius: 0.25em;box-sizing: border-box;margin-bottom: 0.5em;}#sk-d1e387d5-dbb5-4ebf-8843-8f2a87e21629 div.sk-estimator:hover {background-color: #d4ebff;}#sk-d1e387d5-dbb5-4ebf-8843-8f2a87e21629 div.sk-parallel-item::after {content: \"\";width: 100%;border-bottom: 1px solid gray;flex-grow: 1;}#sk-d1e387d5-dbb5-4ebf-8843-8f2a87e21629 div.sk-label:hover label.sk-toggleable__label {background-color: #d4ebff;}#sk-d1e387d5-dbb5-4ebf-8843-8f2a87e21629 div.sk-serial::before {content: \"\";position: absolute;border-left: 1px solid gray;box-sizing: border-box;top: 2em;bottom: 0;left: 50%;}#sk-d1e387d5-dbb5-4ebf-8843-8f2a87e21629 div.sk-serial {display: flex;flex-direction: column;align-items: center;background-color: white;padding-right: 0.2em;padding-left: 0.2em;}#sk-d1e387d5-dbb5-4ebf-8843-8f2a87e21629 div.sk-item {z-index: 1;}#sk-d1e387d5-dbb5-4ebf-8843-8f2a87e21629 div.sk-parallel {display: flex;align-items: stretch;justify-content: center;background-color: white;}#sk-d1e387d5-dbb5-4ebf-8843-8f2a87e21629 div.sk-parallel::before {content: \"\";position: absolute;border-left: 1px solid gray;box-sizing: border-box;top: 2em;bottom: 0;left: 50%;}#sk-d1e387d5-dbb5-4ebf-8843-8f2a87e21629 div.sk-parallel-item {display: flex;flex-direction: column;position: relative;background-color: white;}#sk-d1e387d5-dbb5-4ebf-8843-8f2a87e21629 div.sk-parallel-item:first-child::after {align-self: flex-end;width: 50%;}#sk-d1e387d5-dbb5-4ebf-8843-8f2a87e21629 div.sk-parallel-item:last-child::after {align-self: flex-start;width: 50%;}#sk-d1e387d5-dbb5-4ebf-8843-8f2a87e21629 div.sk-parallel-item:only-child::after {width: 0;}#sk-d1e387d5-dbb5-4ebf-8843-8f2a87e21629 div.sk-dashed-wrapped {border: 1px dashed gray;margin: 0 0.4em 0.5em 0.4em;box-sizing: border-box;padding-bottom: 0.4em;background-color: white;position: relative;}#sk-d1e387d5-dbb5-4ebf-8843-8f2a87e21629 div.sk-label label {font-family: monospace;font-weight: bold;background-color: white;display: inline-block;line-height: 1.2em;}#sk-d1e387d5-dbb5-4ebf-8843-8f2a87e21629 div.sk-label-container {position: relative;z-index: 2;text-align: center;}#sk-d1e387d5-dbb5-4ebf-8843-8f2a87e21629 div.sk-container {/* jupyter's `normalize.less` sets `[hidden] { display: none; }` but bootstrap.min.css set `[hidden] { display: none !important; }` so we also need the `!important` here to be able to override the default hidden behavior on the sphinx rendered scikit-learn.org. See: https://github.com/scikit-learn/scikit-learn/issues/21755 */display: inline-block !important;position: relative;}#sk-d1e387d5-dbb5-4ebf-8843-8f2a87e21629 div.sk-text-repr-fallback {display: none;}</style><div id=\"sk-d1e387d5-dbb5-4ebf-8843-8f2a87e21629\" class=\"sk-top-container\"><div class=\"sk-text-repr-fallback\"><pre>Pipeline(steps=[(&#x27;trans&#x27;,\n",
              "                 ColumnTransformer(remainder=&#x27;passthrough&#x27;,\n",
              "                                   transformers=[(&#x27;ohe&#x27;,\n",
              "                                                  OneHotEncoder(drop=&#x27;first&#x27;,\n",
              "                                                                sparse=False),\n",
              "                                                  [&#x27;Sex&#x27;]),\n",
              "                                                 (&#x27;age&#x27;,\n",
              "                                                  Pipeline(steps=[(&#x27;impute&#x27;,\n",
              "                                                                   SimpleImputer(strategy=&#x27;median&#x27;)),\n",
              "                                                                  (&#x27;scale&#x27;,\n",
              "                                                                   StandardScaler())]),\n",
              "                                                  [&#x27;Age&#x27;]),\n",
              "                                                 (&#x27;fare&#x27;,\n",
              "                                                  Pipeline(steps=[(&#x27;outlier&#x27;,\n",
              "                                                                   Winsorizer(capping_method=&#x27;iqr&#x27;,\n",
              "                                                                              fold=1.5)),\n",
              "                                                                  (&#x27;scale&#x27;,\n",
              "                                                                   StandardScaler())]),\n",
              "                                                  [&#x27;Fare&#x27;]),\n",
              "                                                 (&#x27;embarked&#x27;,\n",
              "                                                  Pipeline(steps=[(&#x27;impute&#x27;,\n",
              "                                                                   SimpleImputer(strategy=&#x27;most_frequent&#x27;)),\n",
              "                                                                  (&#x27;ohe&#x27;,\n",
              "                                                                   OneHotEncoder(drop=&#x27;first&#x27;,\n",
              "                                                                                 handle_unknown=&#x27;ignore&#x27;,\n",
              "                                                                                 sparse=False))]),\n",
              "                                                  [&#x27;Embarked&#x27;])])),\n",
              "                (&#x27;model&#x27;, DecisionTreeClassifier())])</pre><b>Please rerun this cell to show the HTML repr or trust the notebook.</b></div><div class=\"sk-container\" hidden><div class=\"sk-item sk-dashed-wrapped\"><div class=\"sk-label-container\"><div class=\"sk-label sk-toggleable\"><input class=\"sk-toggleable__control sk-hidden--visually\" id=\"cd74e3a4-f873-4021-b074-c6715dc67a79\" type=\"checkbox\" ><label for=\"cd74e3a4-f873-4021-b074-c6715dc67a79\" class=\"sk-toggleable__label sk-toggleable__label-arrow\">Pipeline</label><div class=\"sk-toggleable__content\"><pre>Pipeline(steps=[(&#x27;trans&#x27;,\n",
              "                 ColumnTransformer(remainder=&#x27;passthrough&#x27;,\n",
              "                                   transformers=[(&#x27;ohe&#x27;,\n",
              "                                                  OneHotEncoder(drop=&#x27;first&#x27;,\n",
              "                                                                sparse=False),\n",
              "                                                  [&#x27;Sex&#x27;]),\n",
              "                                                 (&#x27;age&#x27;,\n",
              "                                                  Pipeline(steps=[(&#x27;impute&#x27;,\n",
              "                                                                   SimpleImputer(strategy=&#x27;median&#x27;)),\n",
              "                                                                  (&#x27;scale&#x27;,\n",
              "                                                                   StandardScaler())]),\n",
              "                                                  [&#x27;Age&#x27;]),\n",
              "                                                 (&#x27;fare&#x27;,\n",
              "                                                  Pipeline(steps=[(&#x27;outlier&#x27;,\n",
              "                                                                   Winsorizer(capping_method=&#x27;iqr&#x27;,\n",
              "                                                                              fold=1.5)),\n",
              "                                                                  (&#x27;scale&#x27;,\n",
              "                                                                   StandardScaler())]),\n",
              "                                                  [&#x27;Fare&#x27;]),\n",
              "                                                 (&#x27;embarked&#x27;,\n",
              "                                                  Pipeline(steps=[(&#x27;impute&#x27;,\n",
              "                                                                   SimpleImputer(strategy=&#x27;most_frequent&#x27;)),\n",
              "                                                                  (&#x27;ohe&#x27;,\n",
              "                                                                   OneHotEncoder(drop=&#x27;first&#x27;,\n",
              "                                                                                 handle_unknown=&#x27;ignore&#x27;,\n",
              "                                                                                 sparse=False))]),\n",
              "                                                  [&#x27;Embarked&#x27;])])),\n",
              "                (&#x27;model&#x27;, DecisionTreeClassifier())])</pre></div></div></div><div class=\"sk-serial\"><div class=\"sk-item sk-dashed-wrapped\"><div class=\"sk-label-container\"><div class=\"sk-label sk-toggleable\"><input class=\"sk-toggleable__control sk-hidden--visually\" id=\"d697e88f-505f-465e-be8b-57272a891268\" type=\"checkbox\" ><label for=\"d697e88f-505f-465e-be8b-57272a891268\" class=\"sk-toggleable__label sk-toggleable__label-arrow\">trans: ColumnTransformer</label><div class=\"sk-toggleable__content\"><pre>ColumnTransformer(remainder=&#x27;passthrough&#x27;,\n",
              "                  transformers=[(&#x27;ohe&#x27;,\n",
              "                                 OneHotEncoder(drop=&#x27;first&#x27;, sparse=False),\n",
              "                                 [&#x27;Sex&#x27;]),\n",
              "                                (&#x27;age&#x27;,\n",
              "                                 Pipeline(steps=[(&#x27;impute&#x27;,\n",
              "                                                  SimpleImputer(strategy=&#x27;median&#x27;)),\n",
              "                                                 (&#x27;scale&#x27;, StandardScaler())]),\n",
              "                                 [&#x27;Age&#x27;]),\n",
              "                                (&#x27;fare&#x27;,\n",
              "                                 Pipeline(steps=[(&#x27;outlier&#x27;,\n",
              "                                                  Winsorizer(capping_method=&#x27;iqr&#x27;,\n",
              "                                                             fold=1.5)),\n",
              "                                                 (&#x27;scale&#x27;, StandardScaler())]),\n",
              "                                 [&#x27;Fare&#x27;]),\n",
              "                                (&#x27;embarked&#x27;,\n",
              "                                 Pipeline(steps=[(&#x27;impute&#x27;,\n",
              "                                                  SimpleImputer(strategy=&#x27;most_frequent&#x27;)),\n",
              "                                                 (&#x27;ohe&#x27;,\n",
              "                                                  OneHotEncoder(drop=&#x27;first&#x27;,\n",
              "                                                                handle_unknown=&#x27;ignore&#x27;,\n",
              "                                                                sparse=False))]),\n",
              "                                 [&#x27;Embarked&#x27;])])</pre></div></div></div><div class=\"sk-parallel\"><div class=\"sk-parallel-item\"><div class=\"sk-item\"><div class=\"sk-label-container\"><div class=\"sk-label sk-toggleable\"><input class=\"sk-toggleable__control sk-hidden--visually\" id=\"8debf3b4-8fb3-4ea4-bd4f-c4f251186849\" type=\"checkbox\" ><label for=\"8debf3b4-8fb3-4ea4-bd4f-c4f251186849\" class=\"sk-toggleable__label sk-toggleable__label-arrow\">ohe</label><div class=\"sk-toggleable__content\"><pre>[&#x27;Sex&#x27;]</pre></div></div></div><div class=\"sk-serial\"><div class=\"sk-item\"><div class=\"sk-estimator sk-toggleable\"><input class=\"sk-toggleable__control sk-hidden--visually\" id=\"68a74964-51ba-4e65-8879-f0bf370c3b63\" type=\"checkbox\" ><label for=\"68a74964-51ba-4e65-8879-f0bf370c3b63\" class=\"sk-toggleable__label sk-toggleable__label-arrow\">OneHotEncoder</label><div class=\"sk-toggleable__content\"><pre>OneHotEncoder(drop=&#x27;first&#x27;, sparse=False)</pre></div></div></div></div></div></div><div class=\"sk-parallel-item\"><div class=\"sk-item\"><div class=\"sk-label-container\"><div class=\"sk-label sk-toggleable\"><input class=\"sk-toggleable__control sk-hidden--visually\" id=\"6aea0d75-bb3a-480f-9354-d0da5bb230bf\" type=\"checkbox\" ><label for=\"6aea0d75-bb3a-480f-9354-d0da5bb230bf\" class=\"sk-toggleable__label sk-toggleable__label-arrow\">age</label><div class=\"sk-toggleable__content\"><pre>[&#x27;Age&#x27;]</pre></div></div></div><div class=\"sk-serial\"><div class=\"sk-item\"><div class=\"sk-serial\"><div class=\"sk-item\"><div class=\"sk-estimator sk-toggleable\"><input class=\"sk-toggleable__control sk-hidden--visually\" id=\"9e34a252-8ee3-4576-be48-8bc1eb592c44\" type=\"checkbox\" ><label for=\"9e34a252-8ee3-4576-be48-8bc1eb592c44\" class=\"sk-toggleable__label sk-toggleable__label-arrow\">SimpleImputer</label><div class=\"sk-toggleable__content\"><pre>SimpleImputer(strategy=&#x27;median&#x27;)</pre></div></div></div><div class=\"sk-item\"><div class=\"sk-estimator sk-toggleable\"><input class=\"sk-toggleable__control sk-hidden--visually\" id=\"a8c44552-065d-4200-bc92-0f9302f0a118\" type=\"checkbox\" ><label for=\"a8c44552-065d-4200-bc92-0f9302f0a118\" class=\"sk-toggleable__label sk-toggleable__label-arrow\">StandardScaler</label><div class=\"sk-toggleable__content\"><pre>StandardScaler()</pre></div></div></div></div></div></div></div></div><div class=\"sk-parallel-item\"><div class=\"sk-item\"><div class=\"sk-label-container\"><div class=\"sk-label sk-toggleable\"><input class=\"sk-toggleable__control sk-hidden--visually\" id=\"841a8b2b-8550-4fc9-a5cb-c861ddd7e060\" type=\"checkbox\" ><label for=\"841a8b2b-8550-4fc9-a5cb-c861ddd7e060\" class=\"sk-toggleable__label sk-toggleable__label-arrow\">fare</label><div class=\"sk-toggleable__content\"><pre>[&#x27;Fare&#x27;]</pre></div></div></div><div class=\"sk-serial\"><div class=\"sk-item\"><div class=\"sk-serial\"><div class=\"sk-item\"><div class=\"sk-estimator sk-toggleable\"><input class=\"sk-toggleable__control sk-hidden--visually\" id=\"8331c7fc-8740-4bc8-acdd-e2ca7bf2f967\" type=\"checkbox\" ><label for=\"8331c7fc-8740-4bc8-acdd-e2ca7bf2f967\" class=\"sk-toggleable__label sk-toggleable__label-arrow\">Winsorizer</label><div class=\"sk-toggleable__content\"><pre>Winsorizer(capping_method=&#x27;iqr&#x27;, fold=1.5)</pre></div></div></div><div class=\"sk-item\"><div class=\"sk-estimator sk-toggleable\"><input class=\"sk-toggleable__control sk-hidden--visually\" id=\"fc39e0dd-a88d-4625-ae3a-952ed714388b\" type=\"checkbox\" ><label for=\"fc39e0dd-a88d-4625-ae3a-952ed714388b\" class=\"sk-toggleable__label sk-toggleable__label-arrow\">StandardScaler</label><div class=\"sk-toggleable__content\"><pre>StandardScaler()</pre></div></div></div></div></div></div></div></div><div class=\"sk-parallel-item\"><div class=\"sk-item\"><div class=\"sk-label-container\"><div class=\"sk-label sk-toggleable\"><input class=\"sk-toggleable__control sk-hidden--visually\" id=\"735244d2-cc87-4bd9-95eb-5b9bd706323b\" type=\"checkbox\" ><label for=\"735244d2-cc87-4bd9-95eb-5b9bd706323b\" class=\"sk-toggleable__label sk-toggleable__label-arrow\">embarked</label><div class=\"sk-toggleable__content\"><pre>[&#x27;Embarked&#x27;]</pre></div></div></div><div class=\"sk-serial\"><div class=\"sk-item\"><div class=\"sk-serial\"><div class=\"sk-item\"><div class=\"sk-estimator sk-toggleable\"><input class=\"sk-toggleable__control sk-hidden--visually\" id=\"0c20597c-a2a7-4310-ae30-b07d332bd89d\" type=\"checkbox\" ><label for=\"0c20597c-a2a7-4310-ae30-b07d332bd89d\" class=\"sk-toggleable__label sk-toggleable__label-arrow\">SimpleImputer</label><div class=\"sk-toggleable__content\"><pre>SimpleImputer(strategy=&#x27;most_frequent&#x27;)</pre></div></div></div><div class=\"sk-item\"><div class=\"sk-estimator sk-toggleable\"><input class=\"sk-toggleable__control sk-hidden--visually\" id=\"fd706511-3ca1-414c-8c8b-4f58bb4f056c\" type=\"checkbox\" ><label for=\"fd706511-3ca1-414c-8c8b-4f58bb4f056c\" class=\"sk-toggleable__label sk-toggleable__label-arrow\">OneHotEncoder</label><div class=\"sk-toggleable__content\"><pre>OneHotEncoder(drop=&#x27;first&#x27;, handle_unknown=&#x27;ignore&#x27;, sparse=False)</pre></div></div></div></div></div></div></div></div><div class=\"sk-parallel-item\"><div class=\"sk-item\"><div class=\"sk-label-container\"><div class=\"sk-label sk-toggleable\"><input class=\"sk-toggleable__control sk-hidden--visually\" id=\"a2cf2da0-7be6-4fdc-a1c6-d4da74e2fc90\" type=\"checkbox\" ><label for=\"a2cf2da0-7be6-4fdc-a1c6-d4da74e2fc90\" class=\"sk-toggleable__label sk-toggleable__label-arrow\">remainder</label><div class=\"sk-toggleable__content\"><pre>[&#x27;Pclass&#x27;, &#x27;Family&#x27;]</pre></div></div></div><div class=\"sk-serial\"><div class=\"sk-item\"><div class=\"sk-estimator sk-toggleable\"><input class=\"sk-toggleable__control sk-hidden--visually\" id=\"83ceb9cf-27b2-41d7-8a84-b2a4424bc6df\" type=\"checkbox\" ><label for=\"83ceb9cf-27b2-41d7-8a84-b2a4424bc6df\" class=\"sk-toggleable__label sk-toggleable__label-arrow\">passthrough</label><div class=\"sk-toggleable__content\"><pre>passthrough</pre></div></div></div></div></div></div></div></div><div class=\"sk-item\"><div class=\"sk-estimator sk-toggleable\"><input class=\"sk-toggleable__control sk-hidden--visually\" id=\"cbcd2ad2-b746-4570-98bb-ca82e20faa13\" type=\"checkbox\" ><label for=\"cbcd2ad2-b746-4570-98bb-ca82e20faa13\" class=\"sk-toggleable__label sk-toggleable__label-arrow\">DecisionTreeClassifier</label><div class=\"sk-toggleable__content\"><pre>DecisionTreeClassifier()</pre></div></div></div></div></div></div></div>"
            ]
          },
          "metadata": {},
          "execution_count": 64
        }
      ]
    },
    {
      "cell_type": "code",
      "source": [
        "# retrain the model with best estimator\n",
        "\n",
        "new_model = search.best_estimator_\n",
        "\n",
        "new_model.fit(X_train,y_train)\n",
        "y_pred_train = new_model.predict(X_train)\n",
        "y_pred_test = new_model.predict(X_test)\n",
        "\n",
        "# check the accuracy score\n",
        "\n",
        "print(\"the train score is\",accuracy_score(y_train,y_pred_train))\n",
        "print('The test score is',accuracy_score(y_test,y_pred_test))\n",
        "\n",
        "# check the cross val score\n",
        "\n",
        "from sklearn.model_selection import cross_val_score,GridSearchCV\n",
        "\n",
        "score = cross_val_score(new_model,X,y,cv=10,scoring='accuracy')\n",
        "\n",
        "print('the mean score is',np.mean(score))"
      ],
      "metadata": {
        "colab": {
          "base_uri": "https://localhost:8080/"
        },
        "id": "eP_G8o0a779P",
        "outputId": "83584ea9-2f7d-4803-aa9d-8e7876b5a07d"
      },
      "execution_count": 68,
      "outputs": [
        {
          "output_type": "stream",
          "name": "stdout",
          "text": [
            "the train score is 0.8286516853932584\n",
            "The test score is 0.8100558659217877\n",
            "the mean score is 0.8204369538077405\n"
          ]
        }
      ]
    },
    {
      "cell_type": "code",
      "source": [],
      "metadata": {
        "id": "ng2Tl5Oh8V5I"
      },
      "execution_count": null,
      "outputs": []
    }
  ]
}