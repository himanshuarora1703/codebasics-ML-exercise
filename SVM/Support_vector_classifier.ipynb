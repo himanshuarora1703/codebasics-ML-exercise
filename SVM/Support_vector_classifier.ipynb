{
  "nbformat": 4,
  "nbformat_minor": 0,
  "metadata": {
    "colab": {
      "provenance": [],
      "authorship_tag": "ABX9TyMWrmnB5X5HLYaolIwFzyfw",
      "include_colab_link": true
    },
    "kernelspec": {
      "name": "python3",
      "display_name": "Python 3"
    },
    "language_info": {
      "name": "python"
    }
  },
  "cells": [
    {
      "cell_type": "markdown",
      "metadata": {
        "id": "view-in-github",
        "colab_type": "text"
      },
      "source": [
        "<a href=\"https://colab.research.google.com/github/himanshuarora1703/codebasics-ML-exercise/blob/main/SVM/Support_vector_classifier.ipynb\" target=\"_parent\"><img src=\"https://colab.research.google.com/assets/colab-badge.svg\" alt=\"Open In Colab\"/></a>"
      ]
    },
    {
      "cell_type": "code",
      "execution_count": 1,
      "metadata": {
        "id": "Kyumop1XlnRn"
      },
      "outputs": [],
      "source": [
        "import pandas as pd\n",
        "import numpy as np\n",
        "import matplotlib.pyplot as plt\n",
        "import seaborn as sns\n",
        "from sklearn.datasets import load_digits"
      ]
    },
    {
      "cell_type": "code",
      "source": [
        "data = load_digits()\n",
        "\n",
        "df = pd.DataFrame(data['data'],columns=data['feature_names'])"
      ],
      "metadata": {
        "id": "uYuGEiLsmSFG"
      },
      "execution_count": 7,
      "outputs": []
    },
    {
      "cell_type": "code",
      "source": [
        "data.keys()"
      ],
      "metadata": {
        "colab": {
          "base_uri": "https://localhost:8080/"
        },
        "id": "iANZhlzanKeA",
        "outputId": "2a6cda86-559c-4f58-8d8c-cb5ade0c5eaa"
      },
      "execution_count": 6,
      "outputs": [
        {
          "output_type": "execute_result",
          "data": {
            "text/plain": [
              "dict_keys(['data', 'target', 'frame', 'feature_names', 'target_names', 'images', 'DESCR'])"
            ]
          },
          "metadata": {},
          "execution_count": 6
        }
      ]
    },
    {
      "cell_type": "code",
      "source": [
        "data['target_names']"
      ],
      "metadata": {
        "colab": {
          "base_uri": "https://localhost:8080/"
        },
        "id": "V1BoI2zen87j",
        "outputId": "ae463eda-ef8f-4790-cc2e-39632d66276b"
      },
      "execution_count": 9,
      "outputs": [
        {
          "output_type": "execute_result",
          "data": {
            "text/plain": [
              "array([0, 1, 2, 3, 4, 5, 6, 7, 8, 9])"
            ]
          },
          "metadata": {},
          "execution_count": 9
        }
      ]
    },
    {
      "cell_type": "code",
      "source": [
        "df"
      ],
      "metadata": {
        "colab": {
          "base_uri": "https://localhost:8080/",
          "height": 487
        },
        "id": "BvLNaecznGLw",
        "outputId": "851abe52-3391-4d61-d407-70021a115a54"
      },
      "execution_count": 4,
      "outputs": [
        {
          "output_type": "execute_result",
          "data": {
            "text/plain": [
              "      pixel_0_0  pixel_0_1  pixel_0_2  pixel_0_3  pixel_0_4  pixel_0_5  \\\n",
              "0           0.0        0.0        5.0       13.0        9.0        1.0   \n",
              "1           0.0        0.0        0.0       12.0       13.0        5.0   \n",
              "2           0.0        0.0        0.0        4.0       15.0       12.0   \n",
              "3           0.0        0.0        7.0       15.0       13.0        1.0   \n",
              "4           0.0        0.0        0.0        1.0       11.0        0.0   \n",
              "...         ...        ...        ...        ...        ...        ...   \n",
              "1792        0.0        0.0        4.0       10.0       13.0        6.0   \n",
              "1793        0.0        0.0        6.0       16.0       13.0       11.0   \n",
              "1794        0.0        0.0        1.0       11.0       15.0        1.0   \n",
              "1795        0.0        0.0        2.0       10.0        7.0        0.0   \n",
              "1796        0.0        0.0       10.0       14.0        8.0        1.0   \n",
              "\n",
              "      pixel_0_6  pixel_0_7  pixel_1_0  pixel_1_1  ...  pixel_6_6  pixel_6_7  \\\n",
              "0           0.0        0.0        0.0        0.0  ...        0.0        0.0   \n",
              "1           0.0        0.0        0.0        0.0  ...        0.0        0.0   \n",
              "2           0.0        0.0        0.0        0.0  ...        5.0        0.0   \n",
              "3           0.0        0.0        0.0        8.0  ...        9.0        0.0   \n",
              "4           0.0        0.0        0.0        0.0  ...        0.0        0.0   \n",
              "...         ...        ...        ...        ...  ...        ...        ...   \n",
              "1792        0.0        0.0        0.0        1.0  ...        4.0        0.0   \n",
              "1793        1.0        0.0        0.0        0.0  ...        1.0        0.0   \n",
              "1794        0.0        0.0        0.0        0.0  ...        0.0        0.0   \n",
              "1795        0.0        0.0        0.0        0.0  ...        2.0        0.0   \n",
              "1796        0.0        0.0        0.0        2.0  ...        8.0        0.0   \n",
              "\n",
              "      pixel_7_0  pixel_7_1  pixel_7_2  pixel_7_3  pixel_7_4  pixel_7_5  \\\n",
              "0           0.0        0.0        6.0       13.0       10.0        0.0   \n",
              "1           0.0        0.0        0.0       11.0       16.0       10.0   \n",
              "2           0.0        0.0        0.0        3.0       11.0       16.0   \n",
              "3           0.0        0.0        7.0       13.0       13.0        9.0   \n",
              "4           0.0        0.0        0.0        2.0       16.0        4.0   \n",
              "...         ...        ...        ...        ...        ...        ...   \n",
              "1792        0.0        0.0        2.0       14.0       15.0        9.0   \n",
              "1793        0.0        0.0        6.0       16.0       14.0        6.0   \n",
              "1794        0.0        0.0        2.0        9.0       13.0        6.0   \n",
              "1795        0.0        0.0        5.0       12.0       16.0       12.0   \n",
              "1796        0.0        1.0        8.0       12.0       14.0       12.0   \n",
              "\n",
              "      pixel_7_6  pixel_7_7  \n",
              "0           0.0        0.0  \n",
              "1           0.0        0.0  \n",
              "2           9.0        0.0  \n",
              "3           0.0        0.0  \n",
              "4           0.0        0.0  \n",
              "...         ...        ...  \n",
              "1792        0.0        0.0  \n",
              "1793        0.0        0.0  \n",
              "1794        0.0        0.0  \n",
              "1795        0.0        0.0  \n",
              "1796        1.0        0.0  \n",
              "\n",
              "[1797 rows x 64 columns]"
            ],
            "text/html": [
              "\n",
              "  <div id=\"df-c5bbaba8-5efa-4ee7-8ade-31ca2190893c\">\n",
              "    <div class=\"colab-df-container\">\n",
              "      <div>\n",
              "<style scoped>\n",
              "    .dataframe tbody tr th:only-of-type {\n",
              "        vertical-align: middle;\n",
              "    }\n",
              "\n",
              "    .dataframe tbody tr th {\n",
              "        vertical-align: top;\n",
              "    }\n",
              "\n",
              "    .dataframe thead th {\n",
              "        text-align: right;\n",
              "    }\n",
              "</style>\n",
              "<table border=\"1\" class=\"dataframe\">\n",
              "  <thead>\n",
              "    <tr style=\"text-align: right;\">\n",
              "      <th></th>\n",
              "      <th>pixel_0_0</th>\n",
              "      <th>pixel_0_1</th>\n",
              "      <th>pixel_0_2</th>\n",
              "      <th>pixel_0_3</th>\n",
              "      <th>pixel_0_4</th>\n",
              "      <th>pixel_0_5</th>\n",
              "      <th>pixel_0_6</th>\n",
              "      <th>pixel_0_7</th>\n",
              "      <th>pixel_1_0</th>\n",
              "      <th>pixel_1_1</th>\n",
              "      <th>...</th>\n",
              "      <th>pixel_6_6</th>\n",
              "      <th>pixel_6_7</th>\n",
              "      <th>pixel_7_0</th>\n",
              "      <th>pixel_7_1</th>\n",
              "      <th>pixel_7_2</th>\n",
              "      <th>pixel_7_3</th>\n",
              "      <th>pixel_7_4</th>\n",
              "      <th>pixel_7_5</th>\n",
              "      <th>pixel_7_6</th>\n",
              "      <th>pixel_7_7</th>\n",
              "    </tr>\n",
              "  </thead>\n",
              "  <tbody>\n",
              "    <tr>\n",
              "      <th>0</th>\n",
              "      <td>0.0</td>\n",
              "      <td>0.0</td>\n",
              "      <td>5.0</td>\n",
              "      <td>13.0</td>\n",
              "      <td>9.0</td>\n",
              "      <td>1.0</td>\n",
              "      <td>0.0</td>\n",
              "      <td>0.0</td>\n",
              "      <td>0.0</td>\n",
              "      <td>0.0</td>\n",
              "      <td>...</td>\n",
              "      <td>0.0</td>\n",
              "      <td>0.0</td>\n",
              "      <td>0.0</td>\n",
              "      <td>0.0</td>\n",
              "      <td>6.0</td>\n",
              "      <td>13.0</td>\n",
              "      <td>10.0</td>\n",
              "      <td>0.0</td>\n",
              "      <td>0.0</td>\n",
              "      <td>0.0</td>\n",
              "    </tr>\n",
              "    <tr>\n",
              "      <th>1</th>\n",
              "      <td>0.0</td>\n",
              "      <td>0.0</td>\n",
              "      <td>0.0</td>\n",
              "      <td>12.0</td>\n",
              "      <td>13.0</td>\n",
              "      <td>5.0</td>\n",
              "      <td>0.0</td>\n",
              "      <td>0.0</td>\n",
              "      <td>0.0</td>\n",
              "      <td>0.0</td>\n",
              "      <td>...</td>\n",
              "      <td>0.0</td>\n",
              "      <td>0.0</td>\n",
              "      <td>0.0</td>\n",
              "      <td>0.0</td>\n",
              "      <td>0.0</td>\n",
              "      <td>11.0</td>\n",
              "      <td>16.0</td>\n",
              "      <td>10.0</td>\n",
              "      <td>0.0</td>\n",
              "      <td>0.0</td>\n",
              "    </tr>\n",
              "    <tr>\n",
              "      <th>2</th>\n",
              "      <td>0.0</td>\n",
              "      <td>0.0</td>\n",
              "      <td>0.0</td>\n",
              "      <td>4.0</td>\n",
              "      <td>15.0</td>\n",
              "      <td>12.0</td>\n",
              "      <td>0.0</td>\n",
              "      <td>0.0</td>\n",
              "      <td>0.0</td>\n",
              "      <td>0.0</td>\n",
              "      <td>...</td>\n",
              "      <td>5.0</td>\n",
              "      <td>0.0</td>\n",
              "      <td>0.0</td>\n",
              "      <td>0.0</td>\n",
              "      <td>0.0</td>\n",
              "      <td>3.0</td>\n",
              "      <td>11.0</td>\n",
              "      <td>16.0</td>\n",
              "      <td>9.0</td>\n",
              "      <td>0.0</td>\n",
              "    </tr>\n",
              "    <tr>\n",
              "      <th>3</th>\n",
              "      <td>0.0</td>\n",
              "      <td>0.0</td>\n",
              "      <td>7.0</td>\n",
              "      <td>15.0</td>\n",
              "      <td>13.0</td>\n",
              "      <td>1.0</td>\n",
              "      <td>0.0</td>\n",
              "      <td>0.0</td>\n",
              "      <td>0.0</td>\n",
              "      <td>8.0</td>\n",
              "      <td>...</td>\n",
              "      <td>9.0</td>\n",
              "      <td>0.0</td>\n",
              "      <td>0.0</td>\n",
              "      <td>0.0</td>\n",
              "      <td>7.0</td>\n",
              "      <td>13.0</td>\n",
              "      <td>13.0</td>\n",
              "      <td>9.0</td>\n",
              "      <td>0.0</td>\n",
              "      <td>0.0</td>\n",
              "    </tr>\n",
              "    <tr>\n",
              "      <th>4</th>\n",
              "      <td>0.0</td>\n",
              "      <td>0.0</td>\n",
              "      <td>0.0</td>\n",
              "      <td>1.0</td>\n",
              "      <td>11.0</td>\n",
              "      <td>0.0</td>\n",
              "      <td>0.0</td>\n",
              "      <td>0.0</td>\n",
              "      <td>0.0</td>\n",
              "      <td>0.0</td>\n",
              "      <td>...</td>\n",
              "      <td>0.0</td>\n",
              "      <td>0.0</td>\n",
              "      <td>0.0</td>\n",
              "      <td>0.0</td>\n",
              "      <td>0.0</td>\n",
              "      <td>2.0</td>\n",
              "      <td>16.0</td>\n",
              "      <td>4.0</td>\n",
              "      <td>0.0</td>\n",
              "      <td>0.0</td>\n",
              "    </tr>\n",
              "    <tr>\n",
              "      <th>...</th>\n",
              "      <td>...</td>\n",
              "      <td>...</td>\n",
              "      <td>...</td>\n",
              "      <td>...</td>\n",
              "      <td>...</td>\n",
              "      <td>...</td>\n",
              "      <td>...</td>\n",
              "      <td>...</td>\n",
              "      <td>...</td>\n",
              "      <td>...</td>\n",
              "      <td>...</td>\n",
              "      <td>...</td>\n",
              "      <td>...</td>\n",
              "      <td>...</td>\n",
              "      <td>...</td>\n",
              "      <td>...</td>\n",
              "      <td>...</td>\n",
              "      <td>...</td>\n",
              "      <td>...</td>\n",
              "      <td>...</td>\n",
              "      <td>...</td>\n",
              "    </tr>\n",
              "    <tr>\n",
              "      <th>1792</th>\n",
              "      <td>0.0</td>\n",
              "      <td>0.0</td>\n",
              "      <td>4.0</td>\n",
              "      <td>10.0</td>\n",
              "      <td>13.0</td>\n",
              "      <td>6.0</td>\n",
              "      <td>0.0</td>\n",
              "      <td>0.0</td>\n",
              "      <td>0.0</td>\n",
              "      <td>1.0</td>\n",
              "      <td>...</td>\n",
              "      <td>4.0</td>\n",
              "      <td>0.0</td>\n",
              "      <td>0.0</td>\n",
              "      <td>0.0</td>\n",
              "      <td>2.0</td>\n",
              "      <td>14.0</td>\n",
              "      <td>15.0</td>\n",
              "      <td>9.0</td>\n",
              "      <td>0.0</td>\n",
              "      <td>0.0</td>\n",
              "    </tr>\n",
              "    <tr>\n",
              "      <th>1793</th>\n",
              "      <td>0.0</td>\n",
              "      <td>0.0</td>\n",
              "      <td>6.0</td>\n",
              "      <td>16.0</td>\n",
              "      <td>13.0</td>\n",
              "      <td>11.0</td>\n",
              "      <td>1.0</td>\n",
              "      <td>0.0</td>\n",
              "      <td>0.0</td>\n",
              "      <td>0.0</td>\n",
              "      <td>...</td>\n",
              "      <td>1.0</td>\n",
              "      <td>0.0</td>\n",
              "      <td>0.0</td>\n",
              "      <td>0.0</td>\n",
              "      <td>6.0</td>\n",
              "      <td>16.0</td>\n",
              "      <td>14.0</td>\n",
              "      <td>6.0</td>\n",
              "      <td>0.0</td>\n",
              "      <td>0.0</td>\n",
              "    </tr>\n",
              "    <tr>\n",
              "      <th>1794</th>\n",
              "      <td>0.0</td>\n",
              "      <td>0.0</td>\n",
              "      <td>1.0</td>\n",
              "      <td>11.0</td>\n",
              "      <td>15.0</td>\n",
              "      <td>1.0</td>\n",
              "      <td>0.0</td>\n",
              "      <td>0.0</td>\n",
              "      <td>0.0</td>\n",
              "      <td>0.0</td>\n",
              "      <td>...</td>\n",
              "      <td>0.0</td>\n",
              "      <td>0.0</td>\n",
              "      <td>0.0</td>\n",
              "      <td>0.0</td>\n",
              "      <td>2.0</td>\n",
              "      <td>9.0</td>\n",
              "      <td>13.0</td>\n",
              "      <td>6.0</td>\n",
              "      <td>0.0</td>\n",
              "      <td>0.0</td>\n",
              "    </tr>\n",
              "    <tr>\n",
              "      <th>1795</th>\n",
              "      <td>0.0</td>\n",
              "      <td>0.0</td>\n",
              "      <td>2.0</td>\n",
              "      <td>10.0</td>\n",
              "      <td>7.0</td>\n",
              "      <td>0.0</td>\n",
              "      <td>0.0</td>\n",
              "      <td>0.0</td>\n",
              "      <td>0.0</td>\n",
              "      <td>0.0</td>\n",
              "      <td>...</td>\n",
              "      <td>2.0</td>\n",
              "      <td>0.0</td>\n",
              "      <td>0.0</td>\n",
              "      <td>0.0</td>\n",
              "      <td>5.0</td>\n",
              "      <td>12.0</td>\n",
              "      <td>16.0</td>\n",
              "      <td>12.0</td>\n",
              "      <td>0.0</td>\n",
              "      <td>0.0</td>\n",
              "    </tr>\n",
              "    <tr>\n",
              "      <th>1796</th>\n",
              "      <td>0.0</td>\n",
              "      <td>0.0</td>\n",
              "      <td>10.0</td>\n",
              "      <td>14.0</td>\n",
              "      <td>8.0</td>\n",
              "      <td>1.0</td>\n",
              "      <td>0.0</td>\n",
              "      <td>0.0</td>\n",
              "      <td>0.0</td>\n",
              "      <td>2.0</td>\n",
              "      <td>...</td>\n",
              "      <td>8.0</td>\n",
              "      <td>0.0</td>\n",
              "      <td>0.0</td>\n",
              "      <td>1.0</td>\n",
              "      <td>8.0</td>\n",
              "      <td>12.0</td>\n",
              "      <td>14.0</td>\n",
              "      <td>12.0</td>\n",
              "      <td>1.0</td>\n",
              "      <td>0.0</td>\n",
              "    </tr>\n",
              "  </tbody>\n",
              "</table>\n",
              "<p>1797 rows × 64 columns</p>\n",
              "</div>\n",
              "      <button class=\"colab-df-convert\" onclick=\"convertToInteractive('df-c5bbaba8-5efa-4ee7-8ade-31ca2190893c')\"\n",
              "              title=\"Convert this dataframe to an interactive table.\"\n",
              "              style=\"display:none;\">\n",
              "        \n",
              "  <svg xmlns=\"http://www.w3.org/2000/svg\" height=\"24px\"viewBox=\"0 0 24 24\"\n",
              "       width=\"24px\">\n",
              "    <path d=\"M0 0h24v24H0V0z\" fill=\"none\"/>\n",
              "    <path d=\"M18.56 5.44l.94 2.06.94-2.06 2.06-.94-2.06-.94-.94-2.06-.94 2.06-2.06.94zm-11 1L8.5 8.5l.94-2.06 2.06-.94-2.06-.94L8.5 2.5l-.94 2.06-2.06.94zm10 10l.94 2.06.94-2.06 2.06-.94-2.06-.94-.94-2.06-.94 2.06-2.06.94z\"/><path d=\"M17.41 7.96l-1.37-1.37c-.4-.4-.92-.59-1.43-.59-.52 0-1.04.2-1.43.59L10.3 9.45l-7.72 7.72c-.78.78-.78 2.05 0 2.83L4 21.41c.39.39.9.59 1.41.59.51 0 1.02-.2 1.41-.59l7.78-7.78 2.81-2.81c.8-.78.8-2.07 0-2.86zM5.41 20L4 18.59l7.72-7.72 1.47 1.35L5.41 20z\"/>\n",
              "  </svg>\n",
              "      </button>\n",
              "      \n",
              "  <style>\n",
              "    .colab-df-container {\n",
              "      display:flex;\n",
              "      flex-wrap:wrap;\n",
              "      gap: 12px;\n",
              "    }\n",
              "\n",
              "    .colab-df-convert {\n",
              "      background-color: #E8F0FE;\n",
              "      border: none;\n",
              "      border-radius: 50%;\n",
              "      cursor: pointer;\n",
              "      display: none;\n",
              "      fill: #1967D2;\n",
              "      height: 32px;\n",
              "      padding: 0 0 0 0;\n",
              "      width: 32px;\n",
              "    }\n",
              "\n",
              "    .colab-df-convert:hover {\n",
              "      background-color: #E2EBFA;\n",
              "      box-shadow: 0px 1px 2px rgba(60, 64, 67, 0.3), 0px 1px 3px 1px rgba(60, 64, 67, 0.15);\n",
              "      fill: #174EA6;\n",
              "    }\n",
              "\n",
              "    [theme=dark] .colab-df-convert {\n",
              "      background-color: #3B4455;\n",
              "      fill: #D2E3FC;\n",
              "    }\n",
              "\n",
              "    [theme=dark] .colab-df-convert:hover {\n",
              "      background-color: #434B5C;\n",
              "      box-shadow: 0px 1px 3px 1px rgba(0, 0, 0, 0.15);\n",
              "      filter: drop-shadow(0px 1px 2px rgba(0, 0, 0, 0.3));\n",
              "      fill: #FFFFFF;\n",
              "    }\n",
              "  </style>\n",
              "\n",
              "      <script>\n",
              "        const buttonEl =\n",
              "          document.querySelector('#df-c5bbaba8-5efa-4ee7-8ade-31ca2190893c button.colab-df-convert');\n",
              "        buttonEl.style.display =\n",
              "          google.colab.kernel.accessAllowed ? 'block' : 'none';\n",
              "\n",
              "        async function convertToInteractive(key) {\n",
              "          const element = document.querySelector('#df-c5bbaba8-5efa-4ee7-8ade-31ca2190893c');\n",
              "          const dataTable =\n",
              "            await google.colab.kernel.invokeFunction('convertToInteractive',\n",
              "                                                     [key], {});\n",
              "          if (!dataTable) return;\n",
              "\n",
              "          const docLinkHtml = 'Like what you see? Visit the ' +\n",
              "            '<a target=\"_blank\" href=https://colab.research.google.com/notebooks/data_table.ipynb>data table notebook</a>'\n",
              "            + ' to learn more about interactive tables.';\n",
              "          element.innerHTML = '';\n",
              "          dataTable['output_type'] = 'display_data';\n",
              "          await google.colab.output.renderOutput(dataTable, element);\n",
              "          const docLink = document.createElement('div');\n",
              "          docLink.innerHTML = docLinkHtml;\n",
              "          element.appendChild(docLink);\n",
              "        }\n",
              "      </script>\n",
              "    </div>\n",
              "  </div>\n",
              "  "
            ]
          },
          "metadata": {},
          "execution_count": 4
        }
      ]
    },
    {
      "cell_type": "code",
      "source": [
        "# make X and y\n",
        "\n",
        "X = df.copy()\n",
        "y = data['target']"
      ],
      "metadata": {
        "id": "9SKq1fHWnJGi"
      },
      "execution_count": 54,
      "outputs": []
    },
    {
      "cell_type": "code",
      "source": [
        "y.shape"
      ],
      "metadata": {
        "colab": {
          "base_uri": "https://localhost:8080/"
        },
        "id": "csm5rkGhoK9Y",
        "outputId": "8bc24c42-3db1-40a1-a850-eb7b6de6106b"
      },
      "execution_count": 12,
      "outputs": [
        {
          "output_type": "execute_result",
          "data": {
            "text/plain": [
              "(1797,)"
            ]
          },
          "metadata": {},
          "execution_count": 12
        }
      ]
    },
    {
      "cell_type": "code",
      "source": [
        "# do train test split\n",
        "\n",
        "from sklearn.model_selection import train_test_split\n",
        "\n",
        "X_train,X_test,y_train,y_test = train_test_split(X,y,test_size=0.2)\n",
        "\n",
        "X_train.shape,X_test.shape"
      ],
      "metadata": {
        "colab": {
          "base_uri": "https://localhost:8080/"
        },
        "id": "I4rgxp9XoL1h",
        "outputId": "0efd955b-c87b-4b16-91ae-7cba578c9709"
      },
      "execution_count": 13,
      "outputs": [
        {
          "output_type": "execute_result",
          "data": {
            "text/plain": [
              "((1437, 64), (360, 64))"
            ]
          },
          "metadata": {},
          "execution_count": 13
        }
      ]
    },
    {
      "cell_type": "code",
      "source": [
        "# train the model\n",
        "\n",
        "from sklearn.svm import SVC\n",
        "\n",
        "svc = SVC()\n",
        "\n",
        "svc.fit(X_train,y_train)\n",
        "\n",
        "# predict the outcome\n",
        "y_pred_train = svc.predict(X_train)\n",
        "y_pred_test = svc.predict(X_test)"
      ],
      "metadata": {
        "id": "TqjNnpXZogon"
      },
      "execution_count": 40,
      "outputs": []
    },
    {
      "cell_type": "code",
      "source": [
        "from sklearn.metrics import accuracy_score\n",
        "\n",
        "train_acc = accuracy_score(y_train,y_pred_train)\n",
        "test_acc = accuracy_score(y_test,y_pred_test)\n",
        "\n",
        "print('The train accuracy is',train_acc)\n",
        "print('The test accuracy is',test_acc)"
      ],
      "metadata": {
        "colab": {
          "base_uri": "https://localhost:8080/"
        },
        "id": "3goL-iXbo7zv",
        "outputId": "79608a71-7637-4d12-ae4e-e7f4b41ff949"
      },
      "execution_count": 41,
      "outputs": [
        {
          "output_type": "stream",
          "name": "stdout",
          "text": [
            "The train accuracy is 0.9944328462073765\n",
            "The test accuracy is 0.9888888888888889\n"
          ]
        }
      ]
    },
    {
      "cell_type": "code",
      "source": [
        "# do cross validation\n",
        "\n",
        "from sklearn.model_selection import cross_validate,validation_curve\n",
        "\n",
        "val = cross_validate(svc,X_train,y_train,cv=5,scoring='accuracy',return_train_score=True)\n",
        "\n",
        "val"
      ],
      "metadata": {
        "colab": {
          "base_uri": "https://localhost:8080/"
        },
        "id": "jPPNe3NVp8un",
        "outputId": "6c0f0254-d691-46e4-d64d-2f85bf7e4817"
      },
      "execution_count": 42,
      "outputs": [
        {
          "output_type": "execute_result",
          "data": {
            "text/plain": [
              "{'fit_time': array([0.04129362, 0.03535891, 0.03400517, 0.03402209, 0.03878093]),\n",
              " 'score_time': array([0.01657653, 0.01687813, 0.01686335, 0.01572752, 0.01551008]),\n",
              " 'test_score': array([0.97916667, 0.98263889, 0.99303136, 0.99303136, 0.98606272]),\n",
              " 'train_score': array([0.99477807, 0.99564839, 0.99478261, 0.99217391, 0.99565217])}"
            ]
          },
          "metadata": {},
          "execution_count": 42
        }
      ]
    },
    {
      "cell_type": "code",
      "source": [
        "val_dict = {}\n",
        "\n",
        "for key,val in val.items():\n",
        "    val_dict[key] = np.mean(val)\n",
        "\n",
        "val_dict"
      ],
      "metadata": {
        "colab": {
          "base_uri": "https://localhost:8080/"
        },
        "id": "OxF_qK3_qhk8",
        "outputId": "198e1311-c161-413b-f6d3-3b30c8a37edd"
      },
      "execution_count": 31,
      "outputs": [
        {
          "output_type": "execute_result",
          "data": {
            "text/plain": [
              "{'fit_time': 0.03592500686645508,\n",
              " 'score_time': 0.016954374313354493,\n",
              " 'test_score': 0.986786198219125,\n",
              " 'train_score': 0.9946070306883114}"
            ]
          },
          "metadata": {},
          "execution_count": 31
        }
      ]
    },
    {
      "cell_type": "code",
      "source": [
        "validation_curve(svc,X_train,y_train,param_name='C',param_range=np.arange(0.1,1.1,10),cv=5,scoring='accuracy')"
      ],
      "metadata": {
        "colab": {
          "base_uri": "https://localhost:8080/"
        },
        "id": "F8cFdSHxqmds",
        "outputId": "84a36ee9-5bb9-4698-b4f5-702ac835e850"
      },
      "execution_count": 33,
      "outputs": [
        {
          "output_type": "execute_result",
          "data": {
            "text/plain": [
              "(array([[0.96605744, 0.95039164, 0.95652174, 0.94869565, 0.95304348]]),\n",
              " array([[0.92361111, 0.95138889, 0.94076655, 0.96167247, 0.94773519]]))"
            ]
          },
          "metadata": {},
          "execution_count": 33
        }
      ]
    },
    {
      "cell_type": "code",
      "source": [
        "for name in list(val.keys())[2:]:\n",
        "    x = np.arange(1,6)\n",
        "    y = val[name]\n",
        "    plt.plot(x,y,label=name)\n",
        "    plt.legend()"
      ],
      "metadata": {
        "colab": {
          "base_uri": "https://localhost:8080/",
          "height": 265
        },
        "id": "I1t7vhHMsfRa",
        "outputId": "6de2e1f8-949b-40da-fdc3-85cd966eead3"
      },
      "execution_count": 44,
      "outputs": [
        {
          "output_type": "display_data",
          "data": {
            "text/plain": [
              "<Figure size 432x288 with 1 Axes>"
            ],
            "image/png": "[encoded data removed]"
          },
          "metadata": {
            "needs_background": "light"
          }
        }
      ]
    },
    {
      "cell_type": "code",
      "source": [
        "# do grid search\n",
        "\n",
        "from sklearn.model_selection import GridSearchCV\n",
        "params1 = {'kernel':['rbf','sigmoid'],'gamma':[0.1,1,10,100],'C':[1,5,10,20,100]}\n",
        "params2 = {'kernel':['linear'],'C':[1,5,10,20,100]}\n",
        "search = GridSearchCV(svc,[params1,params2],cv=5,scoring='accuracy',verbose=2)"
      ],
      "metadata": {
        "id": "zvjcEJPArsnR"
      },
      "execution_count": 46,
      "outputs": []
    },
    {
      "cell_type": "code",
      "source": [
        "# fit the grid search\n",
        "\n",
        "search.fit(X_train,y_train)"
      ],
      "metadata": {
        "colab": {
          "base_uri": "https://localhost:8080/"
        },
        "id": "mkdNIxzpus7j",
        "outputId": "d7a2d812-ca5a-4369-f74b-d8e6d2e2b5f5"
      },
      "execution_count": 47,
      "outputs": [
        {
          "output_type": "stream",
          "name": "stdout",
          "text": [
            "Fitting 5 folds for each of 45 candidates, totalling 225 fits\n",
            "[CV] END .........................C=1, gamma=0.1, kernel=rbf; total time=   0.2s\n",
            "[CV] END .........................C=1, gamma=0.1, kernel=rbf; total time=   0.4s\n",
            "[CV] END .........................C=1, gamma=0.1, kernel=rbf; total time=   0.4s\n",
            "[CV] END .........................C=1, gamma=0.1, kernel=rbf; total time=   0.3s\n",
            "[CV] END .........................C=1, gamma=0.1, kernel=rbf; total time=   0.5s\n",
            "[CV] END .....................C=1, gamma=0.1, kernel=sigmoid; total time=   0.2s\n",
            "[CV] END .....................C=1, gamma=0.1, kernel=sigmoid; total time=   0.2s\n",
            "[CV] END .....................C=1, gamma=0.1, kernel=sigmoid; total time=   0.2s\n",
            "[CV] END .....................C=1, gamma=0.1, kernel=sigmoid; total time=   0.1s\n",
            "[CV] END .....................C=1, gamma=0.1, kernel=sigmoid; total time=   0.1s\n",
            "[CV] END ...........................C=1, gamma=1, kernel=rbf; total time=   0.2s\n",
            "[CV] END ...........................C=1, gamma=1, kernel=rbf; total time=   0.2s\n",
            "[CV] END ...........................C=1, gamma=1, kernel=rbf; total time=   0.2s\n",
            "[CV] END ...........................C=1, gamma=1, kernel=rbf; total time=   0.2s\n",
            "[CV] END ...........................C=1, gamma=1, kernel=rbf; total time=   0.2s\n",
            "[CV] END .......................C=1, gamma=1, kernel=sigmoid; total time=   0.1s\n",
            "[CV] END .......................C=1, gamma=1, kernel=sigmoid; total time=   0.1s\n",
            "[CV] END .......................C=1, gamma=1, kernel=sigmoid; total time=   0.1s\n",
            "[CV] END .......................C=1, gamma=1, kernel=sigmoid; total time=   0.1s\n",
            "[CV] END .......................C=1, gamma=1, kernel=sigmoid; total time=   0.1s\n",
            "[CV] END ..........................C=1, gamma=10, kernel=rbf; total time=   0.2s\n",
            "[CV] END ..........................C=1, gamma=10, kernel=rbf; total time=   0.2s\n",
            "[CV] END ..........................C=1, gamma=10, kernel=rbf; total time=   0.2s\n",
            "[CV] END ..........................C=1, gamma=10, kernel=rbf; total time=   0.2s\n",
            "[CV] END ..........................C=1, gamma=10, kernel=rbf; total time=   0.2s\n",
            "[CV] END ......................C=1, gamma=10, kernel=sigmoid; total time=   0.1s\n",
            "[CV] END ......................C=1, gamma=10, kernel=sigmoid; total time=   0.1s\n",
            "[CV] END ......................C=1, gamma=10, kernel=sigmoid; total time=   0.1s\n",
            "[CV] END ......................C=1, gamma=10, kernel=sigmoid; total time=   0.1s\n",
            "[CV] END ......................C=1, gamma=10, kernel=sigmoid; total time=   0.1s\n",
            "[CV] END .........................C=1, gamma=100, kernel=rbf; total time=   0.2s\n",
            "[CV] END .........................C=1, gamma=100, kernel=rbf; total time=   0.2s\n",
            "[CV] END .........................C=1, gamma=100, kernel=rbf; total time=   0.2s\n",
            "[CV] END .........................C=1, gamma=100, kernel=rbf; total time=   0.2s\n",
            "[CV] END .........................C=1, gamma=100, kernel=rbf; total time=   0.2s\n",
            "[CV] END .....................C=1, gamma=100, kernel=sigmoid; total time=   0.1s\n",
            "[CV] END .....................C=1, gamma=100, kernel=sigmoid; total time=   0.1s\n",
            "[CV] END .....................C=1, gamma=100, kernel=sigmoid; total time=   0.1s\n",
            "[CV] END .....................C=1, gamma=100, kernel=sigmoid; total time=   0.1s\n",
            "[CV] END .....................C=1, gamma=100, kernel=sigmoid; total time=   0.1s\n",
            "[CV] END .........................C=5, gamma=0.1, kernel=rbf; total time=   0.2s\n",
            "[CV] END .........................C=5, gamma=0.1, kernel=rbf; total time=   0.2s\n",
            "[CV] END .........................C=5, gamma=0.1, kernel=rbf; total time=   0.2s\n",
            "[CV] END .........................C=5, gamma=0.1, kernel=rbf; total time=   0.2s\n",
            "[CV] END .........................C=5, gamma=0.1, kernel=rbf; total time=   0.2s\n",
            "[CV] END .....................C=5, gamma=0.1, kernel=sigmoid; total time=   0.1s\n",
            "[CV] END .....................C=5, gamma=0.1, kernel=sigmoid; total time=   0.1s\n",
            "[CV] END .....................C=5, gamma=0.1, kernel=sigmoid; total time=   0.1s\n",
            "[CV] END .....................C=5, gamma=0.1, kernel=sigmoid; total time=   0.1s\n",
            "[CV] END .....................C=5, gamma=0.1, kernel=sigmoid; total time=   0.1s\n",
            "[CV] END ...........................C=5, gamma=1, kernel=rbf; total time=   0.2s\n",
            "[CV] END ...........................C=5, gamma=1, kernel=rbf; total time=   0.2s\n",
            "[CV] END ...........................C=5, gamma=1, kernel=rbf; total time=   0.2s\n",
            "[CV] END ...........................C=5, gamma=1, kernel=rbf; total time=   0.2s\n",
            "[CV] END ...........................C=5, gamma=1, kernel=rbf; total time=   0.2s\n",
            "[CV] END .......................C=5, gamma=1, kernel=sigmoid; total time=   0.1s\n",
            "[CV] END .......................C=5, gamma=1, kernel=sigmoid; total time=   0.1s\n",
            "[CV] END .......................C=5, gamma=1, kernel=sigmoid; total time=   0.1s\n",
            "[CV] END .......................C=5, gamma=1, kernel=sigmoid; total time=   0.1s\n",
            "[CV] END .......................C=5, gamma=1, kernel=sigmoid; total time=   0.1s\n",
            "[CV] END ..........................C=5, gamma=10, kernel=rbf; total time=   0.2s\n",
            "[CV] END ..........................C=5, gamma=10, kernel=rbf; total time=   0.2s\n",
            "[CV] END ..........................C=5, gamma=10, kernel=rbf; total time=   0.2s\n",
            "[CV] END ..........................C=5, gamma=10, kernel=rbf; total time=   0.2s\n",
            "[CV] END ..........................C=5, gamma=10, kernel=rbf; total time=   0.2s\n",
            "[CV] END ......................C=5, gamma=10, kernel=sigmoid; total time=   0.1s\n",
            "[CV] END ......................C=5, gamma=10, kernel=sigmoid; total time=   0.1s\n",
            "[CV] END ......................C=5, gamma=10, kernel=sigmoid; total time=   0.1s\n",
            "[CV] END ......................C=5, gamma=10, kernel=sigmoid; total time=   0.1s\n",
            "[CV] END ......................C=5, gamma=10, kernel=sigmoid; total time=   0.1s\n",
            "[CV] END .........................C=5, gamma=100, kernel=rbf; total time=   0.2s\n",
            "[CV] END .........................C=5, gamma=100, kernel=rbf; total time=   0.2s\n",
            "[CV] END .........................C=5, gamma=100, kernel=rbf; total time=   0.2s\n",
            "[CV] END .........................C=5, gamma=100, kernel=rbf; total time=   0.2s\n",
            "[CV] END .........................C=5, gamma=100, kernel=rbf; total time=   0.2s\n",
            "[CV] END .....................C=5, gamma=100, kernel=sigmoid; total time=   0.1s\n",
            "[CV] END .....................C=5, gamma=100, kernel=sigmoid; total time=   0.1s\n",
            "[CV] END .....................C=5, gamma=100, kernel=sigmoid; total time=   0.1s\n",
            "[CV] END .....................C=5, gamma=100, kernel=sigmoid; total time=   0.1s\n",
            "[CV] END .....................C=5, gamma=100, kernel=sigmoid; total time=   0.1s\n",
            "[CV] END ........................C=10, gamma=0.1, kernel=rbf; total time=   0.2s\n",
            "[CV] END ........................C=10, gamma=0.1, kernel=rbf; total time=   0.2s\n",
            "[CV] END ........................C=10, gamma=0.1, kernel=rbf; total time=   0.2s\n",
            "[CV] END ........................C=10, gamma=0.1, kernel=rbf; total time=   0.2s\n",
            "[CV] END ........................C=10, gamma=0.1, kernel=rbf; total time=   0.2s\n",
            "[CV] END ....................C=10, gamma=0.1, kernel=sigmoid; total time=   0.1s\n",
            "[CV] END ....................C=10, gamma=0.1, kernel=sigmoid; total time=   0.1s\n",
            "[CV] END ....................C=10, gamma=0.1, kernel=sigmoid; total time=   0.1s\n",
            "[CV] END ....................C=10, gamma=0.1, kernel=sigmoid; total time=   0.1s\n",
            "[CV] END ....................C=10, gamma=0.1, kernel=sigmoid; total time=   0.1s\n",
            "[CV] END ..........................C=10, gamma=1, kernel=rbf; total time=   0.2s\n",
            "[CV] END ..........................C=10, gamma=1, kernel=rbf; total time=   0.2s\n",
            "[CV] END ..........................C=10, gamma=1, kernel=rbf; total time=   0.2s\n",
            "[CV] END ..........................C=10, gamma=1, kernel=rbf; total time=   0.2s\n",
            "[CV] END ..........................C=10, gamma=1, kernel=rbf; total time=   0.2s\n",
            "[CV] END ......................C=10, gamma=1, kernel=sigmoid; total time=   0.1s\n",
            "[CV] END ......................C=10, gamma=1, kernel=sigmoid; total time=   0.1s\n",
            "[CV] END ......................C=10, gamma=1, kernel=sigmoid; total time=   0.1s\n",
            "[CV] END ......................C=10, gamma=1, kernel=sigmoid; total time=   0.1s\n",
            "[CV] END ......................C=10, gamma=1, kernel=sigmoid; total time=   0.1s\n",
            "[CV] END .........................C=10, gamma=10, kernel=rbf; total time=   0.2s\n",
            "[CV] END .........................C=10, gamma=10, kernel=rbf; total time=   0.2s\n",
            "[CV] END .........................C=10, gamma=10, kernel=rbf; total time=   0.2s\n",
            "[CV] END .........................C=10, gamma=10, kernel=rbf; total time=   0.2s\n",
            "[CV] END .........................C=10, gamma=10, kernel=rbf; total time=   0.2s\n",
            "[CV] END .....................C=10, gamma=10, kernel=sigmoid; total time=   0.1s\n",
            "[CV] END .....................C=10, gamma=10, kernel=sigmoid; total time=   0.1s\n",
            "[CV] END .....................C=10, gamma=10, kernel=sigmoid; total time=   0.1s\n",
            "[CV] END .....................C=10, gamma=10, kernel=sigmoid; total time=   0.1s\n",
            "[CV] END .....................C=10, gamma=10, kernel=sigmoid; total time=   0.1s\n",
            "[CV] END ........................C=10, gamma=100, kernel=rbf; total time=   0.2s\n",
            "[CV] END ........................C=10, gamma=100, kernel=rbf; total time=   0.2s\n",
            "[CV] END ........................C=10, gamma=100, kernel=rbf; total time=   0.2s\n",
            "[CV] END ........................C=10, gamma=100, kernel=rbf; total time=   0.2s\n",
            "[CV] END ........................C=10, gamma=100, kernel=rbf; total time=   0.2s\n",
            "[CV] END ....................C=10, gamma=100, kernel=sigmoid; total time=   0.1s\n",
            "[CV] END ....................C=10, gamma=100, kernel=sigmoid; total time=   0.1s\n",
            "[CV] END ....................C=10, gamma=100, kernel=sigmoid; total time=   0.1s\n",
            "[CV] END ....................C=10, gamma=100, kernel=sigmoid; total time=   0.1s\n",
            "[CV] END ....................C=10, gamma=100, kernel=sigmoid; total time=   0.1s\n",
            "[CV] END ........................C=20, gamma=0.1, kernel=rbf; total time=   0.2s\n",
            "[CV] END ........................C=20, gamma=0.1, kernel=rbf; total time=   0.2s\n",
            "[CV] END ........................C=20, gamma=0.1, kernel=rbf; total time=   0.2s\n",
            "[CV] END ........................C=20, gamma=0.1, kernel=rbf; total time=   0.2s\n",
            "[CV] END ........................C=20, gamma=0.1, kernel=rbf; total time=   0.2s\n",
            "[CV] END ....................C=20, gamma=0.1, kernel=sigmoid; total time=   0.1s\n",
            "[CV] END ....................C=20, gamma=0.1, kernel=sigmoid; total time=   0.1s\n",
            "[CV] END ....................C=20, gamma=0.1, kernel=sigmoid; total time=   0.1s\n",
            "[CV] END ....................C=20, gamma=0.1, kernel=sigmoid; total time=   0.1s\n",
            "[CV] END ....................C=20, gamma=0.1, kernel=sigmoid; total time=   0.1s\n",
            "[CV] END ..........................C=20, gamma=1, kernel=rbf; total time=   0.2s\n",
            "[CV] END ..........................C=20, gamma=1, kernel=rbf; total time=   0.2s\n",
            "[CV] END ..........................C=20, gamma=1, kernel=rbf; total time=   0.2s\n",
            "[CV] END ..........................C=20, gamma=1, kernel=rbf; total time=   0.2s\n",
            "[CV] END ..........................C=20, gamma=1, kernel=rbf; total time=   0.2s\n",
            "[CV] END ......................C=20, gamma=1, kernel=sigmoid; total time=   0.1s\n",
            "[CV] END ......................C=20, gamma=1, kernel=sigmoid; total time=   0.1s\n",
            "[CV] END ......................C=20, gamma=1, kernel=sigmoid; total time=   0.1s\n",
            "[CV] END ......................C=20, gamma=1, kernel=sigmoid; total time=   0.1s\n",
            "[CV] END ......................C=20, gamma=1, kernel=sigmoid; total time=   0.1s\n",
            "[CV] END .........................C=20, gamma=10, kernel=rbf; total time=   0.2s\n",
            "[CV] END .........................C=20, gamma=10, kernel=rbf; total time=   0.2s\n",
            "[CV] END .........................C=20, gamma=10, kernel=rbf; total time=   0.2s\n",
            "[CV] END .........................C=20, gamma=10, kernel=rbf; total time=   0.2s\n",
            "[CV] END .........................C=20, gamma=10, kernel=rbf; total time=   0.2s\n",
            "[CV] END .....................C=20, gamma=10, kernel=sigmoid; total time=   0.1s\n",
            "[CV] END .....................C=20, gamma=10, kernel=sigmoid; total time=   0.1s\n",
            "[CV] END .....................C=20, gamma=10, kernel=sigmoid; total time=   0.1s\n",
            "[CV] END .....................C=20, gamma=10, kernel=sigmoid; total time=   0.1s\n",
            "[CV] END .....................C=20, gamma=10, kernel=sigmoid; total time=   0.1s\n",
            "[CV] END ........................C=20, gamma=100, kernel=rbf; total time=   0.2s\n",
            "[CV] END ........................C=20, gamma=100, kernel=rbf; total time=   0.2s\n",
            "[CV] END ........................C=20, gamma=100, kernel=rbf; total time=   0.2s\n",
            "[CV] END ........................C=20, gamma=100, kernel=rbf; total time=   0.2s\n",
            "[CV] END ........................C=20, gamma=100, kernel=rbf; total time=   0.2s\n",
            "[CV] END ....................C=20, gamma=100, kernel=sigmoid; total time=   0.1s\n",
            "[CV] END ....................C=20, gamma=100, kernel=sigmoid; total time=   0.1s\n",
            "[CV] END ....................C=20, gamma=100, kernel=sigmoid; total time=   0.1s\n",
            "[CV] END ....................C=20, gamma=100, kernel=sigmoid; total time=   0.1s\n",
            "[CV] END ....................C=20, gamma=100, kernel=sigmoid; total time=   0.1s\n",
            "[CV] END .......................C=100, gamma=0.1, kernel=rbf; total time=   0.2s\n",
            "[CV] END .......................C=100, gamma=0.1, kernel=rbf; total time=   0.2s\n",
            "[CV] END .......................C=100, gamma=0.1, kernel=rbf; total time=   0.2s\n",
            "[CV] END .......................C=100, gamma=0.1, kernel=rbf; total time=   0.2s\n",
            "[CV] END .......................C=100, gamma=0.1, kernel=rbf; total time=   0.2s\n",
            "[CV] END ...................C=100, gamma=0.1, kernel=sigmoid; total time=   0.1s\n",
            "[CV] END ...................C=100, gamma=0.1, kernel=sigmoid; total time=   0.1s\n",
            "[CV] END ...................C=100, gamma=0.1, kernel=sigmoid; total time=   0.1s\n",
            "[CV] END ...................C=100, gamma=0.1, kernel=sigmoid; total time=   0.1s\n",
            "[CV] END ...................C=100, gamma=0.1, kernel=sigmoid; total time=   0.1s\n",
            "[CV] END .........................C=100, gamma=1, kernel=rbf; total time=   0.2s\n",
            "[CV] END .........................C=100, gamma=1, kernel=rbf; total time=   0.2s\n",
            "[CV] END .........................C=100, gamma=1, kernel=rbf; total time=   0.2s\n",
            "[CV] END .........................C=100, gamma=1, kernel=rbf; total time=   0.2s\n",
            "[CV] END .........................C=100, gamma=1, kernel=rbf; total time=   0.2s\n",
            "[CV] END .....................C=100, gamma=1, kernel=sigmoid; total time=   0.1s\n",
            "[CV] END .....................C=100, gamma=1, kernel=sigmoid; total time=   0.1s\n",
            "[CV] END .....................C=100, gamma=1, kernel=sigmoid; total time=   0.1s\n",
            "[CV] END .....................C=100, gamma=1, kernel=sigmoid; total time=   0.1s\n",
            "[CV] END .....................C=100, gamma=1, kernel=sigmoid; total time=   0.1s\n",
            "[CV] END ........................C=100, gamma=10, kernel=rbf; total time=   0.2s\n",
            "[CV] END ........................C=100, gamma=10, kernel=rbf; total time=   0.2s\n",
            "[CV] END ........................C=100, gamma=10, kernel=rbf; total time=   0.2s\n",
            "[CV] END ........................C=100, gamma=10, kernel=rbf; total time=   0.2s\n",
            "[CV] END ........................C=100, gamma=10, kernel=rbf; total time=   0.2s\n",
            "[CV] END ....................C=100, gamma=10, kernel=sigmoid; total time=   0.1s\n",
            "[CV] END ....................C=100, gamma=10, kernel=sigmoid; total time=   0.1s\n",
            "[CV] END ....................C=100, gamma=10, kernel=sigmoid; total time=   0.1s\n",
            "[CV] END ....................C=100, gamma=10, kernel=sigmoid; total time=   0.1s\n",
            "[CV] END ....................C=100, gamma=10, kernel=sigmoid; total time=   0.1s\n",
            "[CV] END .......................C=100, gamma=100, kernel=rbf; total time=   0.2s\n",
            "[CV] END .......................C=100, gamma=100, kernel=rbf; total time=   0.2s\n",
            "[CV] END .......................C=100, gamma=100, kernel=rbf; total time=   0.2s\n",
            "[CV] END .......................C=100, gamma=100, kernel=rbf; total time=   0.2s\n",
            "[CV] END .......................C=100, gamma=100, kernel=rbf; total time=   0.2s\n",
            "[CV] END ...................C=100, gamma=100, kernel=sigmoid; total time=   0.1s\n",
            "[CV] END ...................C=100, gamma=100, kernel=sigmoid; total time=   0.1s\n",
            "[CV] END ...................C=100, gamma=100, kernel=sigmoid; total time=   0.1s\n",
            "[CV] END ...................C=100, gamma=100, kernel=sigmoid; total time=   0.1s\n",
            "[CV] END ...................C=100, gamma=100, kernel=sigmoid; total time=   0.1s\n",
            "[CV] END .................................C=1, kernel=linear; total time=   0.0s\n",
            "[CV] END .................................C=1, kernel=linear; total time=   0.0s\n",
            "[CV] END .................................C=1, kernel=linear; total time=   0.0s\n",
            "[CV] END .................................C=1, kernel=linear; total time=   0.0s\n",
            "[CV] END .................................C=1, kernel=linear; total time=   0.0s\n",
            "[CV] END .................................C=5, kernel=linear; total time=   0.0s\n",
            "[CV] END .................................C=5, kernel=linear; total time=   0.0s\n",
            "[CV] END .................................C=5, kernel=linear; total time=   0.0s\n",
            "[CV] END .................................C=5, kernel=linear; total time=   0.0s\n",
            "[CV] END .................................C=5, kernel=linear; total time=   0.0s\n",
            "[CV] END ................................C=10, kernel=linear; total time=   0.0s\n",
            "[CV] END ................................C=10, kernel=linear; total time=   0.0s\n",
            "[CV] END ................................C=10, kernel=linear; total time=   0.0s\n",
            "[CV] END ................................C=10, kernel=linear; total time=   0.0s\n",
            "[CV] END ................................C=10, kernel=linear; total time=   0.0s\n",
            "[CV] END ................................C=20, kernel=linear; total time=   0.0s\n",
            "[CV] END ................................C=20, kernel=linear; total time=   0.0s\n",
            "[CV] END ................................C=20, kernel=linear; total time=   0.0s\n",
            "[CV] END ................................C=20, kernel=linear; total time=   0.0s\n",
            "[CV] END ................................C=20, kernel=linear; total time=   0.0s\n",
            "[CV] END ...............................C=100, kernel=linear; total time=   0.0s\n",
            "[CV] END ...............................C=100, kernel=linear; total time=   0.0s\n",
            "[CV] END ...............................C=100, kernel=linear; total time=   0.0s\n",
            "[CV] END ...............................C=100, kernel=linear; total time=   0.0s\n",
            "[CV] END ...............................C=100, kernel=linear; total time=   0.0s\n"
          ]
        },
        {
          "output_type": "execute_result",
          "data": {
            "text/plain": [
              "GridSearchCV(cv=5, estimator=SVC(),\n",
              "             param_grid=[{'C': [1, 5, 10, 20, 100], 'gamma': [0.1, 1, 10, 100],\n",
              "                          'kernel': ['rbf', 'sigmoid']},\n",
              "                         {'C': [1, 5, 10, 20, 100], 'kernel': ['linear']}],\n",
              "             scoring='accuracy', verbose=2)"
            ]
          },
          "metadata": {},
          "execution_count": 47
        }
      ]
    },
    {
      "cell_type": "code",
      "source": [
        "# best score\n",
        "search.best_score_"
      ],
      "metadata": {
        "colab": {
          "base_uri": "https://localhost:8080/"
        },
        "id": "UO37MBiBu5d6",
        "outputId": "74c24396-8d7d-4985-cf94-1c851b25d7ac"
      },
      "execution_count": 48,
      "outputs": [
        {
          "output_type": "execute_result",
          "data": {
            "text/plain": [
              "0.9763525938830815"
            ]
          },
          "metadata": {},
          "execution_count": 48
        }
      ]
    },
    {
      "cell_type": "code",
      "source": [
        "#best_params\n",
        "\n",
        "search.best_params_"
      ],
      "metadata": {
        "colab": {
          "base_uri": "https://localhost:8080/"
        },
        "id": "SpQK1gyLvG_y",
        "outputId": "82092539-7f9d-4e00-f05c-17c3b424ac19"
      },
      "execution_count": 50,
      "outputs": [
        {
          "output_type": "execute_result",
          "data": {
            "text/plain": [
              "{'C': 1, 'kernel': 'linear'}"
            ]
          },
          "metadata": {},
          "execution_count": 50
        }
      ]
    },
    {
      "cell_type": "code",
      "source": [
        "# train the model with best parameters\n",
        "\n",
        "from sklearn.svm import SVC\n",
        "\n",
        "svc = SVC(kernel='linear')\n",
        "\n",
        "svc.fit(X_train,y_train)\n",
        "\n",
        "# predict the outcome\n",
        "y_pred_train = svc.predict(X_train)\n",
        "y_pred_test = svc.predict(X_test)"
      ],
      "metadata": {
        "id": "jDThfo6ovKB6"
      },
      "execution_count": 51,
      "outputs": []
    },
    {
      "cell_type": "code",
      "source": [
        "from sklearn.metrics import accuracy_score\n",
        "\n",
        "train_acc = accuracy_score(y_train,y_pred_train)\n",
        "test_acc = accuracy_score(y_test,y_pred_test)\n",
        "\n",
        "print('The train accuracy is',train_acc)\n",
        "print('The test accuracy is',test_acc)"
      ],
      "metadata": {
        "colab": {
          "base_uri": "https://localhost:8080/"
        },
        "id": "ymhRLdMyvV-S",
        "outputId": "8f7380d0-746a-46e5-c9fd-9eae613e427c"
      },
      "execution_count": 52,
      "outputs": [
        {
          "output_type": "stream",
          "name": "stdout",
          "text": [
            "The train accuracy is 1.0\n",
            "The test accuracy is 0.9888888888888889\n"
          ]
        }
      ]
    },
    {
      "cell_type": "code",
      "source": [
        "# do cross validation \n",
        "\n",
        "from sklearn.model_selection import cross_val_score\n",
        "\n",
        "score = cross_val_score(svc,X,y,cv=10,scoring='accuracy')\n",
        "\n",
        "print('the mean score is',np.mean(score))"
      ],
      "metadata": {
        "colab": {
          "base_uri": "https://localhost:8080/"
        },
        "id": "As7-KMu0vaDp",
        "outputId": "21ef7fde-6d3d-4dcd-94bd-1f5167db03df"
      },
      "execution_count": 56,
      "outputs": [
        {
          "output_type": "stream",
          "name": "stdout",
          "text": [
            "the mean score is 0.9604872749844816\n"
          ]
        }
      ]
    },
    {
      "cell_type": "code",
      "source": [
        "# do cross validation on train set\n",
        "\n",
        "from sklearn.model_selection import cross_val_score\n",
        "\n",
        "score = cross_val_score(svc,X_train,y_train,cv=10,scoring='accuracy')\n",
        "\n",
        "print('the mean score is',np.mean(score))"
      ],
      "metadata": {
        "colab": {
          "base_uri": "https://localhost:8080/"
        },
        "id": "xm-0ItR1vxAK",
        "outputId": "3ab52a3b-6c13-47a6-eb18-4269aab8aa36"
      },
      "execution_count": 57,
      "outputs": [
        {
          "output_type": "stream",
          "name": "stdout",
          "text": [
            "the mean score is 0.9735674048174049\n"
          ]
        }
      ]
    },
    {
      "cell_type": "code",
      "source": [],
      "metadata": {
        "id": "JvgUq6e9wHbn"
      },
      "execution_count": null,
      "outputs": []
    }
  ]
}